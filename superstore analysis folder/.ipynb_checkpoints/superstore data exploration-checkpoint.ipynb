{
 "cells": [
  {
   "cell_type": "code",
   "execution_count": null,
   "id": "adf7e932-1254-442f-8061-449b3831e9f5",
   "metadata": {},
   "outputs": [],
   "source": []
  },
  {
   "cell_type": "code",
   "execution_count": null,
   "id": "7c3ef164-520a-45e0-8a81-74871d6a6b20",
   "metadata": {},
   "outputs": [],
   "source": []
  },
  {
   "cell_type": "code",
   "execution_count": null,
   "id": "f0a96596-7839-4a6c-ac8e-8bc01d98d214",
   "metadata": {},
   "outputs": [],
   "source": []
  },
  {
   "cell_type": "code",
   "execution_count": null,
   "id": "77f6af55-c935-48e2-a894-4f74ccdd564b",
   "metadata": {},
   "outputs": [],
   "source": [
    "# make sub-category dataframe and view value counts\n",
    "super_df_sub_cat = super_df_drop.Sub_Category.value_counts()\n",
    "super_df_sub_cat"
   ]
  },
  {
   "cell_type": "code",
   "execution_count": null,
   "id": "e5c6e262-1af8-4742-88c1-c09dfb6ca781",
   "metadata": {},
   "outputs": [],
   "source": [
    "super_df_drop.groupby('Category').Sales.sum()"
   ]
  },
  {
   "cell_type": "code",
   "execution_count": null,
   "id": "76920810-7050-4d79-b956-0540a430b270",
   "metadata": {},
   "outputs": [],
   "source": [
    "# decide which more columns to drop to narrow dataframe for machine learning"
   ]
  },
  {
   "cell_type": "code",
   "execution_count": null,
   "id": "3b07fcb8-28ad-4d1e-9c11-1de17496d7c9",
   "metadata": {},
   "outputs": [],
   "source": []
  },
  {
   "cell_type": "code",
   "execution_count": null,
   "id": "a764b24c-0634-4645-be05-5f37ef3bd8f4",
   "metadata": {},
   "outputs": [],
   "source": []
  }
 ],
 "metadata": {
  "kernelspec": {
   "display_name": "mlenv",
   "language": "python",
   "name": "mlenv"
  },
  "language_info": {
   "codemirror_mode": {
    "name": "ipython",
    "version": 3
   },
   "file_extension": ".py",
   "mimetype": "text/x-python",
   "name": "python",
   "nbconvert_exporter": "python",
   "pygments_lexer": "ipython3",
   "version": "3.7.11"
  }
 },
 "nbformat": 4,
 "nbformat_minor": 5
}
