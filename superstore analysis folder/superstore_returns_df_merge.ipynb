{
 "cells": [
  {
   "cell_type": "code",
   "execution_count": 1,
   "id": "b6de806e-3c31-452b-808f-2b966098b771",
   "metadata": {
    "tags": []
   },
   "outputs": [],
   "source": [
    "# not ready to merge until return data is checked and cleaned in other ipynb file\n",
    "# import packages\n",
    "import pandas as pd"
   ]
  },
  {
   "cell_type": "code",
   "execution_count": 2,
   "id": "7fbd89e4-ffa8-403d-9310-9f3c732d9ac1",
   "metadata": {},
   "outputs": [],
   "source": [
    "# Import and read the file:\n",
    "return_df = pd.read_csv(\"resources/global_superstore_returns.csv\")\n",
    "df = pd.read_csv(\"resources/superstore_cleaned_with_OrderID.csv\", index_col=[0])"
   ]
  },
  {
   "cell_type": "code",
   "execution_count": 3,
   "id": "fdebfd38-f10e-4ba8-8d0c-dadd8757f2be",
   "metadata": {},
   "outputs": [
    {
     "data": {
      "text/html": [
       "<div>\n",
       "<style scoped>\n",
       "    .dataframe tbody tr th:only-of-type {\n",
       "        vertical-align: middle;\n",
       "    }\n",
       "\n",
       "    .dataframe tbody tr th {\n",
       "        vertical-align: top;\n",
       "    }\n",
       "\n",
       "    .dataframe thead th {\n",
       "        text-align: right;\n",
       "    }\n",
       "</style>\n",
       "<table border=\"1\" class=\"dataframe\">\n",
       "  <thead>\n",
       "    <tr style=\"text-align: right;\">\n",
       "      <th></th>\n",
       "      <th>Returned</th>\n",
       "      <th>Order ID</th>\n",
       "    </tr>\n",
       "  </thead>\n",
       "  <tbody>\n",
       "    <tr>\n",
       "      <th>0</th>\n",
       "      <td>Yes</td>\n",
       "      <td>CA-2012-SA20830140-41210</td>\n",
       "    </tr>\n",
       "    <tr>\n",
       "      <th>1</th>\n",
       "      <td>Yes</td>\n",
       "      <td>IN-2012-PB19210127-41259</td>\n",
       "    </tr>\n",
       "    <tr>\n",
       "      <th>2</th>\n",
       "      <td>Yes</td>\n",
       "      <td>CA-2012-SC20095140-41174</td>\n",
       "    </tr>\n",
       "    <tr>\n",
       "      <th>3</th>\n",
       "      <td>Yes</td>\n",
       "      <td>IN-2015-JH158207-42140</td>\n",
       "    </tr>\n",
       "    <tr>\n",
       "      <th>4</th>\n",
       "      <td>Yes</td>\n",
       "      <td>IN-2014-LC168857-41747</td>\n",
       "    </tr>\n",
       "    <tr>\n",
       "      <th>...</th>\n",
       "      <td>...</td>\n",
       "      <td>...</td>\n",
       "    </tr>\n",
       "    <tr>\n",
       "      <th>1074</th>\n",
       "      <td>Yes</td>\n",
       "      <td>IN-2014-DA1345058-41769</td>\n",
       "    </tr>\n",
       "    <tr>\n",
       "      <th>1075</th>\n",
       "      <td>Yes</td>\n",
       "      <td>US-2013-HG14845140-41530</td>\n",
       "    </tr>\n",
       "    <tr>\n",
       "      <th>1076</th>\n",
       "      <td>Yes</td>\n",
       "      <td>US-2013-SJ2021582-41543</td>\n",
       "    </tr>\n",
       "    <tr>\n",
       "      <th>1077</th>\n",
       "      <td>Yes</td>\n",
       "      <td>CA-2015-EB13870140-42269</td>\n",
       "    </tr>\n",
       "    <tr>\n",
       "      <th>1078</th>\n",
       "      <td>Yes</td>\n",
       "      <td>EG-2014-PM894038-41846</td>\n",
       "    </tr>\n",
       "  </tbody>\n",
       "</table>\n",
       "<p>1079 rows × 2 columns</p>\n",
       "</div>"
      ],
      "text/plain": [
       "     Returned                  Order ID\n",
       "0         Yes  CA-2012-SA20830140-41210\n",
       "1         Yes  IN-2012-PB19210127-41259\n",
       "2         Yes  CA-2012-SC20095140-41174\n",
       "3         Yes    IN-2015-JH158207-42140\n",
       "4         Yes    IN-2014-LC168857-41747\n",
       "...       ...                       ...\n",
       "1074      Yes   IN-2014-DA1345058-41769\n",
       "1075      Yes  US-2013-HG14845140-41530\n",
       "1076      Yes   US-2013-SJ2021582-41543\n",
       "1077      Yes  CA-2015-EB13870140-42269\n",
       "1078      Yes    EG-2014-PM894038-41846\n",
       "\n",
       "[1079 rows x 2 columns]"
      ]
     },
     "execution_count": 3,
     "metadata": {},
     "output_type": "execute_result"
    }
   ],
   "source": [
    "# drop Order ID\n",
    "return_df = return_df.drop(columns='Region')\n",
    "return_df"
   ]
  },
  {
   "cell_type": "code",
   "execution_count": 4,
   "id": "5ee20cb0-c799-4157-b5cc-4c24c91f44c8",
   "metadata": {},
   "outputs": [
    {
     "data": {
      "text/html": [
       "<div>\n",
       "<style scoped>\n",
       "    .dataframe tbody tr th:only-of-type {\n",
       "        vertical-align: middle;\n",
       "    }\n",
       "\n",
       "    .dataframe tbody tr th {\n",
       "        vertical-align: top;\n",
       "    }\n",
       "\n",
       "    .dataframe thead th {\n",
       "        text-align: right;\n",
       "    }\n",
       "</style>\n",
       "<table border=\"1\" class=\"dataframe\">\n",
       "  <thead>\n",
       "    <tr style=\"text-align: right;\">\n",
       "      <th></th>\n",
       "      <th>Returned</th>\n",
       "      <th>Order ID</th>\n",
       "      <th>Order_Date</th>\n",
       "      <th>Ship_Date</th>\n",
       "      <th>Ship_Mode</th>\n",
       "      <th>Segment</th>\n",
       "      <th>City</th>\n",
       "      <th>State</th>\n",
       "      <th>Country</th>\n",
       "      <th>Region</th>\n",
       "      <th>Market</th>\n",
       "      <th>Category</th>\n",
       "      <th>Sub_Category</th>\n",
       "      <th>Product_Name</th>\n",
       "      <th>Sales</th>\n",
       "      <th>Quantity</th>\n",
       "      <th>Discount</th>\n",
       "      <th>Profit</th>\n",
       "      <th>Shipping_Cost</th>\n",
       "      <th>Order Priority</th>\n",
       "    </tr>\n",
       "  </thead>\n",
       "  <tbody>\n",
       "    <tr>\n",
       "      <th>0</th>\n",
       "      <td>NaN</td>\n",
       "      <td>CA-2014-AB10015140-41954</td>\n",
       "      <td>2014-11-11</td>\n",
       "      <td>2014-11-13</td>\n",
       "      <td>First Class</td>\n",
       "      <td>Consumer</td>\n",
       "      <td>Oklahoma City</td>\n",
       "      <td>Oklahoma</td>\n",
       "      <td>United States</td>\n",
       "      <td>Central US</td>\n",
       "      <td>USCA</td>\n",
       "      <td>Technology</td>\n",
       "      <td>Phones</td>\n",
       "      <td>Samsung Convoy 3</td>\n",
       "      <td>221.98</td>\n",
       "      <td>2</td>\n",
       "      <td>0.0</td>\n",
       "      <td>62.15</td>\n",
       "      <td>40.77</td>\n",
       "      <td>High</td>\n",
       "    </tr>\n",
       "    <tr>\n",
       "      <th>1</th>\n",
       "      <td>NaN</td>\n",
       "      <td>IN-2014-JR162107-41675</td>\n",
       "      <td>2014-02-05</td>\n",
       "      <td>2014-02-07</td>\n",
       "      <td>Second Class</td>\n",
       "      <td>Corporate</td>\n",
       "      <td>Wollongong</td>\n",
       "      <td>New South Wales</td>\n",
       "      <td>Australia</td>\n",
       "      <td>Oceania</td>\n",
       "      <td>Asia Pacific</td>\n",
       "      <td>Furniture</td>\n",
       "      <td>Chairs</td>\n",
       "      <td>Novimex Executive Leather Armchair, Black</td>\n",
       "      <td>3709.40</td>\n",
       "      <td>9</td>\n",
       "      <td>0.1</td>\n",
       "      <td>-288.77</td>\n",
       "      <td>923.63</td>\n",
       "      <td>Critical</td>\n",
       "    </tr>\n",
       "    <tr>\n",
       "      <th>2</th>\n",
       "      <td>NaN</td>\n",
       "      <td>IN-2014-CR127307-41929</td>\n",
       "      <td>2014-10-17</td>\n",
       "      <td>2014-10-18</td>\n",
       "      <td>First Class</td>\n",
       "      <td>Consumer</td>\n",
       "      <td>Brisbane</td>\n",
       "      <td>Queensland</td>\n",
       "      <td>Australia</td>\n",
       "      <td>Oceania</td>\n",
       "      <td>Asia Pacific</td>\n",
       "      <td>Technology</td>\n",
       "      <td>Phones</td>\n",
       "      <td>Nokia Smart Phone, with Caller ID</td>\n",
       "      <td>5175.17</td>\n",
       "      <td>9</td>\n",
       "      <td>0.1</td>\n",
       "      <td>919.97</td>\n",
       "      <td>915.49</td>\n",
       "      <td>Medium</td>\n",
       "    </tr>\n",
       "    <tr>\n",
       "      <th>3</th>\n",
       "      <td>NaN</td>\n",
       "      <td>ES-2014-KM1637548-41667</td>\n",
       "      <td>2014-01-28</td>\n",
       "      <td>2014-01-30</td>\n",
       "      <td>First Class</td>\n",
       "      <td>Home Office</td>\n",
       "      <td>Berlin</td>\n",
       "      <td>Berlin</td>\n",
       "      <td>Germany</td>\n",
       "      <td>Western Europe</td>\n",
       "      <td>Europe</td>\n",
       "      <td>Technology</td>\n",
       "      <td>Phones</td>\n",
       "      <td>Motorola Smart Phone, Cordless</td>\n",
       "      <td>2892.51</td>\n",
       "      <td>5</td>\n",
       "      <td>0.1</td>\n",
       "      <td>-96.54</td>\n",
       "      <td>910.16</td>\n",
       "      <td>Medium</td>\n",
       "    </tr>\n",
       "    <tr>\n",
       "      <th>4</th>\n",
       "      <td>NaN</td>\n",
       "      <td>SG-2014-RH9495111-41948</td>\n",
       "      <td>2014-11-05</td>\n",
       "      <td>2014-11-06</td>\n",
       "      <td>Same Day</td>\n",
       "      <td>Consumer</td>\n",
       "      <td>Dakar</td>\n",
       "      <td>Dakar</td>\n",
       "      <td>Senegal</td>\n",
       "      <td>Western Africa</td>\n",
       "      <td>Africa</td>\n",
       "      <td>Technology</td>\n",
       "      <td>Copiers</td>\n",
       "      <td>Sharp Wireless Fax, High-Speed</td>\n",
       "      <td>2832.96</td>\n",
       "      <td>8</td>\n",
       "      <td>0.0</td>\n",
       "      <td>311.52</td>\n",
       "      <td>903.04</td>\n",
       "      <td>Critical</td>\n",
       "    </tr>\n",
       "  </tbody>\n",
       "</table>\n",
       "</div>"
      ],
      "text/plain": [
       "  Returned                  Order ID  Order_Date   Ship_Date     Ship_Mode  \\\n",
       "0      NaN  CA-2014-AB10015140-41954  2014-11-11  2014-11-13   First Class   \n",
       "1      NaN    IN-2014-JR162107-41675  2014-02-05  2014-02-07  Second Class   \n",
       "2      NaN    IN-2014-CR127307-41929  2014-10-17  2014-10-18   First Class   \n",
       "3      NaN   ES-2014-KM1637548-41667  2014-01-28  2014-01-30   First Class   \n",
       "4      NaN   SG-2014-RH9495111-41948  2014-11-05  2014-11-06      Same Day   \n",
       "\n",
       "       Segment           City            State        Country          Region  \\\n",
       "0     Consumer  Oklahoma City         Oklahoma  United States      Central US   \n",
       "1    Corporate     Wollongong  New South Wales      Australia         Oceania   \n",
       "2     Consumer       Brisbane       Queensland      Australia         Oceania   \n",
       "3  Home Office         Berlin           Berlin        Germany  Western Europe   \n",
       "4     Consumer          Dakar            Dakar        Senegal  Western Africa   \n",
       "\n",
       "         Market    Category Sub_Category  \\\n",
       "0          USCA  Technology       Phones   \n",
       "1  Asia Pacific   Furniture       Chairs   \n",
       "2  Asia Pacific  Technology       Phones   \n",
       "3        Europe  Technology       Phones   \n",
       "4        Africa  Technology      Copiers   \n",
       "\n",
       "                                Product_Name    Sales  Quantity  Discount  \\\n",
       "0                           Samsung Convoy 3   221.98         2       0.0   \n",
       "1  Novimex Executive Leather Armchair, Black  3709.40         9       0.1   \n",
       "2          Nokia Smart Phone, with Caller ID  5175.17         9       0.1   \n",
       "3             Motorola Smart Phone, Cordless  2892.51         5       0.1   \n",
       "4             Sharp Wireless Fax, High-Speed  2832.96         8       0.0   \n",
       "\n",
       "   Profit  Shipping_Cost Order Priority  \n",
       "0   62.15          40.77           High  \n",
       "1 -288.77         923.63       Critical  \n",
       "2  919.97         915.49         Medium  \n",
       "3  -96.54         910.16         Medium  \n",
       "4  311.52         903.04       Critical  "
      ]
     },
     "execution_count": 4,
     "metadata": {},
     "output_type": "execute_result"
    }
   ],
   "source": [
    "# pd.merge(left, right, how='inner', on=None, left_on=None, right_on=None,\n",
    "#          left_index=False, right_index=False, sort=True,\n",
    "#          suffixes=('_x', '_y'), copy=True, indicator=False,\n",
    "#          validate=None)\n",
    "df3_merged = pd.merge(return_df, df, on='Order ID', how='right')\n",
    "df3_merged.head()"
   ]
  },
  {
   "cell_type": "code",
   "execution_count": 14,
   "id": "ad7f20e3-3e4c-4635-8f1b-4cf23d9c8ad7",
   "metadata": {},
   "outputs": [],
   "source": [
    "# change returned \"yes\" to 1\n",
    "df2 = df3_merged.replace('Yes', 1)"
   ]
  },
  {
   "cell_type": "code",
   "execution_count": 15,
   "id": "c00b1a63-9faf-4f94-8432-f91d76eee08e",
   "metadata": {},
   "outputs": [
    {
     "data": {
      "text/plain": [
       "array([nan,  1.])"
      ]
     },
     "execution_count": 15,
     "metadata": {},
     "output_type": "execute_result"
    }
   ],
   "source": [
    "df2['Returned'].unique()"
   ]
  },
  {
   "cell_type": "code",
   "execution_count": 16,
   "id": "4767c448-47f9-4c32-a0c4-12ec18f574c7",
   "metadata": {},
   "outputs": [
    {
     "data": {
      "text/plain": [
       "array([0., 1.])"
      ]
     },
     "execution_count": 16,
     "metadata": {},
     "output_type": "execute_result"
    }
   ],
   "source": [
    "# fill Returned NaNs with 0\n",
    "df2['Returned'] = df2['Returned'].fillna(0)\n",
    "df2['Returned'].unique()"
   ]
  },
  {
   "cell_type": "code",
   "execution_count": 17,
   "id": "8d9ae972-0efc-4692-9d69-bea44fbc40f7",
   "metadata": {},
   "outputs": [
    {
     "data": {
      "text/plain": [
       "2"
      ]
     },
     "execution_count": 17,
     "metadata": {},
     "output_type": "execute_result"
    }
   ],
   "source": [
    "df2[\"Returned\"].nunique()"
   ]
  },
  {
   "cell_type": "code",
   "execution_count": 18,
   "id": "bd10d42f-c7f6-4964-9735-9da52c4bf7f0",
   "metadata": {},
   "outputs": [],
   "source": [
    "# save merged dataframe to resources folder\n",
    "df2.to_csv(\"resources/merged_ss.csv\")"
   ]
  },
  {
   "cell_type": "code",
   "execution_count": null,
   "id": "78e7da4c-49bc-4017-9257-bb37f168f9c2",
   "metadata": {},
   "outputs": [],
   "source": []
  },
  {
   "cell_type": "code",
   "execution_count": null,
   "id": "e1e98831-1be0-444c-828d-ad30bca69b1f",
   "metadata": {},
   "outputs": [],
   "source": []
  },
  {
   "cell_type": "code",
   "execution_count": null,
   "id": "515ffb2c-331a-4f05-acdc-bde1526062c0",
   "metadata": {},
   "outputs": [],
   "source": []
  }
 ],
 "metadata": {
  "kernelspec": {
   "display_name": "mlenv",
   "language": "python",
   "name": "mlenv"
  },
  "language_info": {
   "codemirror_mode": {
    "name": "ipython",
    "version": 3
   },
   "file_extension": ".py",
   "mimetype": "text/x-python",
   "name": "python",
   "nbconvert_exporter": "python",
   "pygments_lexer": "ipython3",
   "version": "3.7.11"
  }
 },
 "nbformat": 4,
 "nbformat_minor": 5
}
