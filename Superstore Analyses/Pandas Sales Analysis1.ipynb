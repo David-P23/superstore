{
 "cells": [
  {
   "cell_type": "markdown",
   "id": "159a5fd2-05ee-49f0-b565-ea0ea23a278a",
   "metadata": {},
   "source": [
    "### Pandas Sales Analysis"
   ]
  },
  {
   "cell_type": "markdown",
   "id": "b2dd3f4b-8804-47fa-9b3e-1609be6e73d5",
   "metadata": {},
   "source": [
    "#### Objective:\n",
    "    \n",
    "\n",
    "    \n",
    "##### - What is overall sales trend?\n",
    "    \n",
    "##### - What are the top 10 products by sales?\n",
    "    \n",
    "##### - What are the most selling products?\n",
    "    \n",
    "##### - What is the most preferred shipping method?\n",
    "    \n",
    "##### - Which are the most profitable category and sub-category?\n",
    "    \n",
    "    "
   ]
  },
  {
   "cell_type": "code",
   "execution_count": 1,
   "id": "45894979-aaa5-4a09-a3ba-dafc06a9406f",
   "metadata": {},
   "outputs": [],
   "source": [
    "# Dependencies\n",
    "import pandas as pd\n",
    "\n",
    "import matplotlib.pyplot as plt\n",
    "%matplotlib inline\n",
    "\n",
    "import seaborn as sns\n",
    "import datetime as dt"
   ]
  },
  {
   "cell_type": "markdown",
   "id": "176083e8-1bf9-41fc-b045-387e46413808",
   "metadata": {},
   "source": [
    "<h4> Importing the dataset"
   ]
  },
  {
   "cell_type": "code",
   "execution_count": 2,
   "id": "15ade43d-0b76-47df-a44a-cc665983e4ae",
   "metadata": {},
   "outputs": [],
   "source": [
    "df = pd.read_csv(\"resources/superstore df cleaned.csv\", index_col=[0])"
   ]
  },
  {
   "cell_type": "markdown",
   "id": "2de9ec19-f5e4-4791-a9f8-7bacde4a3114",
   "metadata": {},
   "source": [
    "<h4> Data Examination"
   ]
  },
  {
   "cell_type": "code",
   "execution_count": 3,
   "id": "7eccb633-475b-4c44-bb91-3e011b03fe6b",
   "metadata": {},
   "outputs": [
    {
     "data": {
      "text/html": [
       "<div>\n",
       "<style scoped>\n",
       "    .dataframe tbody tr th:only-of-type {\n",
       "        vertical-align: middle;\n",
       "    }\n",
       "\n",
       "    .dataframe tbody tr th {\n",
       "        vertical-align: top;\n",
       "    }\n",
       "\n",
       "    .dataframe thead th {\n",
       "        text-align: right;\n",
       "    }\n",
       "</style>\n",
       "<table border=\"1\" class=\"dataframe\">\n",
       "  <thead>\n",
       "    <tr style=\"text-align: right;\">\n",
       "      <th></th>\n",
       "      <th>Order ID</th>\n",
       "      <th>Order_Date</th>\n",
       "      <th>Ship_Date</th>\n",
       "      <th>Ship_Mode</th>\n",
       "      <th>Segment</th>\n",
       "      <th>City</th>\n",
       "      <th>State</th>\n",
       "      <th>Country</th>\n",
       "      <th>Region</th>\n",
       "      <th>Market</th>\n",
       "      <th>Category</th>\n",
       "      <th>Sub_Category</th>\n",
       "      <th>Product_Name</th>\n",
       "      <th>Sales</th>\n",
       "      <th>Quantity</th>\n",
       "      <th>Discount</th>\n",
       "      <th>Profit</th>\n",
       "      <th>Shipping_Cost</th>\n",
       "      <th>Order Priority</th>\n",
       "    </tr>\n",
       "  </thead>\n",
       "  <tbody>\n",
       "    <tr>\n",
       "      <th>0</th>\n",
       "      <td>CA-2014-AB10015140-41954</td>\n",
       "      <td>2014-11-11</td>\n",
       "      <td>2014-11-13</td>\n",
       "      <td>First Class</td>\n",
       "      <td>Consumer</td>\n",
       "      <td>Oklahoma City</td>\n",
       "      <td>Oklahoma</td>\n",
       "      <td>United States</td>\n",
       "      <td>Central US</td>\n",
       "      <td>USCA</td>\n",
       "      <td>Technology</td>\n",
       "      <td>Phones</td>\n",
       "      <td>Samsung Convoy 3</td>\n",
       "      <td>221.98</td>\n",
       "      <td>2</td>\n",
       "      <td>0.0</td>\n",
       "      <td>62.15</td>\n",
       "      <td>40.77</td>\n",
       "      <td>High</td>\n",
       "    </tr>\n",
       "    <tr>\n",
       "      <th>1</th>\n",
       "      <td>IN-2014-JR162107-41675</td>\n",
       "      <td>2014-02-05</td>\n",
       "      <td>2014-02-07</td>\n",
       "      <td>Second Class</td>\n",
       "      <td>Corporate</td>\n",
       "      <td>Wollongong</td>\n",
       "      <td>New South Wales</td>\n",
       "      <td>Australia</td>\n",
       "      <td>Oceania</td>\n",
       "      <td>Asia Pacific</td>\n",
       "      <td>Furniture</td>\n",
       "      <td>Chairs</td>\n",
       "      <td>Novimex Executive Leather Armchair, Black</td>\n",
       "      <td>3709.40</td>\n",
       "      <td>9</td>\n",
       "      <td>0.1</td>\n",
       "      <td>-288.77</td>\n",
       "      <td>923.63</td>\n",
       "      <td>Critical</td>\n",
       "    </tr>\n",
       "    <tr>\n",
       "      <th>2</th>\n",
       "      <td>IN-2014-CR127307-41929</td>\n",
       "      <td>2014-10-17</td>\n",
       "      <td>2014-10-18</td>\n",
       "      <td>First Class</td>\n",
       "      <td>Consumer</td>\n",
       "      <td>Brisbane</td>\n",
       "      <td>Queensland</td>\n",
       "      <td>Australia</td>\n",
       "      <td>Oceania</td>\n",
       "      <td>Asia Pacific</td>\n",
       "      <td>Technology</td>\n",
       "      <td>Phones</td>\n",
       "      <td>Nokia Smart Phone, with Caller ID</td>\n",
       "      <td>5175.17</td>\n",
       "      <td>9</td>\n",
       "      <td>0.1</td>\n",
       "      <td>919.97</td>\n",
       "      <td>915.49</td>\n",
       "      <td>Medium</td>\n",
       "    </tr>\n",
       "    <tr>\n",
       "      <th>3</th>\n",
       "      <td>ES-2014-KM1637548-41667</td>\n",
       "      <td>2014-01-28</td>\n",
       "      <td>2014-01-30</td>\n",
       "      <td>First Class</td>\n",
       "      <td>Home Office</td>\n",
       "      <td>Berlin</td>\n",
       "      <td>Berlin</td>\n",
       "      <td>Germany</td>\n",
       "      <td>Western Europe</td>\n",
       "      <td>Europe</td>\n",
       "      <td>Technology</td>\n",
       "      <td>Phones</td>\n",
       "      <td>Motorola Smart Phone, Cordless</td>\n",
       "      <td>2892.51</td>\n",
       "      <td>5</td>\n",
       "      <td>0.1</td>\n",
       "      <td>-96.54</td>\n",
       "      <td>910.16</td>\n",
       "      <td>Medium</td>\n",
       "    </tr>\n",
       "    <tr>\n",
       "      <th>4</th>\n",
       "      <td>SG-2014-RH9495111-41948</td>\n",
       "      <td>2014-11-05</td>\n",
       "      <td>2014-11-06</td>\n",
       "      <td>Same Day</td>\n",
       "      <td>Consumer</td>\n",
       "      <td>Dakar</td>\n",
       "      <td>Dakar</td>\n",
       "      <td>Senegal</td>\n",
       "      <td>Western Africa</td>\n",
       "      <td>Africa</td>\n",
       "      <td>Technology</td>\n",
       "      <td>Copiers</td>\n",
       "      <td>Sharp Wireless Fax, High-Speed</td>\n",
       "      <td>2832.96</td>\n",
       "      <td>8</td>\n",
       "      <td>0.0</td>\n",
       "      <td>311.52</td>\n",
       "      <td>903.04</td>\n",
       "      <td>Critical</td>\n",
       "    </tr>\n",
       "  </tbody>\n",
       "</table>\n",
       "</div>"
      ],
      "text/plain": [
       "                   Order ID  Order_Date   Ship_Date     Ship_Mode  \\\n",
       "0  CA-2014-AB10015140-41954  2014-11-11  2014-11-13   First Class   \n",
       "1    IN-2014-JR162107-41675  2014-02-05  2014-02-07  Second Class   \n",
       "2    IN-2014-CR127307-41929  2014-10-17  2014-10-18   First Class   \n",
       "3   ES-2014-KM1637548-41667  2014-01-28  2014-01-30   First Class   \n",
       "4   SG-2014-RH9495111-41948  2014-11-05  2014-11-06      Same Day   \n",
       "\n",
       "       Segment           City            State        Country          Region  \\\n",
       "0     Consumer  Oklahoma City         Oklahoma  United States      Central US   \n",
       "1    Corporate     Wollongong  New South Wales      Australia         Oceania   \n",
       "2     Consumer       Brisbane       Queensland      Australia         Oceania   \n",
       "3  Home Office         Berlin           Berlin        Germany  Western Europe   \n",
       "4     Consumer          Dakar            Dakar        Senegal  Western Africa   \n",
       "\n",
       "         Market    Category Sub_Category  \\\n",
       "0          USCA  Technology       Phones   \n",
       "1  Asia Pacific   Furniture       Chairs   \n",
       "2  Asia Pacific  Technology       Phones   \n",
       "3        Europe  Technology       Phones   \n",
       "4        Africa  Technology      Copiers   \n",
       "\n",
       "                                Product_Name    Sales  Quantity  Discount  \\\n",
       "0                           Samsung Convoy 3   221.98         2       0.0   \n",
       "1  Novimex Executive Leather Armchair, Black  3709.40         9       0.1   \n",
       "2          Nokia Smart Phone, with Caller ID  5175.17         9       0.1   \n",
       "3             Motorola Smart Phone, Cordless  2892.51         5       0.1   \n",
       "4             Sharp Wireless Fax, High-Speed  2832.96         8       0.0   \n",
       "\n",
       "   Profit  Shipping_Cost Order Priority  \n",
       "0   62.15          40.77           High  \n",
       "1 -288.77         923.63       Critical  \n",
       "2  919.97         915.49         Medium  \n",
       "3  -96.54         910.16         Medium  \n",
       "4  311.52         903.04       Critical  "
      ]
     },
     "execution_count": 3,
     "metadata": {},
     "output_type": "execute_result"
    }
   ],
   "source": [
    "# first 5 rows of dataset\n",
    "df.head()"
   ]
  },
  {
   "cell_type": "code",
   "execution_count": 4,
   "id": "7b39f198-9030-4f88-8f73-234f4c70ebda",
   "metadata": {},
   "outputs": [
    {
     "data": {
      "text/html": [
       "<div>\n",
       "<style scoped>\n",
       "    .dataframe tbody tr th:only-of-type {\n",
       "        vertical-align: middle;\n",
       "    }\n",
       "\n",
       "    .dataframe tbody tr th {\n",
       "        vertical-align: top;\n",
       "    }\n",
       "\n",
       "    .dataframe thead th {\n",
       "        text-align: right;\n",
       "    }\n",
       "</style>\n",
       "<table border=\"1\" class=\"dataframe\">\n",
       "  <thead>\n",
       "    <tr style=\"text-align: right;\">\n",
       "      <th></th>\n",
       "      <th>Order ID</th>\n",
       "      <th>Order_Date</th>\n",
       "      <th>Ship_Date</th>\n",
       "      <th>Ship_Mode</th>\n",
       "      <th>Segment</th>\n",
       "      <th>City</th>\n",
       "      <th>State</th>\n",
       "      <th>Country</th>\n",
       "      <th>Region</th>\n",
       "      <th>Market</th>\n",
       "      <th>Category</th>\n",
       "      <th>Sub_Category</th>\n",
       "      <th>Product_Name</th>\n",
       "      <th>Sales</th>\n",
       "      <th>Quantity</th>\n",
       "      <th>Discount</th>\n",
       "      <th>Profit</th>\n",
       "      <th>Shipping_Cost</th>\n",
       "      <th>Order Priority</th>\n",
       "    </tr>\n",
       "  </thead>\n",
       "  <tbody>\n",
       "    <tr>\n",
       "      <th>51285</th>\n",
       "      <td>IN-2015-KE1642066-42174</td>\n",
       "      <td>2015-06-19</td>\n",
       "      <td>2015-06-19</td>\n",
       "      <td>Same Day</td>\n",
       "      <td>Corporate</td>\n",
       "      <td>Kure</td>\n",
       "      <td>Hiroshima</td>\n",
       "      <td>Japan</td>\n",
       "      <td>Eastern Asia</td>\n",
       "      <td>Asia Pacific</td>\n",
       "      <td>Office Supplies</td>\n",
       "      <td>Fasteners</td>\n",
       "      <td>Advantus Thumb Tacks, 12 Pack</td>\n",
       "      <td>65.10</td>\n",
       "      <td>5</td>\n",
       "      <td>0.0</td>\n",
       "      <td>4.50</td>\n",
       "      <td>1.010</td>\n",
       "      <td>Medium</td>\n",
       "    </tr>\n",
       "    <tr>\n",
       "      <th>51286</th>\n",
       "      <td>US-2014-ZD21925140-41765</td>\n",
       "      <td>2014-05-06</td>\n",
       "      <td>2014-05-10</td>\n",
       "      <td>Standard Class</td>\n",
       "      <td>Consumer</td>\n",
       "      <td>Chattanooga</td>\n",
       "      <td>Tennessee</td>\n",
       "      <td>United States</td>\n",
       "      <td>Southern US</td>\n",
       "      <td>USCA</td>\n",
       "      <td>Furniture</td>\n",
       "      <td>Furnishings</td>\n",
       "      <td>Eldon Image Series Desk Accessories, Burgundy</td>\n",
       "      <td>16.72</td>\n",
       "      <td>5</td>\n",
       "      <td>0.2</td>\n",
       "      <td>3.34</td>\n",
       "      <td>1.930</td>\n",
       "      <td>High</td>\n",
       "    </tr>\n",
       "    <tr>\n",
       "      <th>51287</th>\n",
       "      <td>CA-2012-ZD21925140-41147</td>\n",
       "      <td>2012-08-26</td>\n",
       "      <td>2012-08-31</td>\n",
       "      <td>Second Class</td>\n",
       "      <td>Consumer</td>\n",
       "      <td>San Francisco</td>\n",
       "      <td>California</td>\n",
       "      <td>United States</td>\n",
       "      <td>Western US</td>\n",
       "      <td>USCA</td>\n",
       "      <td>Office Supplies</td>\n",
       "      <td>Art</td>\n",
       "      <td>Newell 341</td>\n",
       "      <td>8.56</td>\n",
       "      <td>2</td>\n",
       "      <td>0.0</td>\n",
       "      <td>2.48</td>\n",
       "      <td>1.580</td>\n",
       "      <td>High</td>\n",
       "    </tr>\n",
       "    <tr>\n",
       "      <th>51288</th>\n",
       "      <td>MX-2013-RB1979518-41322</td>\n",
       "      <td>2013-02-17</td>\n",
       "      <td>2013-02-21</td>\n",
       "      <td>Standard Class</td>\n",
       "      <td>Home Office</td>\n",
       "      <td>Valinhos</td>\n",
       "      <td>São Paulo</td>\n",
       "      <td>Brazil</td>\n",
       "      <td>South America</td>\n",
       "      <td>LATAM</td>\n",
       "      <td>Office Supplies</td>\n",
       "      <td>Binders</td>\n",
       "      <td>Acco Index Tab, Economy</td>\n",
       "      <td>13.44</td>\n",
       "      <td>2</td>\n",
       "      <td>0.0</td>\n",
       "      <td>2.40</td>\n",
       "      <td>1.003</td>\n",
       "      <td>Medium</td>\n",
       "    </tr>\n",
       "    <tr>\n",
       "      <th>51289</th>\n",
       "      <td>MX-2013-MC1810093-41416</td>\n",
       "      <td>2013-05-22</td>\n",
       "      <td>2013-05-26</td>\n",
       "      <td>Second Class</td>\n",
       "      <td>Consumer</td>\n",
       "      <td>Tipitapa</td>\n",
       "      <td>Managua</td>\n",
       "      <td>Nicaragua</td>\n",
       "      <td>Central America</td>\n",
       "      <td>LATAM</td>\n",
       "      <td>Office Supplies</td>\n",
       "      <td>Paper</td>\n",
       "      <td>Eaton Computer Printout Paper, 8.5 x 11</td>\n",
       "      <td>61.38</td>\n",
       "      <td>3</td>\n",
       "      <td>0.0</td>\n",
       "      <td>1.80</td>\n",
       "      <td>1.002</td>\n",
       "      <td>High</td>\n",
       "    </tr>\n",
       "  </tbody>\n",
       "</table>\n",
       "</div>"
      ],
      "text/plain": [
       "                       Order ID  Order_Date   Ship_Date       Ship_Mode  \\\n",
       "51285   IN-2015-KE1642066-42174  2015-06-19  2015-06-19        Same Day   \n",
       "51286  US-2014-ZD21925140-41765  2014-05-06  2014-05-10  Standard Class   \n",
       "51287  CA-2012-ZD21925140-41147  2012-08-26  2012-08-31    Second Class   \n",
       "51288   MX-2013-RB1979518-41322  2013-02-17  2013-02-21  Standard Class   \n",
       "51289   MX-2013-MC1810093-41416  2013-05-22  2013-05-26    Second Class   \n",
       "\n",
       "           Segment           City       State        Country           Region  \\\n",
       "51285    Corporate           Kure   Hiroshima          Japan     Eastern Asia   \n",
       "51286     Consumer    Chattanooga   Tennessee  United States      Southern US   \n",
       "51287     Consumer  San Francisco  California  United States       Western US   \n",
       "51288  Home Office       Valinhos   São Paulo         Brazil    South America   \n",
       "51289     Consumer       Tipitapa     Managua      Nicaragua  Central America   \n",
       "\n",
       "             Market         Category Sub_Category  \\\n",
       "51285  Asia Pacific  Office Supplies    Fasteners   \n",
       "51286          USCA        Furniture  Furnishings   \n",
       "51287          USCA  Office Supplies          Art   \n",
       "51288         LATAM  Office Supplies      Binders   \n",
       "51289         LATAM  Office Supplies        Paper   \n",
       "\n",
       "                                        Product_Name  Sales  Quantity  \\\n",
       "51285                  Advantus Thumb Tacks, 12 Pack  65.10         5   \n",
       "51286  Eldon Image Series Desk Accessories, Burgundy  16.72         5   \n",
       "51287                                     Newell 341   8.56         2   \n",
       "51288                        Acco Index Tab, Economy  13.44         2   \n",
       "51289        Eaton Computer Printout Paper, 8.5 x 11  61.38         3   \n",
       "\n",
       "       Discount  Profit  Shipping_Cost Order Priority  \n",
       "51285       0.0    4.50          1.010         Medium  \n",
       "51286       0.2    3.34          1.930           High  \n",
       "51287       0.0    2.48          1.580           High  \n",
       "51288       0.0    2.40          1.003         Medium  \n",
       "51289       0.0    1.80          1.002           High  "
      ]
     },
     "execution_count": 4,
     "metadata": {},
     "output_type": "execute_result"
    }
   ],
   "source": [
    "# last five rows of dataset\n",
    "df.tail()"
   ]
  },
  {
   "cell_type": "code",
   "execution_count": 5,
   "id": "dd24c1fa-be02-44b2-a810-795b0ce3eaa9",
   "metadata": {},
   "outputs": [
    {
     "data": {
      "text/plain": [
       "(51290, 19)"
      ]
     },
     "execution_count": 5,
     "metadata": {},
     "output_type": "execute_result"
    }
   ],
   "source": [
    "# shape of dataset\n",
    "df.shape"
   ]
  },
  {
   "cell_type": "code",
   "execution_count": 6,
   "id": "262698d4-a2bd-409f-aa7d-3411b584352d",
   "metadata": {},
   "outputs": [
    {
     "data": {
      "text/plain": [
       "Index(['Order ID', 'Order_Date', 'Ship_Date', 'Ship_Mode', 'Segment', 'City',\n",
       "       'State', 'Country', 'Region', 'Market', 'Category', 'Sub_Category',\n",
       "       'Product_Name', 'Sales', 'Quantity', 'Discount', 'Profit',\n",
       "       'Shipping_Cost', 'Order Priority'],\n",
       "      dtype='object')"
      ]
     },
     "execution_count": 6,
     "metadata": {},
     "output_type": "execute_result"
    }
   ],
   "source": [
    "# columns present in dataset\n",
    "df.columns"
   ]
  },
  {
   "cell_type": "code",
   "execution_count": 7,
   "id": "1af8d2e6-6654-4943-9efb-7fd3ffefcdd3",
   "metadata": {},
   "outputs": [
    {
     "name": "stdout",
     "output_type": "stream",
     "text": [
      "<class 'pandas.core.frame.DataFrame'>\n",
      "Int64Index: 51290 entries, 0 to 51289\n",
      "Data columns (total 19 columns):\n",
      " #   Column          Non-Null Count  Dtype  \n",
      "---  ------          --------------  -----  \n",
      " 0   Order ID        51290 non-null  object \n",
      " 1   Order_Date      51290 non-null  object \n",
      " 2   Ship_Date       51290 non-null  object \n",
      " 3   Ship_Mode       51290 non-null  object \n",
      " 4   Segment         51290 non-null  object \n",
      " 5   City            51290 non-null  object \n",
      " 6   State           51290 non-null  object \n",
      " 7   Country         51290 non-null  object \n",
      " 8   Region          51290 non-null  object \n",
      " 9   Market          51290 non-null  object \n",
      " 10  Category        51290 non-null  object \n",
      " 11  Sub_Category    51290 non-null  object \n",
      " 12  Product_Name    51290 non-null  object \n",
      " 13  Sales           51290 non-null  float64\n",
      " 14  Quantity        51290 non-null  int64  \n",
      " 15  Discount        51290 non-null  float64\n",
      " 16  Profit          51290 non-null  float64\n",
      " 17  Shipping_Cost   51290 non-null  float64\n",
      " 18  Order Priority  51290 non-null  object \n",
      "dtypes: float64(4), int64(1), object(14)\n",
      "memory usage: 7.8+ MB\n"
     ]
    }
   ],
   "source": [
    "# concise summary of the dataset\n",
    "df.info()"
   ]
  },
  {
   "cell_type": "code",
   "execution_count": 8,
   "id": "436f89c9-b822-49bf-bc19-df8e38b7de18",
   "metadata": {},
   "outputs": [
    {
     "data": {
      "text/plain": [
       "Order ID                  object\n",
       "Order_Date        datetime64[ns]\n",
       "Ship_Date         datetime64[ns]\n",
       "Ship_Mode                 object\n",
       "Segment                   object\n",
       "City                      object\n",
       "State                     object\n",
       "Country                   object\n",
       "Region                    object\n",
       "Market                    object\n",
       "Category                  object\n",
       "Sub_Category              object\n",
       "Product_Name              object\n",
       "Sales                    float64\n",
       "Quantity                   int64\n",
       "Discount                 float64\n",
       "Profit                   float64\n",
       "Shipping_Cost            float64\n",
       "Order Priority            object\n",
       "dtype: object"
      ]
     },
     "execution_count": 8,
     "metadata": {},
     "output_type": "execute_result"
    }
   ],
   "source": [
    "# fix date time dtypes in ship date and order date\n",
    "df['Order_Date']= pd.to_datetime(df['Order_Date'])\n",
    "df['Ship_Date']= pd.to_datetime(df['Ship_Date'])\n",
    "df.dtypes"
   ]
  },
  {
   "cell_type": "markdown",
   "id": "eb16489f-f0e9-432e-92d1-02fd48e628f6",
   "metadata": {},
   "source": [
    "<h4> What is the overall sales trend?"
   ]
  },
  {
   "cell_type": "code",
   "execution_count": 9,
   "id": "a39c0c3d-d154-4db3-acf4-b92405ecd05c",
   "metadata": {},
   "outputs": [
    {
     "data": {
      "text/plain": [
       "Timestamp('2012-01-01 00:00:00')"
      ]
     },
     "execution_count": 9,
     "metadata": {},
     "output_type": "execute_result"
    }
   ],
   "source": [
    "df['Order_Date'].min()"
   ]
  },
  {
   "cell_type": "code",
   "execution_count": 10,
   "id": "a845087c-7d04-4dff-b0e5-dbd1b55ce49e",
   "metadata": {},
   "outputs": [
    {
     "data": {
      "text/plain": [
       "Timestamp('2015-12-31 00:00:00')"
      ]
     },
     "execution_count": 10,
     "metadata": {},
     "output_type": "execute_result"
    }
   ],
   "source": [
    "df['Order_Date'].max()"
   ]
  },
  {
   "cell_type": "code",
   "execution_count": 11,
   "id": "4ddcc7b4-a1fe-411e-a1cc-43b74cf84c7d",
   "metadata": {},
   "outputs": [],
   "source": [
    "# getting month year from the dataset\n",
    "df['month_year'] = df[\"Order_Date\"].apply(lambda x: x.strftime('%Y-%m'))"
   ]
  },
  {
   "cell_type": "code",
   "execution_count": 12,
   "id": "611cc578-a5bf-4e47-ae81-a70f523b38b8",
   "metadata": {},
   "outputs": [
    {
     "data": {
      "text/plain": [
       "0        2014-11\n",
       "1        2014-02\n",
       "2        2014-10\n",
       "3        2014-01\n",
       "4        2014-11\n",
       "          ...   \n",
       "51285    2015-06\n",
       "51286    2014-05\n",
       "51287    2012-08\n",
       "51288    2013-02\n",
       "51289    2013-05\n",
       "Name: month_year, Length: 51290, dtype: object"
      ]
     },
     "execution_count": 12,
     "metadata": {},
     "output_type": "execute_result"
    }
   ],
   "source": [
    "df['month_year']"
   ]
  },
  {
   "cell_type": "code",
   "execution_count": 13,
   "id": "c3fbcc9b-5584-4bfd-bc35-b105281ac6f2",
   "metadata": {},
   "outputs": [],
   "source": [
    "# grouping month year \n",
    "df_trend = df.groupby('month_year').sum()['Sales'].reset_index()"
   ]
  },
  {
   "cell_type": "code",
   "execution_count": 14,
   "id": "23d34bee-277d-4d06-ac67-ec3873ecf397",
   "metadata": {},
   "outputs": [
    {
     "data": {
      "image/png": "[encoded data removed]",
      "text/plain": [
       "<Figure size 1080x432 with 1 Axes>"
      ]
     },
     "metadata": {
      "needs_background": "light"
     },
     "output_type": "display_data"
    }
   ],
   "source": [
    "# setting the figure size\n",
    "plt.figure(figsize=(15,6))\n",
    "plt.plot(df_trend['month_year'], df_trend['Sales'], color ='#b80045')\n",
    "plt.xticks(rotation='45', size=10)\n",
    "plt.show()"
   ]
  },
  {
   "cell_type": "markdown",
   "id": "7eb7b577-3fc4-4313-86eb-e4582dd10b4b",
   "metadata": {},
   "source": [
    "<h4> Which are the top 10 products by sales?"
   ]
  },
  {
   "cell_type": "code",
   "execution_count": 15,
   "id": "190bce71-b862-4695-8715-f36d2fcb632d",
   "metadata": {},
   "outputs": [],
   "source": [
    "# grouping product name column\n",
    "prod_sales = pd.DataFrame(df.groupby('Product_Name').sum()['Sales'])"
   ]
  },
  {
   "cell_type": "code",
   "execution_count": 16,
   "id": "dc90cb98-e60c-479c-8f82-d39a015af542",
   "metadata": {},
   "outputs": [],
   "source": [
    "# sorting prod_sales column\n",
    "prod_sales = prod_sales.sort_values('Sales',ascending=False)"
   ]
  },
  {
   "cell_type": "code",
   "execution_count": 17,
   "id": "d2cda98f-982d-42dc-8f40-d77c86f01c34",
   "metadata": {},
   "outputs": [
    {
     "data": {
      "text/html": [
       "<div>\n",
       "<style scoped>\n",
       "    .dataframe tbody tr th:only-of-type {\n",
       "        vertical-align: middle;\n",
       "    }\n",
       "\n",
       "    .dataframe tbody tr th {\n",
       "        vertical-align: top;\n",
       "    }\n",
       "\n",
       "    .dataframe thead th {\n",
       "        text-align: right;\n",
       "    }\n",
       "</style>\n",
       "<table border=\"1\" class=\"dataframe\">\n",
       "  <thead>\n",
       "    <tr style=\"text-align: right;\">\n",
       "      <th></th>\n",
       "      <th>Sales</th>\n",
       "    </tr>\n",
       "    <tr>\n",
       "      <th>Product_Name</th>\n",
       "      <th></th>\n",
       "    </tr>\n",
       "  </thead>\n",
       "  <tbody>\n",
       "    <tr>\n",
       "      <th>Apple Smart Phone, Full Size</th>\n",
       "      <td>86935.79</td>\n",
       "    </tr>\n",
       "    <tr>\n",
       "      <th>Cisco Smart Phone, Full Size</th>\n",
       "      <td>76441.53</td>\n",
       "    </tr>\n",
       "    <tr>\n",
       "      <th>Motorola Smart Phone, Full Size</th>\n",
       "      <td>73156.33</td>\n",
       "    </tr>\n",
       "    <tr>\n",
       "      <th>Nokia Smart Phone, Full Size</th>\n",
       "      <td>71904.56</td>\n",
       "    </tr>\n",
       "    <tr>\n",
       "      <th>Canon imageCLASS 2200 Advanced Copier</th>\n",
       "      <td>61599.83</td>\n",
       "    </tr>\n",
       "    <tr>\n",
       "      <th>Hon Executive Leather Armchair, Adjustable</th>\n",
       "      <td>58193.52</td>\n",
       "    </tr>\n",
       "    <tr>\n",
       "      <th>Office Star Executive Leather Armchair, Adjustable</th>\n",
       "      <td>50661.68</td>\n",
       "    </tr>\n",
       "    <tr>\n",
       "      <th>Harbour Creations Executive Leather Armchair, Adjustable</th>\n",
       "      <td>50121.52</td>\n",
       "    </tr>\n",
       "    <tr>\n",
       "      <th>Samsung Smart Phone, Cordless</th>\n",
       "      <td>48653.46</td>\n",
       "    </tr>\n",
       "    <tr>\n",
       "      <th>Nokia Smart Phone, with Caller ID</th>\n",
       "      <td>47877.80</td>\n",
       "    </tr>\n",
       "  </tbody>\n",
       "</table>\n",
       "</div>"
      ],
      "text/plain": [
       "                                                       Sales\n",
       "Product_Name                                                \n",
       "Apple Smart Phone, Full Size                        86935.79\n",
       "Cisco Smart Phone, Full Size                        76441.53\n",
       "Motorola Smart Phone, Full Size                     73156.33\n",
       "Nokia Smart Phone, Full Size                        71904.56\n",
       "Canon imageCLASS 2200 Advanced Copier               61599.83\n",
       "Hon Executive Leather Armchair, Adjustable          58193.52\n",
       "Office Star Executive Leather Armchair, Adjustable  50661.68\n",
       "Harbour Creations Executive Leather Armchair, A...  50121.52\n",
       "Samsung Smart Phone, Cordless                       48653.46\n",
       "Nokia Smart Phone, with Caller ID                   47877.80"
      ]
     },
     "execution_count": 17,
     "metadata": {},
     "output_type": "execute_result"
    }
   ],
   "source": [
    "# top 10 products by sales\n",
    "prod_sales[:10]"
   ]
  },
  {
   "cell_type": "markdown",
   "id": "1172a938-0986-4bf1-ae2e-1715557c651a",
   "metadata": {},
   "source": [
    "<h4> What are the most selling products?"
   ]
  },
  {
   "cell_type": "code",
   "execution_count": 18,
   "id": "33854b35-89a2-4164-b637-ff4e58d4b42b",
   "metadata": {},
   "outputs": [],
   "source": [
    "# group product name\n",
    "most_sell_prod = pd.DataFrame(df.groupby('Product_Name').sum()['Quantity'])"
   ]
  },
  {
   "cell_type": "code",
   "execution_count": 19,
   "id": "db57ec60-7484-4d9e-9320-f9d0053a4c31",
   "metadata": {},
   "outputs": [
    {
     "data": {
      "text/html": [
       "<div>\n",
       "<style scoped>\n",
       "    .dataframe tbody tr th:only-of-type {\n",
       "        vertical-align: middle;\n",
       "    }\n",
       "\n",
       "    .dataframe tbody tr th {\n",
       "        vertical-align: top;\n",
       "    }\n",
       "\n",
       "    .dataframe thead th {\n",
       "        text-align: right;\n",
       "    }\n",
       "</style>\n",
       "<table border=\"1\" class=\"dataframe\">\n",
       "  <thead>\n",
       "    <tr style=\"text-align: right;\">\n",
       "      <th></th>\n",
       "      <th>Quantity</th>\n",
       "    </tr>\n",
       "    <tr>\n",
       "      <th>Product_Name</th>\n",
       "      <th></th>\n",
       "    </tr>\n",
       "  </thead>\n",
       "  <tbody>\n",
       "    <tr>\n",
       "      <th>Staples</th>\n",
       "      <td>876</td>\n",
       "    </tr>\n",
       "    <tr>\n",
       "      <th>Cardinal Index Tab, Clear</th>\n",
       "      <td>337</td>\n",
       "    </tr>\n",
       "    <tr>\n",
       "      <th>Eldon File Cart, Single Width</th>\n",
       "      <td>321</td>\n",
       "    </tr>\n",
       "    <tr>\n",
       "      <th>Rogers File Cart, Single Width</th>\n",
       "      <td>262</td>\n",
       "    </tr>\n",
       "    <tr>\n",
       "      <th>Sanford Pencil Sharpener, Water Color</th>\n",
       "      <td>259</td>\n",
       "    </tr>\n",
       "    <tr>\n",
       "      <th>...</th>\n",
       "      <td>...</td>\n",
       "    </tr>\n",
       "    <tr>\n",
       "      <th>Penpower WorldCard Pro Card Scanner</th>\n",
       "      <td>1</td>\n",
       "    </tr>\n",
       "    <tr>\n",
       "      <th>Bush Saratoga Collection 5-Shelf Bookcase, Hanover Cherry, *Special Order</th>\n",
       "      <td>1</td>\n",
       "    </tr>\n",
       "    <tr>\n",
       "      <th>Boston 1900 Electric Pencil Sharpener</th>\n",
       "      <td>1</td>\n",
       "    </tr>\n",
       "    <tr>\n",
       "      <th>Xerox 20</th>\n",
       "      <td>1</td>\n",
       "    </tr>\n",
       "    <tr>\n",
       "      <th>Global Enterprise Series Seating Low-Back Swivel/Tilt Chairs</th>\n",
       "      <td>1</td>\n",
       "    </tr>\n",
       "  </tbody>\n",
       "</table>\n",
       "<p>3788 rows × 1 columns</p>\n",
       "</div>"
      ],
      "text/plain": [
       "                                                    Quantity\n",
       "Product_Name                                                \n",
       "Staples                                                  876\n",
       "Cardinal Index Tab, Clear                                337\n",
       "Eldon File Cart, Single Width                            321\n",
       "Rogers File Cart, Single Width                           262\n",
       "Sanford Pencil Sharpener, Water Color                    259\n",
       "...                                                      ...\n",
       "Penpower WorldCard Pro Card Scanner                        1\n",
       "Bush Saratoga Collection 5-Shelf Bookcase, Hano...         1\n",
       "Boston 1900 Electric Pencil Sharpener                      1\n",
       "Xerox 20                                                   1\n",
       "Global Enterprise Series Seating Low-Back Swive...         1\n",
       "\n",
       "[3788 rows x 1 columns]"
      ]
     },
     "execution_count": 19,
     "metadata": {},
     "output_type": "execute_result"
    }
   ],
   "source": [
    "# sorting most_sell_products\n",
    "most_sell_prod.sort_values('Quantity',ascending=False)"
   ]
  },
  {
   "cell_type": "code",
   "execution_count": 20,
   "id": "6df83ff9-f8d0-4dac-9296-e218c7a25a9f",
   "metadata": {},
   "outputs": [
    {
     "data": {
      "text/html": [
       "<div>\n",
       "<style scoped>\n",
       "    .dataframe tbody tr th:only-of-type {\n",
       "        vertical-align: middle;\n",
       "    }\n",
       "\n",
       "    .dataframe tbody tr th {\n",
       "        vertical-align: top;\n",
       "    }\n",
       "\n",
       "    .dataframe thead th {\n",
       "        text-align: right;\n",
       "    }\n",
       "</style>\n",
       "<table border=\"1\" class=\"dataframe\">\n",
       "  <thead>\n",
       "    <tr style=\"text-align: right;\">\n",
       "      <th></th>\n",
       "      <th>Quantity</th>\n",
       "    </tr>\n",
       "    <tr>\n",
       "      <th>Product_Name</th>\n",
       "      <th></th>\n",
       "    </tr>\n",
       "  </thead>\n",
       "  <tbody>\n",
       "    <tr>\n",
       "      <th>\"While you Were Out\" Message Book, One Form per Page</th>\n",
       "      <td>8</td>\n",
       "    </tr>\n",
       "    <tr>\n",
       "      <th>#10 Gummed Flap White Envelopes, 100/Box</th>\n",
       "      <td>11</td>\n",
       "    </tr>\n",
       "    <tr>\n",
       "      <th>#10 Self-Seal White Envelopes</th>\n",
       "      <td>10</td>\n",
       "    </tr>\n",
       "    <tr>\n",
       "      <th>#10 White Business Envelopes,4 1/8 x 9 1/2</th>\n",
       "      <td>32</td>\n",
       "    </tr>\n",
       "    <tr>\n",
       "      <th>#10- 4 1/8\" x 9 1/2\" Recycled Envelopes</th>\n",
       "      <td>37</td>\n",
       "    </tr>\n",
       "    <tr>\n",
       "      <th>#10- 4 1/8\" x 9 1/2\" Security-Tint Envelopes</th>\n",
       "      <td>21</td>\n",
       "    </tr>\n",
       "    <tr>\n",
       "      <th>#10-4 1/8\" x 9 1/2\" Premium Diagonal Seam Envelopes</th>\n",
       "      <td>13</td>\n",
       "    </tr>\n",
       "    <tr>\n",
       "      <th>#6 3/4 Gummed Flap White Envelopes</th>\n",
       "      <td>9</td>\n",
       "    </tr>\n",
       "    <tr>\n",
       "      <th>1.7 Cubic Foot Compact \"Cube\" Office Refrigerators</th>\n",
       "      <td>14</td>\n",
       "    </tr>\n",
       "    <tr>\n",
       "      <th>1/4 Fold Party Design Invitations &amp; White Envelopes, 24 8-1/2\" X 11\" Cards, 25 Env./Pack</th>\n",
       "      <td>7</td>\n",
       "    </tr>\n",
       "  </tbody>\n",
       "</table>\n",
       "</div>"
      ],
      "text/plain": [
       "                                                    Quantity\n",
       "Product_Name                                                \n",
       "\"While you Were Out\" Message Book, One Form per...         8\n",
       "#10 Gummed Flap White Envelopes, 100/Box                  11\n",
       "#10 Self-Seal White Envelopes                             10\n",
       "#10 White Business Envelopes,4 1/8 x 9 1/2                32\n",
       "#10- 4 1/8\" x 9 1/2\" Recycled Envelopes                   37\n",
       "#10- 4 1/8\" x 9 1/2\" Security-Tint Envelopes              21\n",
       "#10-4 1/8\" x 9 1/2\" Premium Diagonal Seam Envel...        13\n",
       "#6 3/4 Gummed Flap White Envelopes                         9\n",
       "1.7 Cubic Foot Compact \"Cube\" Office Refrigerators        14\n",
       "1/4 Fold Party Design Invitations & White Envel...         7"
      ]
     },
     "execution_count": 20,
     "metadata": {},
     "output_type": "execute_result"
    }
   ],
   "source": [
    "most_sell_prod[:10]"
   ]
  },
  {
   "cell_type": "code",
   "execution_count": 21,
   "id": "9d6eabd0-d805-4435-9f50-7132f58e55ee",
   "metadata": {},
   "outputs": [
    {
     "name": "stderr",
     "output_type": "stream",
     "text": [
      "/Users/forrestcasey/opt/anaconda3/envs/mlenv/lib/python3.7/site-packages/seaborn/_decorators.py:43: FutureWarning: Pass the following variable as a keyword arg: x. From version 0.12, the only valid positional argument will be `data`, and passing other arguments without an explicit keyword will result in an error or misinterpretation.\n",
      "  FutureWarning\n"
     ]
    },
    {
     "data": {
      "image/png": "[encoded data removed]",
      "text/plain": [
       "<Figure size 720x612 with 1 Axes>"
      ]
     },
     "metadata": {
      "needs_background": "light"
     },
     "output_type": "display_data"
    }
   ],
   "source": [
    "# setting figure size\n",
    "plt.figure(figsize=(10,8.5))\n",
    "\n",
    "# plotting shipmode\n",
    "sns.countplot(df['Ship_Mode'])\n",
    "plt.show()"
   ]
  },
  {
   "cell_type": "markdown",
   "id": "7c6dacdb-9d16-4f78-b822-f571a2b37a4e",
   "metadata": {},
   "source": [
    "<h4> Most profitable category and sub-category?"
   ]
  },
  {
   "cell_type": "code",
   "execution_count": 22,
   "id": "d16221a6-0429-493f-88f8-9587554b28e7",
   "metadata": {},
   "outputs": [],
   "source": [
    "# grouping category and subcategory\n",
    "cat_subcat_profit = pd.DataFrame(df.groupby(['Category','Sub_Category']).sum()['Profit'])"
   ]
  },
  {
   "cell_type": "code",
   "execution_count": 23,
   "id": "9e9ec78f-8e10-40ed-9dba-feaa054bc5db",
   "metadata": {},
   "outputs": [
    {
     "data": {
      "text/html": [
       "<div>\n",
       "<style scoped>\n",
       "    .dataframe tbody tr th:only-of-type {\n",
       "        vertical-align: middle;\n",
       "    }\n",
       "\n",
       "    .dataframe tbody tr th {\n",
       "        vertical-align: top;\n",
       "    }\n",
       "\n",
       "    .dataframe thead th {\n",
       "        text-align: right;\n",
       "    }\n",
       "</style>\n",
       "<table border=\"1\" class=\"dataframe\">\n",
       "  <thead>\n",
       "    <tr style=\"text-align: right;\">\n",
       "      <th></th>\n",
       "      <th></th>\n",
       "      <th>Profit</th>\n",
       "    </tr>\n",
       "    <tr>\n",
       "      <th>Category</th>\n",
       "      <th>Sub_Category</th>\n",
       "      <th></th>\n",
       "    </tr>\n",
       "  </thead>\n",
       "  <tbody>\n",
       "    <tr>\n",
       "      <th rowspan=\"4\" valign=\"top\">Technology</th>\n",
       "      <th>Copiers</th>\n",
       "      <td>258567.63</td>\n",
       "    </tr>\n",
       "    <tr>\n",
       "      <th>Phones</th>\n",
       "      <td>216717.44</td>\n",
       "    </tr>\n",
       "    <tr>\n",
       "      <th>Accessories</th>\n",
       "      <td>129626.44</td>\n",
       "    </tr>\n",
       "    <tr>\n",
       "      <th>Machines</th>\n",
       "      <td>58867.70</td>\n",
       "    </tr>\n",
       "    <tr>\n",
       "      <th rowspan=\"9\" valign=\"top\">Office Supplies</th>\n",
       "      <th>Appliances</th>\n",
       "      <td>141562.63</td>\n",
       "    </tr>\n",
       "    <tr>\n",
       "      <th>Storage</th>\n",
       "      <td>108416.94</td>\n",
       "    </tr>\n",
       "    <tr>\n",
       "      <th>Binders</th>\n",
       "      <td>72432.92</td>\n",
       "    </tr>\n",
       "    <tr>\n",
       "      <th>Paper</th>\n",
       "      <td>58111.27</td>\n",
       "    </tr>\n",
       "    <tr>\n",
       "      <th>Art</th>\n",
       "      <td>57829.90</td>\n",
       "    </tr>\n",
       "    <tr>\n",
       "      <th>Envelopes</th>\n",
       "      <td>28849.26</td>\n",
       "    </tr>\n",
       "    <tr>\n",
       "      <th>Supplies</th>\n",
       "      <td>22559.04</td>\n",
       "    </tr>\n",
       "    <tr>\n",
       "      <th>Labels</th>\n",
       "      <td>14988.80</td>\n",
       "    </tr>\n",
       "    <tr>\n",
       "      <th>Fasteners</th>\n",
       "      <td>13844.08</td>\n",
       "    </tr>\n",
       "    <tr>\n",
       "      <th rowspan=\"4\" valign=\"top\">Furniture</th>\n",
       "      <th>Bookcases</th>\n",
       "      <td>161924.37</td>\n",
       "    </tr>\n",
       "    <tr>\n",
       "      <th>Chairs</th>\n",
       "      <td>140396.24</td>\n",
       "    </tr>\n",
       "    <tr>\n",
       "      <th>Furnishings</th>\n",
       "      <td>46845.56</td>\n",
       "    </tr>\n",
       "    <tr>\n",
       "      <th>Tables</th>\n",
       "      <td>-64083.55</td>\n",
       "    </tr>\n",
       "  </tbody>\n",
       "</table>\n",
       "</div>"
      ],
      "text/plain": [
       "                                 Profit\n",
       "Category        Sub_Category           \n",
       "Technology      Copiers       258567.63\n",
       "                Phones        216717.44\n",
       "                Accessories   129626.44\n",
       "                Machines       58867.70\n",
       "Office Supplies Appliances    141562.63\n",
       "                Storage       108416.94\n",
       "                Binders        72432.92\n",
       "                Paper          58111.27\n",
       "                Art            57829.90\n",
       "                Envelopes      28849.26\n",
       "                Supplies       22559.04\n",
       "                Labels         14988.80\n",
       "                Fasteners      13844.08\n",
       "Furniture       Bookcases     161924.37\n",
       "                Chairs        140396.24\n",
       "                Furnishings    46845.56\n",
       "                Tables        -64083.55"
      ]
     },
     "execution_count": 23,
     "metadata": {},
     "output_type": "execute_result"
    }
   ],
   "source": [
    "# sorting the result\n",
    "cat_subcat_profit.sort_values(['Category','Profit'],ascending=False)"
   ]
  },
  {
   "cell_type": "markdown",
   "id": "ac71ce0b-f02c-4f88-b3e9-a9bada783327",
   "metadata": {},
   "source": [
    "### Augment data with additional column(s)"
   ]
  },
  {
   "cell_type": "markdown",
   "id": "208bc5bc-11ba-4e86-90a8-4c089ee08440",
   "metadata": {},
   "source": [
    "### Add month column"
   ]
  },
  {
   "cell_type": "code",
   "execution_count": 24,
   "id": "6173268e-3bd3-4906-b887-71cb3acfbbc7",
   "metadata": {},
   "outputs": [
    {
     "data": {
      "text/plain": [
       "Index(['Order ID', 'Order_Date', 'Ship_Date', 'Ship_Mode', 'Segment', 'City',\n",
       "       'State', 'Country', 'Region', 'Market', 'Category', 'Sub_Category',\n",
       "       'Product_Name', 'Sales', 'Quantity', 'Discount', 'Profit',\n",
       "       'Shipping_Cost', 'Order Priority', 'month_year', 'Month'],\n",
       "      dtype='object')"
      ]
     },
     "execution_count": 24,
     "metadata": {},
     "output_type": "execute_result"
    }
   ],
   "source": [
    "df['Month'] = pd.DatetimeIndex(df['Order_Date']).month\n",
    "df.columns"
   ]
  },
  {
   "cell_type": "markdown",
   "id": "6a98ecef-f2a5-46f3-b5fb-90f2741e6b8a",
   "metadata": {},
   "source": [
    "#### Best month for sales? How much was earned from that month?\n"
   ]
  },
  {
   "cell_type": "code",
   "execution_count": 25,
   "id": "88da11eb-6c73-475e-bf69-b34fba59cdc6",
   "metadata": {},
   "outputs": [
    {
     "data": {
      "text/html": [
       "<div>\n",
       "<style scoped>\n",
       "    .dataframe tbody tr th:only-of-type {\n",
       "        vertical-align: middle;\n",
       "    }\n",
       "\n",
       "    .dataframe tbody tr th {\n",
       "        vertical-align: top;\n",
       "    }\n",
       "\n",
       "    .dataframe thead th {\n",
       "        text-align: right;\n",
       "    }\n",
       "</style>\n",
       "<table border=\"1\" class=\"dataframe\">\n",
       "  <thead>\n",
       "    <tr style=\"text-align: right;\">\n",
       "      <th></th>\n",
       "      <th>Sales</th>\n",
       "      <th>Quantity</th>\n",
       "      <th>Discount</th>\n",
       "      <th>Profit</th>\n",
       "      <th>Shipping_Cost</th>\n",
       "    </tr>\n",
       "    <tr>\n",
       "      <th>Month</th>\n",
       "      <th></th>\n",
       "      <th></th>\n",
       "      <th></th>\n",
       "      <th></th>\n",
       "      <th></th>\n",
       "    </tr>\n",
       "  </thead>\n",
       "  <tbody>\n",
       "    <tr>\n",
       "      <th>1</th>\n",
       "      <td>676789.30</td>\n",
       "      <td>8872</td>\n",
       "      <td>365.122</td>\n",
       "      <td>73440.45</td>\n",
       "      <td>71225.18900</td>\n",
       "    </tr>\n",
       "    <tr>\n",
       "      <th>2</th>\n",
       "      <td>554650.21</td>\n",
       "      <td>7429</td>\n",
       "      <td>307.574</td>\n",
       "      <td>72932.18</td>\n",
       "      <td>59878.28000</td>\n",
       "    </tr>\n",
       "    <tr>\n",
       "      <th>3</th>\n",
       "      <td>760518.34</td>\n",
       "      <td>10390</td>\n",
       "      <td>432.354</td>\n",
       "      <td>91873.45</td>\n",
       "      <td>76723.92404</td>\n",
       "    </tr>\n",
       "    <tr>\n",
       "      <th>4</th>\n",
       "      <td>695978.86</td>\n",
       "      <td>10466</td>\n",
       "      <td>448.146</td>\n",
       "      <td>73822.57</td>\n",
       "      <td>75072.86600</td>\n",
       "    </tr>\n",
       "    <tr>\n",
       "      <th>5</th>\n",
       "      <td>915493.24</td>\n",
       "      <td>13196</td>\n",
       "      <td>543.822</td>\n",
       "      <td>106970.07</td>\n",
       "      <td>102015.17500</td>\n",
       "    </tr>\n",
       "  </tbody>\n",
       "</table>\n",
       "</div>"
      ],
      "text/plain": [
       "           Sales  Quantity  Discount     Profit  Shipping_Cost\n",
       "Month                                                         \n",
       "1      676789.30      8872   365.122   73440.45    71225.18900\n",
       "2      554650.21      7429   307.574   72932.18    59878.28000\n",
       "3      760518.34     10390   432.354   91873.45    76723.92404\n",
       "4      695978.86     10466   448.146   73822.57    75072.86600\n",
       "5      915493.24     13196   543.822  106970.07   102015.17500"
      ]
     },
     "execution_count": 25,
     "metadata": {},
     "output_type": "execute_result"
    }
   ],
   "source": [
    "results = df.groupby('Month').sum()\n",
    "results.head()"
   ]
  },
  {
   "cell_type": "code",
   "execution_count": 26,
   "id": "ec3c9baa-0675-44e5-8647-4c71a983ba05",
   "metadata": {},
   "outputs": [
    {
     "data": {
      "image/png": "[encoded data removed]",
      "text/plain": [
       "<Figure size 432x288 with 1 Axes>"
      ]
     },
     "metadata": {
      "needs_background": "light"
     },
     "output_type": "display_data"
    }
   ],
   "source": [
    "import matplotlib.pyplot as plt\n",
    "\n",
    "Months = range(1,13)\n",
    "\n",
    "plt.bar(Months, results['Sales'])\n",
    "plt.xticks(Months)\n",
    "plt.ylabel('Sales in USD ($)')\n",
    "plt.xlabel('Month number')\n",
    "plt.show()"
   ]
  },
  {
   "cell_type": "markdown",
   "id": "709bcea8-811d-466b-808a-e99b7de1dbd1",
   "metadata": {
    "tags": []
   },
   "source": [
    "### What products are most often sold together?"
   ]
  },
  {
   "cell_type": "code",
   "execution_count": 27,
   "id": "05037cd1-eab7-43dd-a143-fbc7bf5f89f3",
   "metadata": {},
   "outputs": [],
   "source": [
    "# first we need to make the prod names readable, they are mixed in with their descriptions\n",
    "# splitting product names from descriptions in Product_Name column\n",
    "split_df = df['Product_Name'].str.split(\",\", n = 1, expand = True)"
   ]
  },
  {
   "cell_type": "code",
   "execution_count": 37,
   "id": "4ef0d2d6-d723-473d-a76e-8f248a1eee56",
   "metadata": {},
   "outputs": [],
   "source": [
    "# rename columns\n",
    "split_df = split_df.rename(columns={0:'Product_Name', 1:'Product_Description'})"
   ]
  },
  {
   "cell_type": "code",
   "execution_count": 38,
   "id": "b80a730b-6fdd-45d7-b525-b46c9e25edd7",
   "metadata": {},
   "outputs": [
    {
     "data": {
      "text/html": [
       "<div>\n",
       "<style scoped>\n",
       "    .dataframe tbody tr th:only-of-type {\n",
       "        vertical-align: middle;\n",
       "    }\n",
       "\n",
       "    .dataframe tbody tr th {\n",
       "        vertical-align: top;\n",
       "    }\n",
       "\n",
       "    .dataframe thead th {\n",
       "        text-align: right;\n",
       "    }\n",
       "</style>\n",
       "<table border=\"1\" class=\"dataframe\">\n",
       "  <thead>\n",
       "    <tr style=\"text-align: right;\">\n",
       "      <th></th>\n",
       "      <th>Product_Name</th>\n",
       "      <th>Product_Description</th>\n",
       "    </tr>\n",
       "  </thead>\n",
       "  <tbody>\n",
       "    <tr>\n",
       "      <th>0</th>\n",
       "      <td>Samsung Convoy 3</td>\n",
       "      <td>None</td>\n",
       "    </tr>\n",
       "    <tr>\n",
       "      <th>1</th>\n",
       "      <td>Novimex Executive Leather Armchair</td>\n",
       "      <td>Black</td>\n",
       "    </tr>\n",
       "    <tr>\n",
       "      <th>2</th>\n",
       "      <td>Nokia Smart Phone</td>\n",
       "      <td>with Caller ID</td>\n",
       "    </tr>\n",
       "    <tr>\n",
       "      <th>3</th>\n",
       "      <td>Motorola Smart Phone</td>\n",
       "      <td>Cordless</td>\n",
       "    </tr>\n",
       "    <tr>\n",
       "      <th>4</th>\n",
       "      <td>Sharp Wireless Fax</td>\n",
       "      <td>High-Speed</td>\n",
       "    </tr>\n",
       "  </tbody>\n",
       "</table>\n",
       "</div>"
      ],
      "text/plain": [
       "                         Product_Name Product_Description\n",
       "0                    Samsung Convoy 3                None\n",
       "1  Novimex Executive Leather Armchair               Black\n",
       "2                   Nokia Smart Phone      with Caller ID\n",
       "3                Motorola Smart Phone            Cordless\n",
       "4                  Sharp Wireless Fax          High-Speed"
      ]
     },
     "execution_count": 38,
     "metadata": {},
     "output_type": "execute_result"
    }
   ],
   "source": [
    "# combine new columns into original dataframe\n",
    "split_df.head()"
   ]
  },
  {
   "cell_type": "code",
   "execution_count": 30,
   "id": "45194157-af44-479b-9c20-83922387b8b1",
   "metadata": {},
   "outputs": [],
   "source": [
    "# drop previous Product_Name column\n"
   ]
  },
  {
   "cell_type": "code",
   "execution_count": 31,
   "id": "32d2e451-e2c3-47d7-aa24-f0bd1e1b43f2",
   "metadata": {},
   "outputs": [
    {
     "data": {
      "text/html": [
       "<div>\n",
       "<style scoped>\n",
       "    .dataframe tbody tr th:only-of-type {\n",
       "        vertical-align: middle;\n",
       "    }\n",
       "\n",
       "    .dataframe tbody tr th {\n",
       "        vertical-align: top;\n",
       "    }\n",
       "\n",
       "    .dataframe thead th {\n",
       "        text-align: right;\n",
       "    }\n",
       "</style>\n",
       "<table border=\"1\" class=\"dataframe\">\n",
       "  <thead>\n",
       "    <tr style=\"text-align: right;\">\n",
       "      <th></th>\n",
       "      <th>Order ID</th>\n",
       "      <th>Grouped</th>\n",
       "    </tr>\n",
       "  </thead>\n",
       "  <tbody>\n",
       "    <tr>\n",
       "      <th>0</th>\n",
       "      <td>CA-2014-AB10015140-41954</td>\n",
       "      <td>Samsung Convoy 3,Sauder Facets Collection Libr...</td>\n",
       "    </tr>\n",
       "    <tr>\n",
       "      <th>1</th>\n",
       "      <td>IN-2014-JR162107-41675</td>\n",
       "      <td>Novimex Executive Leather Armchair, Black,Brot...</td>\n",
       "    </tr>\n",
       "    <tr>\n",
       "      <th>2</th>\n",
       "      <td>IN-2014-CR127307-41929</td>\n",
       "      <td>Nokia Smart Phone, with Caller ID,Apple Speake...</td>\n",
       "    </tr>\n",
       "    <tr>\n",
       "      <th>5</th>\n",
       "      <td>IN-2014-JM156557-41818</td>\n",
       "      <td>Samsung Smart Phone, with Caller ID,Hewlett Fa...</td>\n",
       "    </tr>\n",
       "    <tr>\n",
       "      <th>6</th>\n",
       "      <td>IN-2012-TS2134092-41219</td>\n",
       "      <td>Novimex Executive Leather Armchair, Adjustable...</td>\n",
       "    </tr>\n",
       "  </tbody>\n",
       "</table>\n",
       "</div>"
      ],
      "text/plain": [
       "                   Order ID                                            Grouped\n",
       "0  CA-2014-AB10015140-41954  Samsung Convoy 3,Sauder Facets Collection Libr...\n",
       "1    IN-2014-JR162107-41675  Novimex Executive Leather Armchair, Black,Brot...\n",
       "2    IN-2014-CR127307-41929  Nokia Smart Phone, with Caller ID,Apple Speake...\n",
       "5    IN-2014-JM156557-41818  Samsung Smart Phone, with Caller ID,Hewlett Fa...\n",
       "6   IN-2012-TS2134092-41219  Novimex Executive Leather Armchair, Adjustable..."
      ]
     },
     "execution_count": 31,
     "metadata": {},
     "output_type": "execute_result"
    }
   ],
   "source": [
    "# group products most often sold together\n",
    "# df = df[df['Order ID'].duplicated(keep=False)]\n",
    "\n",
    "df['Grouped'] = df.groupby('Order ID')['Product_Name'].transform(lambda x: ','.join(x))\n",
    "\n",
    "grouped = df[['Order ID','Grouped']].drop_duplicates()\n",
    "\n",
    "grouped.head()"
   ]
  },
  {
   "cell_type": "code",
   "execution_count": 32,
   "id": "40ddc575-dd87-45e8-ac7a-759793f1a03e",
   "metadata": {},
   "outputs": [],
   "source": [
    "from itertools import combinations\n",
    "from collections import Counter"
   ]
  },
  {
   "cell_type": "code",
   "execution_count": 33,
   "id": "b7ea64f4-6264-4023-9f2d-8988082108aa",
   "metadata": {},
   "outputs": [
    {
     "name": "stdout",
     "output_type": "stream",
     "text": [
      "('Hon Executive Leather Armchair', ' Adjustable', 'Novimex Rocking Chair', ' Black', ' Durable') 6\n",
      "('Hon Executive Leather Armchair', ' Adjustable', 'Novimex Rocking Chair', 'Motorola Speaker Phone', ' Durable') 6\n",
      "('Hon Executive Leather Armchair', ' Adjustable', 'Novimex Rocking Chair', ' VoIP', ' Durable') 6\n",
      "('Hon Executive Leather Armchair', ' Adjustable', 'Novimex Rocking Chair', 'Avery Hole Reinforcements', ' Durable') 6\n",
      "(' Adjustable', 'Novimex Rocking Chair', ' Black', 'Motorola Speaker Phone', ' Durable') 6\n",
      "(' Adjustable', 'Novimex Rocking Chair', ' Black', ' VoIP', ' Durable') 6\n",
      "(' Adjustable', 'Novimex Rocking Chair', ' Black', 'Avery Hole Reinforcements', ' Durable') 6\n",
      "(' Adjustable', 'Novimex Rocking Chair', 'Motorola Speaker Phone', ' VoIP', ' Durable') 6\n",
      "(' Adjustable', 'Novimex Rocking Chair', 'Motorola Speaker Phone', 'Avery Hole Reinforcements', ' Durable') 6\n",
      "(' Adjustable', 'Novimex Rocking Chair', ' VoIP', 'Avery Hole Reinforcements', ' Durable') 6\n"
     ]
    }
   ],
   "source": [
    "count = Counter()\n",
    "\n",
    "for row in grouped['Grouped']:\n",
    "    row_list = row.split(',')\n",
    "    count.update(Counter(combinations(row_list,5)))\n",
    "    \n",
    "for key, value in count.most_common(10):\n",
    "    print(key, value)"
   ]
  },
  {
   "cell_type": "code",
   "execution_count": 34,
   "id": "df3a9722-3421-4614-b97a-c65641a7a1da",
   "metadata": {},
   "outputs": [],
   "source": [
    "df['Product_Name'] = pd.DataFrame(df['Product_Name'])"
   ]
  },
  {
   "cell_type": "code",
   "execution_count": 35,
   "id": "16d4eb0c-b6ce-4f21-add4-302c80e07e46",
   "metadata": {},
   "outputs": [
    {
     "data": {
      "text/html": [
       "<div>\n",
       "<style scoped>\n",
       "    .dataframe tbody tr th:only-of-type {\n",
       "        vertical-align: middle;\n",
       "    }\n",
       "\n",
       "    .dataframe tbody tr th {\n",
       "        vertical-align: top;\n",
       "    }\n",
       "\n",
       "    .dataframe thead th {\n",
       "        text-align: right;\n",
       "    }\n",
       "</style>\n",
       "<table border=\"1\" class=\"dataframe\">\n",
       "  <thead>\n",
       "    <tr style=\"text-align: right;\">\n",
       "      <th></th>\n",
       "      <th>Order ID</th>\n",
       "      <th>Order_Date</th>\n",
       "      <th>Ship_Date</th>\n",
       "      <th>Ship_Mode</th>\n",
       "      <th>Segment</th>\n",
       "      <th>City</th>\n",
       "      <th>State</th>\n",
       "      <th>Country</th>\n",
       "      <th>Region</th>\n",
       "      <th>Market</th>\n",
       "      <th>...</th>\n",
       "      <th>Product_Name</th>\n",
       "      <th>Sales</th>\n",
       "      <th>Quantity</th>\n",
       "      <th>Discount</th>\n",
       "      <th>Profit</th>\n",
       "      <th>Shipping_Cost</th>\n",
       "      <th>Order Priority</th>\n",
       "      <th>month_year</th>\n",
       "      <th>Month</th>\n",
       "      <th>Grouped</th>\n",
       "    </tr>\n",
       "  </thead>\n",
       "  <tbody>\n",
       "    <tr>\n",
       "      <th>0</th>\n",
       "      <td>CA-2014-AB10015140-41954</td>\n",
       "      <td>2014-11-11</td>\n",
       "      <td>2014-11-13</td>\n",
       "      <td>First Class</td>\n",
       "      <td>Consumer</td>\n",
       "      <td>Oklahoma City</td>\n",
       "      <td>Oklahoma</td>\n",
       "      <td>United States</td>\n",
       "      <td>Central US</td>\n",
       "      <td>USCA</td>\n",
       "      <td>...</td>\n",
       "      <td>Samsung Convoy 3</td>\n",
       "      <td>221.98</td>\n",
       "      <td>2</td>\n",
       "      <td>0.0</td>\n",
       "      <td>62.15</td>\n",
       "      <td>40.77</td>\n",
       "      <td>High</td>\n",
       "      <td>2014-11</td>\n",
       "      <td>11</td>\n",
       "      <td>Samsung Convoy 3,Sauder Facets Collection Libr...</td>\n",
       "    </tr>\n",
       "    <tr>\n",
       "      <th>1</th>\n",
       "      <td>IN-2014-JR162107-41675</td>\n",
       "      <td>2014-02-05</td>\n",
       "      <td>2014-02-07</td>\n",
       "      <td>Second Class</td>\n",
       "      <td>Corporate</td>\n",
       "      <td>Wollongong</td>\n",
       "      <td>New South Wales</td>\n",
       "      <td>Australia</td>\n",
       "      <td>Oceania</td>\n",
       "      <td>Asia Pacific</td>\n",
       "      <td>...</td>\n",
       "      <td>Novimex Executive Leather Armchair, Black</td>\n",
       "      <td>3709.40</td>\n",
       "      <td>9</td>\n",
       "      <td>0.1</td>\n",
       "      <td>-288.77</td>\n",
       "      <td>923.63</td>\n",
       "      <td>Critical</td>\n",
       "      <td>2014-02</td>\n",
       "      <td>2</td>\n",
       "      <td>Novimex Executive Leather Armchair, Black,Brot...</td>\n",
       "    </tr>\n",
       "  </tbody>\n",
       "</table>\n",
       "<p>2 rows × 22 columns</p>\n",
       "</div>"
      ],
      "text/plain": [
       "                   Order ID Order_Date  Ship_Date     Ship_Mode    Segment  \\\n",
       "0  CA-2014-AB10015140-41954 2014-11-11 2014-11-13   First Class   Consumer   \n",
       "1    IN-2014-JR162107-41675 2014-02-05 2014-02-07  Second Class  Corporate   \n",
       "\n",
       "            City            State        Country      Region        Market  \\\n",
       "0  Oklahoma City         Oklahoma  United States  Central US          USCA   \n",
       "1     Wollongong  New South Wales      Australia     Oceania  Asia Pacific   \n",
       "\n",
       "   ...                               Product_Name    Sales Quantity  Discount  \\\n",
       "0  ...                           Samsung Convoy 3   221.98        2       0.0   \n",
       "1  ...  Novimex Executive Leather Armchair, Black  3709.40        9       0.1   \n",
       "\n",
       "   Profit  Shipping_Cost  Order Priority  month_year Month  \\\n",
       "0   62.15          40.77            High     2014-11    11   \n",
       "1 -288.77         923.63        Critical     2014-02     2   \n",
       "\n",
       "                                             Grouped  \n",
       "0  Samsung Convoy 3,Sauder Facets Collection Libr...  \n",
       "1  Novimex Executive Leather Armchair, Black,Brot...  \n",
       "\n",
       "[2 rows x 22 columns]"
      ]
     },
     "execution_count": 35,
     "metadata": {},
     "output_type": "execute_result"
    }
   ],
   "source": [
    "df.head(2)"
   ]
  },
  {
   "cell_type": "markdown",
   "id": "33539111-c5b1-4e33-aa99-eb9125169f02",
   "metadata": {},
   "source": [
    "### what product sold the most? Why do you think it sold the most"
   ]
  },
  {
   "cell_type": "code",
   "execution_count": null,
   "id": "31ee8984-cf34-4500-b467-ad3ab86dedd0",
   "metadata": {},
   "outputs": [],
   "source": []
  },
  {
   "cell_type": "code",
   "execution_count": null,
   "id": "5ab2c1c8-4356-4b2b-b43f-80edbbdf9314",
   "metadata": {},
   "outputs": [],
   "source": []
  },
  {
   "cell_type": "code",
   "execution_count": null,
   "id": "c553cc6e-dfba-4c72-9451-cb35e6450555",
   "metadata": {},
   "outputs": [],
   "source": []
  },
  {
   "cell_type": "code",
   "execution_count": 36,
   "id": "e5368f05-4a37-4704-afa7-6b1f92b69658",
   "metadata": {},
   "outputs": [
    {
     "data": {
      "text/html": [
       "<div>\n",
       "<style scoped>\n",
       "    .dataframe tbody tr th:only-of-type {\n",
       "        vertical-align: middle;\n",
       "    }\n",
       "\n",
       "    .dataframe tbody tr th {\n",
       "        vertical-align: top;\n",
       "    }\n",
       "\n",
       "    .dataframe thead th {\n",
       "        text-align: right;\n",
       "    }\n",
       "</style>\n",
       "<table border=\"1\" class=\"dataframe\">\n",
       "  <thead>\n",
       "    <tr style=\"text-align: right;\">\n",
       "      <th></th>\n",
       "      <th>Sales</th>\n",
       "    </tr>\n",
       "    <tr>\n",
       "      <th>Country</th>\n",
       "      <th></th>\n",
       "    </tr>\n",
       "  </thead>\n",
       "  <tbody>\n",
       "    <tr>\n",
       "      <th>United States</th>\n",
       "      <td>1773580.06</td>\n",
       "    </tr>\n",
       "    <tr>\n",
       "      <th>Australia</th>\n",
       "      <td>688327.15</td>\n",
       "    </tr>\n",
       "    <tr>\n",
       "      <th>France</th>\n",
       "      <td>626304.51</td>\n",
       "    </tr>\n",
       "    <tr>\n",
       "      <th>China</th>\n",
       "      <td>532260.60</td>\n",
       "    </tr>\n",
       "    <tr>\n",
       "      <th>Germany</th>\n",
       "      <td>479113.14</td>\n",
       "    </tr>\n",
       "    <tr>\n",
       "      <th>India</th>\n",
       "      <td>448458.49</td>\n",
       "    </tr>\n",
       "    <tr>\n",
       "      <th>Mexico</th>\n",
       "      <td>446381.82</td>\n",
       "    </tr>\n",
       "    <tr>\n",
       "      <th>United Kingdom</th>\n",
       "      <td>376857.26</td>\n",
       "    </tr>\n",
       "    <tr>\n",
       "      <th>Indonesia</th>\n",
       "      <td>299287.89</td>\n",
       "    </tr>\n",
       "    <tr>\n",
       "      <th>Brazil</th>\n",
       "      <td>261096.62</td>\n",
       "    </tr>\n",
       "    <tr>\n",
       "      <th>Italy</th>\n",
       "      <td>217037.47</td>\n",
       "    </tr>\n",
       "    <tr>\n",
       "      <th>Spain</th>\n",
       "      <td>202622.72</td>\n",
       "    </tr>\n",
       "    <tr>\n",
       "      <th>Philippines</th>\n",
       "      <td>138543.91</td>\n",
       "    </tr>\n",
       "    <tr>\n",
       "      <th>New Zealand</th>\n",
       "      <td>133261.53</td>\n",
       "    </tr>\n",
       "    <tr>\n",
       "      <th>El Salvador</th>\n",
       "      <td>128340.01</td>\n",
       "    </tr>\n",
       "    <tr>\n",
       "      <th>Cuba</th>\n",
       "      <td>118714.03</td>\n",
       "    </tr>\n",
       "    <tr>\n",
       "      <th>Nicaragua</th>\n",
       "      <td>114876.55</td>\n",
       "    </tr>\n",
       "    <tr>\n",
       "      <th>Dominican Republic</th>\n",
       "      <td>94583.47</td>\n",
       "    </tr>\n",
       "    <tr>\n",
       "      <th>Guatemala</th>\n",
       "      <td>90944.78</td>\n",
       "    </tr>\n",
       "    <tr>\n",
       "      <th>Iran</th>\n",
       "      <td>83484.36</td>\n",
       "    </tr>\n",
       "  </tbody>\n",
       "</table>\n",
       "</div>"
      ],
      "text/plain": [
       "                         Sales\n",
       "Country                       \n",
       "United States       1773580.06\n",
       "Australia            688327.15\n",
       "France               626304.51\n",
       "China                532260.60\n",
       "Germany              479113.14\n",
       "India                448458.49\n",
       "Mexico               446381.82\n",
       "United Kingdom       376857.26\n",
       "Indonesia            299287.89\n",
       "Brazil               261096.62\n",
       "Italy                217037.47\n",
       "Spain                202622.72\n",
       "Philippines          138543.91\n",
       "New Zealand          133261.53\n",
       "El Salvador          128340.01\n",
       "Cuba                 118714.03\n",
       "Nicaragua            114876.55\n",
       "Dominican Republic    94583.47\n",
       "Guatemala             90944.78\n",
       "Iran                  83484.36"
      ]
     },
     "execution_count": 36,
     "metadata": {},
     "output_type": "execute_result"
    }
   ],
   "source": [
    "# top 20 countries with top sales\n",
    "country_sales = pd.DataFrame(df.groupby('Country').sum()['Sales'])\n",
    "country_sales = country_sales.sort_values(by = 'Sales',ascending=False)\n",
    "country_sales.head(20)"
   ]
  },
  {
   "cell_type": "code",
   "execution_count": null,
   "id": "555e857d-fe2a-4a56-89ed-a8953ea99ae0",
   "metadata": {},
   "outputs": [],
   "source": []
  },
  {
   "cell_type": "code",
   "execution_count": null,
   "id": "807bc390-4098-451e-a91c-1a8856f04fd3",
   "metadata": {},
   "outputs": [],
   "source": []
  },
  {
   "cell_type": "code",
   "execution_count": null,
   "id": "826aee03-1e9c-4d10-b094-b5576c42ebce",
   "metadata": {},
   "outputs": [],
   "source": []
  },
  {
   "cell_type": "code",
   "execution_count": null,
   "id": "4b957008-8d69-4829-b81b-ce87fe15550e",
   "metadata": {},
   "outputs": [],
   "source": []
  },
  {
   "cell_type": "code",
   "execution_count": null,
   "id": "50ea9388-77b1-46e4-b89e-4ccbd3c974c1",
   "metadata": {},
   "outputs": [],
   "source": []
  },
  {
   "cell_type": "code",
   "execution_count": null,
   "id": "044a124b-f55c-4cf4-aba8-0ac6792d3130",
   "metadata": {},
   "outputs": [],
   "source": []
  },
  {
   "cell_type": "code",
   "execution_count": null,
   "id": "53618d77-8428-48f4-a848-d8b26dd10c85",
   "metadata": {},
   "outputs": [],
   "source": []
  },
  {
   "cell_type": "code",
   "execution_count": null,
   "id": "c1cc4f93-7f86-4f00-9619-a47a0fc47cd8",
   "metadata": {},
   "outputs": [],
   "source": []
  },
  {
   "cell_type": "code",
   "execution_count": null,
   "id": "acf51434-1138-4985-919a-720f407251a2",
   "metadata": {},
   "outputs": [],
   "source": []
  },
  {
   "cell_type": "code",
   "execution_count": null,
   "id": "dbc99f75-eaa7-451b-a159-4d955e6cb026",
   "metadata": {},
   "outputs": [],
   "source": []
  },
  {
   "cell_type": "code",
   "execution_count": null,
   "id": "6ea48ef3-42ca-4e4a-aa24-80778a7301f4",
   "metadata": {},
   "outputs": [],
   "source": []
  }
 ],
 "metadata": {
  "kernelspec": {
   "display_name": "mlenv",
   "language": "python",
   "name": "mlenv"
  },
  "language_info": {
   "codemirror_mode": {
    "name": "ipython",
    "version": 3
   },
   "file_extension": ".py",
   "mimetype": "text/x-python",
   "name": "python",
   "nbconvert_exporter": "python",
   "pygments_lexer": "ipython3",
   "version": "3.7.11"
  }
 },
 "nbformat": 4,
 "nbformat_minor": 5
}
