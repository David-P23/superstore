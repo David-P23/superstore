{
 "cells": [
  {
   "cell_type": "markdown",
   "metadata": {},
   "source": [
    "# Exploratory Data Analysis on dataset \"Superstore 2012-2016\""
   ]
  },
  {
   "cell_type": "markdown",
   "metadata": {},
   "source": [
    "Using Exploratory Data Analysis to figure out business problems from the given dataset"
   ]
  },
  {
   "cell_type": "markdown",
   "metadata": {},
   "source": [
    "## Step 1 - Importing neccessary libraries"
   ]
  },
  {
   "cell_type": "code",
   "execution_count": 26,
   "metadata": {},
   "outputs": [],
   "source": [
    "import numpy as np\n",
    "import pandas as pd\n",
    "import seaborn as sns\n",
    "import matplotlib.pyplot as plt\n",
    "import plotly.express as px\n",
    "import scipy.stats as stats"
   ]
  },
  {
   "cell_type": "markdown",
   "metadata": {},
   "source": [
    "## Step 2 - Importing the dataset"
   ]
  },
  {
   "cell_type": "code",
   "execution_count": 27,
   "metadata": {},
   "outputs": [
    {
     "data": {
      "text/html": [
       "<div>\n",
       "<style scoped>\n",
       "    .dataframe tbody tr th:only-of-type {\n",
       "        vertical-align: middle;\n",
       "    }\n",
       "\n",
       "    .dataframe tbody tr th {\n",
       "        vertical-align: top;\n",
       "    }\n",
       "\n",
       "    .dataframe thead th {\n",
       "        text-align: right;\n",
       "    }\n",
       "</style>\n",
       "<table border=\"1\" class=\"dataframe\">\n",
       "  <thead>\n",
       "    <tr style=\"text-align: right;\">\n",
       "      <th></th>\n",
       "      <th>Order ID</th>\n",
       "      <th>Order Date</th>\n",
       "      <th>Ship Date</th>\n",
       "      <th>Ship Mode</th>\n",
       "      <th>Segment</th>\n",
       "      <th>City</th>\n",
       "      <th>State</th>\n",
       "      <th>Country</th>\n",
       "      <th>Region</th>\n",
       "      <th>Market</th>\n",
       "      <th>...</th>\n",
       "      <th>Quantity</th>\n",
       "      <th>Discount</th>\n",
       "      <th>Profit</th>\n",
       "      <th>Shipping Cost</th>\n",
       "      <th>Order Priority</th>\n",
       "      <th>Returned</th>\n",
       "      <th>Profit Margin Percentage</th>\n",
       "      <th>Returned $ Amount</th>\n",
       "      <th>Days to Ship</th>\n",
       "      <th>Orders per Country</th>\n",
       "    </tr>\n",
       "  </thead>\n",
       "  <tbody>\n",
       "    <tr>\n",
       "      <th>0</th>\n",
       "      <td>CA-2014-AB10015140-41954</td>\n",
       "      <td>2014-11-11</td>\n",
       "      <td>2014-11-13</td>\n",
       "      <td>First Class</td>\n",
       "      <td>Consumer</td>\n",
       "      <td>Oklahoma City</td>\n",
       "      <td>Oklahoma</td>\n",
       "      <td>United States</td>\n",
       "      <td>Central US</td>\n",
       "      <td>USCA</td>\n",
       "      <td>...</td>\n",
       "      <td>2</td>\n",
       "      <td>0.0</td>\n",
       "      <td>62.15</td>\n",
       "      <td>40.77</td>\n",
       "      <td>High</td>\n",
       "      <td>0.0</td>\n",
       "      <td>27.998018</td>\n",
       "      <td>0.0</td>\n",
       "      <td>2</td>\n",
       "      <td>9994</td>\n",
       "    </tr>\n",
       "    <tr>\n",
       "      <th>1</th>\n",
       "      <td>IN-2014-JR162107-41675</td>\n",
       "      <td>2014-02-05</td>\n",
       "      <td>2014-02-07</td>\n",
       "      <td>Second Class</td>\n",
       "      <td>Corporate</td>\n",
       "      <td>Wollongong</td>\n",
       "      <td>New South Wales</td>\n",
       "      <td>Australia</td>\n",
       "      <td>Oceania</td>\n",
       "      <td>Asia Pacific</td>\n",
       "      <td>...</td>\n",
       "      <td>9</td>\n",
       "      <td>0.1</td>\n",
       "      <td>-288.77</td>\n",
       "      <td>923.63</td>\n",
       "      <td>Critical</td>\n",
       "      <td>0.0</td>\n",
       "      <td>-7.784817</td>\n",
       "      <td>0.0</td>\n",
       "      <td>2</td>\n",
       "      <td>2837</td>\n",
       "    </tr>\n",
       "    <tr>\n",
       "      <th>2</th>\n",
       "      <td>IN-2014-CR127307-41929</td>\n",
       "      <td>2014-10-17</td>\n",
       "      <td>2014-10-18</td>\n",
       "      <td>First Class</td>\n",
       "      <td>Consumer</td>\n",
       "      <td>Brisbane</td>\n",
       "      <td>Queensland</td>\n",
       "      <td>Australia</td>\n",
       "      <td>Oceania</td>\n",
       "      <td>Asia Pacific</td>\n",
       "      <td>...</td>\n",
       "      <td>9</td>\n",
       "      <td>0.1</td>\n",
       "      <td>919.97</td>\n",
       "      <td>915.49</td>\n",
       "      <td>Medium</td>\n",
       "      <td>0.0</td>\n",
       "      <td>17.776614</td>\n",
       "      <td>0.0</td>\n",
       "      <td>1</td>\n",
       "      <td>2837</td>\n",
       "    </tr>\n",
       "    <tr>\n",
       "      <th>3</th>\n",
       "      <td>ES-2014-KM1637548-41667</td>\n",
       "      <td>2014-01-28</td>\n",
       "      <td>2014-01-30</td>\n",
       "      <td>First Class</td>\n",
       "      <td>Home Office</td>\n",
       "      <td>Berlin</td>\n",
       "      <td>Berlin</td>\n",
       "      <td>Germany</td>\n",
       "      <td>Western Europe</td>\n",
       "      <td>Europe</td>\n",
       "      <td>...</td>\n",
       "      <td>5</td>\n",
       "      <td>0.1</td>\n",
       "      <td>-96.54</td>\n",
       "      <td>910.16</td>\n",
       "      <td>Medium</td>\n",
       "      <td>0.0</td>\n",
       "      <td>-3.337586</td>\n",
       "      <td>0.0</td>\n",
       "      <td>2</td>\n",
       "      <td>2063</td>\n",
       "    </tr>\n",
       "    <tr>\n",
       "      <th>4</th>\n",
       "      <td>IN-2014-JM156557-41818</td>\n",
       "      <td>2014-06-28</td>\n",
       "      <td>2014-07-01</td>\n",
       "      <td>Second Class</td>\n",
       "      <td>Corporate</td>\n",
       "      <td>Sydney</td>\n",
       "      <td>New South Wales</td>\n",
       "      <td>Australia</td>\n",
       "      <td>Oceania</td>\n",
       "      <td>Asia Pacific</td>\n",
       "      <td>...</td>\n",
       "      <td>5</td>\n",
       "      <td>0.1</td>\n",
       "      <td>763.28</td>\n",
       "      <td>897.35</td>\n",
       "      <td>Critical</td>\n",
       "      <td>0.0</td>\n",
       "      <td>26.663127</td>\n",
       "      <td>0.0</td>\n",
       "      <td>3</td>\n",
       "      <td>2837</td>\n",
       "    </tr>\n",
       "  </tbody>\n",
       "</table>\n",
       "<p>5 rows × 23 columns</p>\n",
       "</div>"
      ],
      "text/plain": [
       "                   Order ID  Order Date   Ship Date     Ship Mode  \\\n",
       "0  CA-2014-AB10015140-41954  2014-11-11  2014-11-13   First Class   \n",
       "1    IN-2014-JR162107-41675  2014-02-05  2014-02-07  Second Class   \n",
       "2    IN-2014-CR127307-41929  2014-10-17  2014-10-18   First Class   \n",
       "3   ES-2014-KM1637548-41667  2014-01-28  2014-01-30   First Class   \n",
       "4    IN-2014-JM156557-41818  2014-06-28  2014-07-01  Second Class   \n",
       "\n",
       "       Segment           City            State        Country          Region  \\\n",
       "0     Consumer  Oklahoma City         Oklahoma  United States      Central US   \n",
       "1    Corporate     Wollongong  New South Wales      Australia         Oceania   \n",
       "2     Consumer       Brisbane       Queensland      Australia         Oceania   \n",
       "3  Home Office         Berlin           Berlin        Germany  Western Europe   \n",
       "4    Corporate         Sydney  New South Wales      Australia         Oceania   \n",
       "\n",
       "         Market  ... Quantity Discount  Profit  Shipping Cost  Order Priority  \\\n",
       "0          USCA  ...        2      0.0   62.15          40.77            High   \n",
       "1  Asia Pacific  ...        9      0.1 -288.77         923.63        Critical   \n",
       "2  Asia Pacific  ...        9      0.1  919.97         915.49          Medium   \n",
       "3        Europe  ...        5      0.1  -96.54         910.16          Medium   \n",
       "4  Asia Pacific  ...        5      0.1  763.28         897.35        Critical   \n",
       "\n",
       "   Returned  Profit Margin Percentage Returned $ Amount  Days to Ship  \\\n",
       "0       0.0                 27.998018               0.0             2   \n",
       "1       0.0                 -7.784817               0.0             2   \n",
       "2       0.0                 17.776614               0.0             1   \n",
       "3       0.0                 -3.337586               0.0             2   \n",
       "4       0.0                 26.663127               0.0             3   \n",
       "\n",
       "   Orders per Country  \n",
       "0                9994  \n",
       "1                2837  \n",
       "2                2837  \n",
       "3                2063  \n",
       "4                2837  \n",
       "\n",
       "[5 rows x 23 columns]"
      ]
     },
     "execution_count": 27,
     "metadata": {},
     "output_type": "execute_result"
    }
   ],
   "source": [
    "df = pd.read_csv(\"resources/superstore_topcountries.csv\", index_col=[0])\n",
    "df = df.reset_index()\n",
    "df.head(5)"
   ]
  },
  {
   "cell_type": "markdown",
   "metadata": {},
   "source": [
    "## Step 3 - Data Analysis"
   ]
  },
  {
   "cell_type": "code",
   "execution_count": 28,
   "metadata": {},
   "outputs": [
    {
     "name": "stdout",
     "output_type": "stream",
     "text": [
      "Dataset have 38614 rows and 23 features\n"
     ]
    }
   ],
   "source": [
    "# Check the shape of the imported dataset.\n",
    "df.shape\n",
    "print(f\"Dataset have {df.shape[0]} rows and {df.shape[1]} features\")"
   ]
  },
  {
   "cell_type": "code",
   "execution_count": 29,
   "metadata": {},
   "outputs": [
    {
     "data": {
      "text/plain": [
       "Index(['Order ID', 'Order Date', 'Ship Date', 'Ship Mode', 'Segment', 'City',\n",
       "       'State', 'Country', 'Region', 'Market', 'Category', 'Sub-Category',\n",
       "       'Sales', 'Quantity', 'Discount', 'Profit', 'Shipping Cost',\n",
       "       'Order Priority', 'Returned', 'Profit Margin Percentage',\n",
       "       'Returned $ Amount', 'Days to Ship', 'Orders per Country'],\n",
       "      dtype='object')"
      ]
     },
     "execution_count": 29,
     "metadata": {},
     "output_type": "execute_result"
    }
   ],
   "source": [
    "# Displaying the Feature names\n",
    "df.columns"
   ]
  },
  {
   "cell_type": "code",
   "execution_count": 30,
   "metadata": {},
   "outputs": [
    {
     "data": {
      "text/html": [
       "<div>\n",
       "<style scoped>\n",
       "    .dataframe tbody tr th:only-of-type {\n",
       "        vertical-align: middle;\n",
       "    }\n",
       "\n",
       "    .dataframe tbody tr th {\n",
       "        vertical-align: top;\n",
       "    }\n",
       "\n",
       "    .dataframe thead th {\n",
       "        text-align: right;\n",
       "    }\n",
       "</style>\n",
       "<table border=\"1\" class=\"dataframe\">\n",
       "  <thead>\n",
       "    <tr style=\"text-align: right;\">\n",
       "      <th></th>\n",
       "      <th>Sales</th>\n",
       "      <th>Quantity</th>\n",
       "      <th>Discount</th>\n",
       "      <th>Profit</th>\n",
       "      <th>Shipping Cost</th>\n",
       "      <th>Returned</th>\n",
       "      <th>Profit Margin Percentage</th>\n",
       "      <th>Returned $ Amount</th>\n",
       "      <th>Days to Ship</th>\n",
       "      <th>Orders per Country</th>\n",
       "    </tr>\n",
       "  </thead>\n",
       "  <tbody>\n",
       "    <tr>\n",
       "      <th>count</th>\n",
       "      <td>38614.000000</td>\n",
       "      <td>38614.000000</td>\n",
       "      <td>38614.000000</td>\n",
       "      <td>38614.000000</td>\n",
       "      <td>38614.000000</td>\n",
       "      <td>38614.000000</td>\n",
       "      <td>38614.000000</td>\n",
       "      <td>38614.000000</td>\n",
       "      <td>38614.000000</td>\n",
       "      <td>38614.000000</td>\n",
       "    </tr>\n",
       "    <tr>\n",
       "      <th>mean</th>\n",
       "      <td>257.776900</td>\n",
       "      <td>3.646760</td>\n",
       "      <td>0.148039</td>\n",
       "      <td>30.392512</td>\n",
       "      <td>27.537627</td>\n",
       "      <td>0.045010</td>\n",
       "      <td>4.691742</td>\n",
       "      <td>10.838128</td>\n",
       "      <td>3.971642</td>\n",
       "      <td>3855.366137</td>\n",
       "    </tr>\n",
       "    <tr>\n",
       "      <th>std</th>\n",
       "      <td>513.955461</td>\n",
       "      <td>2.248685</td>\n",
       "      <td>0.211613</td>\n",
       "      <td>180.188082</td>\n",
       "      <td>59.167773</td>\n",
       "      <td>0.207328</td>\n",
       "      <td>47.188074</td>\n",
       "      <td>114.439896</td>\n",
       "      <td>1.732148</td>\n",
       "      <td>3691.770333</td>\n",
       "    </tr>\n",
       "    <tr>\n",
       "      <th>min</th>\n",
       "      <td>0.440000</td>\n",
       "      <td>1.000000</td>\n",
       "      <td>0.000000</td>\n",
       "      <td>-6599.980000</td>\n",
       "      <td>1.002000</td>\n",
       "      <td>0.000000</td>\n",
       "      <td>-473.363674</td>\n",
       "      <td>0.000000</td>\n",
       "      <td>0.000000</td>\n",
       "      <td>521.000000</td>\n",
       "    </tr>\n",
       "    <tr>\n",
       "      <th>25%</th>\n",
       "      <td>31.255000</td>\n",
       "      <td>2.000000</td>\n",
       "      <td>0.000000</td>\n",
       "      <td>0.000000</td>\n",
       "      <td>2.630000</td>\n",
       "      <td>0.000000</td>\n",
       "      <td>0.000000</td>\n",
       "      <td>0.000000</td>\n",
       "      <td>3.000000</td>\n",
       "      <td>1378.000000</td>\n",
       "    </tr>\n",
       "    <tr>\n",
       "      <th>50%</th>\n",
       "      <td>87.840000</td>\n",
       "      <td>3.000000</td>\n",
       "      <td>0.000000</td>\n",
       "      <td>9.600000</td>\n",
       "      <td>8.019000</td>\n",
       "      <td>0.000000</td>\n",
       "      <td>16.998510</td>\n",
       "      <td>0.000000</td>\n",
       "      <td>4.000000</td>\n",
       "      <td>2063.000000</td>\n",
       "    </tr>\n",
       "    <tr>\n",
       "      <th>75%</th>\n",
       "      <td>261.607500</td>\n",
       "      <td>5.000000</td>\n",
       "      <td>0.200000</td>\n",
       "      <td>38.175000</td>\n",
       "      <td>25.580750</td>\n",
       "      <td>0.000000</td>\n",
       "      <td>33.748684</td>\n",
       "      <td>0.000000</td>\n",
       "      <td>5.000000</td>\n",
       "      <td>9994.000000</td>\n",
       "    </tr>\n",
       "    <tr>\n",
       "      <th>max</th>\n",
       "      <td>22638.480000</td>\n",
       "      <td>14.000000</td>\n",
       "      <td>0.850000</td>\n",
       "      <td>8399.980000</td>\n",
       "      <td>933.570000</td>\n",
       "      <td>1.000000</td>\n",
       "      <td>50.021978</td>\n",
       "      <td>9449.950000</td>\n",
       "      <td>7.000000</td>\n",
       "      <td>9994.000000</td>\n",
       "    </tr>\n",
       "  </tbody>\n",
       "</table>\n",
       "</div>"
      ],
      "text/plain": [
       "              Sales      Quantity      Discount        Profit  Shipping Cost  \\\n",
       "count  38614.000000  38614.000000  38614.000000  38614.000000   38614.000000   \n",
       "mean     257.776900      3.646760      0.148039     30.392512      27.537627   \n",
       "std      513.955461      2.248685      0.211613    180.188082      59.167773   \n",
       "min        0.440000      1.000000      0.000000  -6599.980000       1.002000   \n",
       "25%       31.255000      2.000000      0.000000      0.000000       2.630000   \n",
       "50%       87.840000      3.000000      0.000000      9.600000       8.019000   \n",
       "75%      261.607500      5.000000      0.200000     38.175000      25.580750   \n",
       "max    22638.480000     14.000000      0.850000   8399.980000     933.570000   \n",
       "\n",
       "           Returned  Profit Margin Percentage  Returned $ Amount  \\\n",
       "count  38614.000000              38614.000000       38614.000000   \n",
       "mean       0.045010                  4.691742          10.838128   \n",
       "std        0.207328                 47.188074         114.439896   \n",
       "min        0.000000               -473.363674           0.000000   \n",
       "25%        0.000000                  0.000000           0.000000   \n",
       "50%        0.000000                 16.998510           0.000000   \n",
       "75%        0.000000                 33.748684           0.000000   \n",
       "max        1.000000                 50.021978        9449.950000   \n",
       "\n",
       "       Days to Ship  Orders per Country  \n",
       "count  38614.000000        38614.000000  \n",
       "mean       3.971642         3855.366137  \n",
       "std        1.732148         3691.770333  \n",
       "min        0.000000          521.000000  \n",
       "25%        3.000000         1378.000000  \n",
       "50%        4.000000         2063.000000  \n",
       "75%        5.000000         9994.000000  \n",
       "max        7.000000         9994.000000  "
      ]
     },
     "execution_count": 30,
     "metadata": {},
     "output_type": "execute_result"
    }
   ],
   "source": [
    "#Displaying the statistical measures\n",
    "df.describe()"
   ]
  },
  {
   "cell_type": "code",
   "execution_count": 31,
   "metadata": {},
   "outputs": [
    {
     "name": "stdout",
     "output_type": "stream",
     "text": [
      "<class 'pandas.core.frame.DataFrame'>\n",
      "RangeIndex: 38614 entries, 0 to 38613\n",
      "Data columns (total 23 columns):\n",
      " #   Column                    Non-Null Count  Dtype  \n",
      "---  ------                    --------------  -----  \n",
      " 0   Order ID                  38614 non-null  object \n",
      " 1   Order Date                38614 non-null  object \n",
      " 2   Ship Date                 38614 non-null  object \n",
      " 3   Ship Mode                 38614 non-null  object \n",
      " 4   Segment                   38614 non-null  object \n",
      " 5   City                      38614 non-null  object \n",
      " 6   State                     38614 non-null  object \n",
      " 7   Country                   38614 non-null  object \n",
      " 8   Region                    38614 non-null  object \n",
      " 9   Market                    38614 non-null  object \n",
      " 10  Category                  38614 non-null  object \n",
      " 11  Sub-Category              38614 non-null  object \n",
      " 12  Sales                     38614 non-null  float64\n",
      " 13  Quantity                  38614 non-null  int64  \n",
      " 14  Discount                  38614 non-null  float64\n",
      " 15  Profit                    38614 non-null  float64\n",
      " 16  Shipping Cost             38614 non-null  float64\n",
      " 17  Order Priority            38614 non-null  object \n",
      " 18  Returned                  38614 non-null  float64\n",
      " 19  Profit Margin Percentage  38614 non-null  float64\n",
      " 20  Returned $ Amount         38614 non-null  float64\n",
      " 21  Days to Ship              38614 non-null  int64  \n",
      " 22  Orders per Country        38614 non-null  int64  \n",
      "dtypes: float64(7), int64(3), object(13)\n",
      "memory usage: 6.8+ MB\n"
     ]
    }
   ],
   "source": [
    "# Checks the information of dataset using info() which shows the null values counts feature names and Data Type of every feature.\n",
    "df.info()"
   ]
  },
  {
   "cell_type": "code",
   "execution_count": 32,
   "metadata": {},
   "outputs": [
    {
     "data": {
      "text/plain": [
       "Order ID                    0\n",
       "Order Date                  0\n",
       "Ship Date                   0\n",
       "Ship Mode                   0\n",
       "Segment                     0\n",
       "City                        0\n",
       "State                       0\n",
       "Country                     0\n",
       "Region                      0\n",
       "Market                      0\n",
       "Category                    0\n",
       "Sub-Category                0\n",
       "Sales                       0\n",
       "Quantity                    0\n",
       "Discount                    0\n",
       "Profit                      0\n",
       "Shipping Cost               0\n",
       "Order Priority              0\n",
       "Returned                    0\n",
       "Profit Margin Percentage    0\n",
       "Returned $ Amount           0\n",
       "Days to Ship                0\n",
       "Orders per Country          0\n",
       "dtype: int64"
      ]
     },
     "execution_count": 32,
     "metadata": {},
     "output_type": "execute_result"
    }
   ],
   "source": [
    "#For EDA We have to check for the null values in the dataset and if any of the feature has one.\n",
    "df.isnull().sum()"
   ]
  },
  {
   "cell_type": "markdown",
   "metadata": {},
   "source": [
    "Clearly there are no null values in any of the features"
   ]
  },
  {
   "cell_type": "code",
   "execution_count": 33,
   "metadata": {},
   "outputs": [
    {
     "data": {
      "text/plain": [
       "Order ID                    19413\n",
       "Order Date                   1412\n",
       "Ship Date                    1462\n",
       "Ship Mode                       4\n",
       "Segment                         3\n",
       "City                         2604\n",
       "State                         442\n",
       "Country                        23\n",
       "Region                         16\n",
       "Market                          5\n",
       "Category                        3\n",
       "Sub-Category                   17\n",
       "Sales                       17835\n",
       "Quantity                       14\n",
       "Discount                       25\n",
       "Profit                      14515\n",
       "Shipping Cost               14194\n",
       "Order Priority                  4\n",
       "Returned                        2\n",
       "Profit Margin Percentage    22765\n",
       "Returned $ Amount            1604\n",
       "Days to Ship                    8\n",
       "Orders per Country             23\n",
       "dtype: int64"
      ]
     },
     "execution_count": 33,
     "metadata": {},
     "output_type": "execute_result"
    }
   ],
   "source": [
    "# To check the number of unique values for each feature\n",
    "df.nunique()"
   ]
  },
  {
   "cell_type": "markdown",
   "metadata": {},
   "source": [
    "### From here we can have the following interpretations"
   ]
  },
  {
   "cell_type": "markdown",
   "metadata": {},
   "source": [
    "##### 1.Different Types of Shipping Modes are (Standard, Second, First Class and Same Day) \n",
    "##### 2.Categories of the Products are (Office Supplies, Technology, and Furniture).\n",
    "##### 3.Segment of the Customers are (Consumer, Home Office, Corporate).\n",
    "##### 4.Products are delivered in 442 states. \n",
    "##### 5.Region of services is (East, West, South, and Central).\n",
    "##### 6.There are several Sub-Categories of Products. "
   ]
  },
  {
   "cell_type": "markdown",
   "metadata": {},
   "source": [
    "## Step 4 -  Data visualisation using Correlation Matrix"
   ]
  },
  {
   "cell_type": "code",
   "execution_count": 34,
   "metadata": {},
   "outputs": [
    {
     "data": {
      "text/html": [
       "<div>\n",
       "<style scoped>\n",
       "    .dataframe tbody tr th:only-of-type {\n",
       "        vertical-align: middle;\n",
       "    }\n",
       "\n",
       "    .dataframe tbody tr th {\n",
       "        vertical-align: top;\n",
       "    }\n",
       "\n",
       "    .dataframe thead th {\n",
       "        text-align: right;\n",
       "    }\n",
       "</style>\n",
       "<table border=\"1\" class=\"dataframe\">\n",
       "  <thead>\n",
       "    <tr style=\"text-align: right;\">\n",
       "      <th></th>\n",
       "      <th>Sales</th>\n",
       "      <th>Quantity</th>\n",
       "      <th>Discount</th>\n",
       "      <th>Profit</th>\n",
       "      <th>Shipping Cost</th>\n",
       "      <th>Returned</th>\n",
       "      <th>Profit Margin Percentage</th>\n",
       "      <th>Returned $ Amount</th>\n",
       "      <th>Days to Ship</th>\n",
       "      <th>Orders per Country</th>\n",
       "    </tr>\n",
       "  </thead>\n",
       "  <tbody>\n",
       "    <tr>\n",
       "      <th>Sales</th>\n",
       "      <td>1.000000</td>\n",
       "      <td>0.300102</td>\n",
       "      <td>-0.090770</td>\n",
       "      <td>0.494109</td>\n",
       "      <td>0.754940</td>\n",
       "      <td>-0.007173</td>\n",
       "      <td>0.075451</td>\n",
       "      <td>0.177161</td>\n",
       "      <td>-0.002682</td>\n",
       "      <td>-0.021457</td>\n",
       "    </tr>\n",
       "    <tr>\n",
       "      <th>Quantity</th>\n",
       "      <td>0.300102</td>\n",
       "      <td>1.000000</td>\n",
       "      <td>-0.086161</td>\n",
       "      <td>0.113744</td>\n",
       "      <td>0.262361</td>\n",
       "      <td>-0.005337</td>\n",
       "      <td>0.093210</td>\n",
       "      <td>0.060059</td>\n",
       "      <td>0.004868</td>\n",
       "      <td>0.048253</td>\n",
       "    </tr>\n",
       "    <tr>\n",
       "      <th>Discount</th>\n",
       "      <td>-0.090770</td>\n",
       "      <td>-0.086161</td>\n",
       "      <td>1.000000</td>\n",
       "      <td>-0.301797</td>\n",
       "      <td>-0.082870</td>\n",
       "      <td>0.003103</td>\n",
       "      <td>-0.852083</td>\n",
       "      <td>-0.014495</td>\n",
       "      <td>-0.002232</td>\n",
       "      <td>-0.011672</td>\n",
       "    </tr>\n",
       "    <tr>\n",
       "      <th>Profit</th>\n",
       "      <td>0.494109</td>\n",
       "      <td>0.113744</td>\n",
       "      <td>-0.301797</td>\n",
       "      <td>1.000000</td>\n",
       "      <td>0.355461</td>\n",
       "      <td>-0.001036</td>\n",
       "      <td>0.341366</td>\n",
       "      <td>0.115637</td>\n",
       "      <td>0.001043</td>\n",
       "      <td>0.004304</td>\n",
       "    </tr>\n",
       "    <tr>\n",
       "      <th>Shipping Cost</th>\n",
       "      <td>0.754940</td>\n",
       "      <td>0.262361</td>\n",
       "      <td>-0.082870</td>\n",
       "      <td>0.355461</td>\n",
       "      <td>1.000000</td>\n",
       "      <td>-0.000413</td>\n",
       "      <td>0.069048</td>\n",
       "      <td>0.140373</td>\n",
       "      <td>-0.141138</td>\n",
       "      <td>-0.024524</td>\n",
       "    </tr>\n",
       "    <tr>\n",
       "      <th>Returned</th>\n",
       "      <td>-0.007173</td>\n",
       "      <td>-0.005337</td>\n",
       "      <td>0.003103</td>\n",
       "      <td>-0.001036</td>\n",
       "      <td>-0.000413</td>\n",
       "      <td>1.000000</td>\n",
       "      <td>0.005624</td>\n",
       "      <td>0.436244</td>\n",
       "      <td>0.003266</td>\n",
       "      <td>0.004404</td>\n",
       "    </tr>\n",
       "    <tr>\n",
       "      <th>Profit Margin Percentage</th>\n",
       "      <td>0.075451</td>\n",
       "      <td>0.093210</td>\n",
       "      <td>-0.852083</td>\n",
       "      <td>0.341366</td>\n",
       "      <td>0.069048</td>\n",
       "      <td>0.005624</td>\n",
       "      <td>1.000000</td>\n",
       "      <td>0.015199</td>\n",
       "      <td>0.000083</td>\n",
       "      <td>0.123761</td>\n",
       "    </tr>\n",
       "    <tr>\n",
       "      <th>Returned $ Amount</th>\n",
       "      <td>0.177161</td>\n",
       "      <td>0.060059</td>\n",
       "      <td>-0.014495</td>\n",
       "      <td>0.115637</td>\n",
       "      <td>0.140373</td>\n",
       "      <td>0.436244</td>\n",
       "      <td>0.015199</td>\n",
       "      <td>1.000000</td>\n",
       "      <td>-0.000572</td>\n",
       "      <td>0.002353</td>\n",
       "    </tr>\n",
       "    <tr>\n",
       "      <th>Days to Ship</th>\n",
       "      <td>-0.002682</td>\n",
       "      <td>0.004868</td>\n",
       "      <td>-0.002232</td>\n",
       "      <td>0.001043</td>\n",
       "      <td>-0.141138</td>\n",
       "      <td>0.003266</td>\n",
       "      <td>0.000083</td>\n",
       "      <td>-0.000572</td>\n",
       "      <td>1.000000</td>\n",
       "      <td>-0.005394</td>\n",
       "    </tr>\n",
       "    <tr>\n",
       "      <th>Orders per Country</th>\n",
       "      <td>-0.021457</td>\n",
       "      <td>0.048253</td>\n",
       "      <td>-0.011672</td>\n",
       "      <td>0.004304</td>\n",
       "      <td>-0.024524</td>\n",
       "      <td>0.004404</td>\n",
       "      <td>0.123761</td>\n",
       "      <td>0.002353</td>\n",
       "      <td>-0.005394</td>\n",
       "      <td>1.000000</td>\n",
       "    </tr>\n",
       "  </tbody>\n",
       "</table>\n",
       "</div>"
      ],
      "text/plain": [
       "                             Sales  Quantity  Discount    Profit  \\\n",
       "Sales                     1.000000  0.300102 -0.090770  0.494109   \n",
       "Quantity                  0.300102  1.000000 -0.086161  0.113744   \n",
       "Discount                 -0.090770 -0.086161  1.000000 -0.301797   \n",
       "Profit                    0.494109  0.113744 -0.301797  1.000000   \n",
       "Shipping Cost             0.754940  0.262361 -0.082870  0.355461   \n",
       "Returned                 -0.007173 -0.005337  0.003103 -0.001036   \n",
       "Profit Margin Percentage  0.075451  0.093210 -0.852083  0.341366   \n",
       "Returned $ Amount         0.177161  0.060059 -0.014495  0.115637   \n",
       "Days to Ship             -0.002682  0.004868 -0.002232  0.001043   \n",
       "Orders per Country       -0.021457  0.048253 -0.011672  0.004304   \n",
       "\n",
       "                          Shipping Cost  Returned  Profit Margin Percentage  \\\n",
       "Sales                          0.754940 -0.007173                  0.075451   \n",
       "Quantity                       0.262361 -0.005337                  0.093210   \n",
       "Discount                      -0.082870  0.003103                 -0.852083   \n",
       "Profit                         0.355461 -0.001036                  0.341366   \n",
       "Shipping Cost                  1.000000 -0.000413                  0.069048   \n",
       "Returned                      -0.000413  1.000000                  0.005624   \n",
       "Profit Margin Percentage       0.069048  0.005624                  1.000000   \n",
       "Returned $ Amount              0.140373  0.436244                  0.015199   \n",
       "Days to Ship                  -0.141138  0.003266                  0.000083   \n",
       "Orders per Country            -0.024524  0.004404                  0.123761   \n",
       "\n",
       "                          Returned $ Amount  Days to Ship  Orders per Country  \n",
       "Sales                              0.177161     -0.002682           -0.021457  \n",
       "Quantity                           0.060059      0.004868            0.048253  \n",
       "Discount                          -0.014495     -0.002232           -0.011672  \n",
       "Profit                             0.115637      0.001043            0.004304  \n",
       "Shipping Cost                      0.140373     -0.141138           -0.024524  \n",
       "Returned                           0.436244      0.003266            0.004404  \n",
       "Profit Margin Percentage           0.015199      0.000083            0.123761  \n",
       "Returned $ Amount                  1.000000     -0.000572            0.002353  \n",
       "Days to Ship                      -0.000572      1.000000           -0.005394  \n",
       "Orders per Country                 0.002353     -0.005394            1.000000  "
      ]
     },
     "execution_count": 34,
     "metadata": {},
     "output_type": "execute_result"
    }
   ],
   "source": [
    "#Computing the correlation matrix\n",
    "correlation=df.corr()\n",
    "correlation"
   ]
  },
  {
   "cell_type": "code",
   "execution_count": 35,
   "metadata": {},
   "outputs": [
    {
     "data": {
      "image/png": "[encoded data removed]",
      "text/plain": [
       "<Figure size 864x648 with 2 Axes>"
      ]
     },
     "metadata": {
      "needs_background": "light"
     },
     "output_type": "display_data"
    }
   ],
   "source": [
    "# Plotting a heat map using correlation matrix\n",
    "plt.figure(figsize=(12,9))\n",
    "sns.heatmap(correlation,annot=True)\n",
    "plt.xticks(rotation='75',fontsize=12)\n",
    "plt.yticks(fontsize=12)\n",
    "plt.show()"
   ]
  },
  {
   "cell_type": "markdown",
   "metadata": {},
   "source": [
    "#### Here we can observe that there is a positive correlation between Profit and sales i.e when sales increases profit increases."
   ]
  },
  {
   "cell_type": "code",
   "execution_count": 36,
   "metadata": {},
   "outputs": [
    {
     "data": {
      "text/plain": [
       "<AxesSubplot:>"
      ]
     },
     "execution_count": 36,
     "metadata": {},
     "output_type": "execute_result"
    },
    {
     "data": {
      "image/png": "[encoded data removed]",
      "text/plain": [
       "<Figure size 1080x504 with 1 Axes>"
      ]
     },
     "metadata": {
      "needs_background": "light"
     },
     "output_type": "display_data"
    }
   ],
   "source": [
    "# We check the outliers of every feature using boxplot\n",
    "plt.figure(figsize=(15,7))\n",
    "plt.xticks(rotation = 45)\n",
    "sns.boxplot(data=df)"
   ]
  },
  {
   "cell_type": "markdown",
   "metadata": {},
   "source": [
    "### Sales, Profit, and Returned($) Amount columns have some outliers"
   ]
  },
  {
   "cell_type": "code",
   "execution_count": 37,
   "metadata": {},
   "outputs": [
    {
     "data": {
      "text/plain": [
       "<AxesSubplot:>"
      ]
     },
     "execution_count": 37,
     "metadata": {},
     "output_type": "execute_result"
    },
    {
     "data": {
      "image/png": "[encoded data removed]",
      "text/plain": [
       "<Figure size 432x288 with 1 Axes>"
      ]
     },
     "metadata": {
      "needs_background": "light"
     },
     "output_type": "display_data"
    }
   ],
   "source": [
    "df['Category'].value_counts().plot(kind=\"bar\")"
   ]
  },
  {
   "cell_type": "markdown",
   "metadata": {},
   "source": [
    "### Here it can be observed that the sale of office supplies is way higher than that of the other two categories"
   ]
  },
  {
   "cell_type": "code",
   "execution_count": 38,
   "metadata": {},
   "outputs": [
    {
     "data": {
      "text/plain": [
       "<AxesSubplot:xlabel='Segment'>"
      ]
     },
     "execution_count": 38,
     "metadata": {},
     "output_type": "execute_result"
    },
    {
     "data": {
      "image/png": "[encoded data removed]",
      "text/plain": [
       "<Figure size 432x288 with 1 Axes>"
      ]
     },
     "metadata": {
      "needs_background": "light"
     },
     "output_type": "display_data"
    }
   ],
   "source": [
    "# To form a graph showing different categories under each segment\n",
    "pd.crosstab(df['Segment'],df['Category']).plot(kind=\"bar\",stacked=True)"
   ]
  },
  {
   "cell_type": "code",
   "execution_count": 39,
   "metadata": {},
   "outputs": [
    {
     "data": {
      "text/plain": [
       "<seaborn.axisgrid.FacetGrid at 0x7ff3e5a6eb90>"
      ]
     },
     "execution_count": 39,
     "metadata": {},
     "output_type": "execute_result"
    },
    {
     "data": {
      "image/png": "[encoded data removed]",
      "text/plain": [
       "<Figure size 360x360 with 1 Axes>"
      ]
     },
     "metadata": {
      "needs_background": "light"
     },
     "output_type": "display_data"
    }
   ],
   "source": [
    "sns.displot(df[\"Sales\"])"
   ]
  },
  {
   "cell_type": "code",
   "execution_count": 40,
   "metadata": {},
   "outputs": [
    {
     "data": {
      "text/html": [
       "<div>\n",
       "<style scoped>\n",
       "    .dataframe tbody tr th:only-of-type {\n",
       "        vertical-align: middle;\n",
       "    }\n",
       "\n",
       "    .dataframe tbody tr th {\n",
       "        vertical-align: top;\n",
       "    }\n",
       "\n",
       "    .dataframe thead th {\n",
       "        text-align: right;\n",
       "    }\n",
       "</style>\n",
       "<table border=\"1\" class=\"dataframe\">\n",
       "  <thead>\n",
       "    <tr style=\"text-align: right;\">\n",
       "      <th></th>\n",
       "      <th>Order ID</th>\n",
       "      <th>Order Date</th>\n",
       "      <th>Ship Date</th>\n",
       "      <th>Ship Mode</th>\n",
       "      <th>Segment</th>\n",
       "      <th>City</th>\n",
       "      <th>State</th>\n",
       "      <th>Country</th>\n",
       "      <th>Region</th>\n",
       "      <th>Market</th>\n",
       "      <th>...</th>\n",
       "      <th>Quantity</th>\n",
       "      <th>Discount</th>\n",
       "      <th>Profit</th>\n",
       "      <th>Shipping Cost</th>\n",
       "      <th>Order Priority</th>\n",
       "      <th>Returned</th>\n",
       "      <th>Profit Margin Percentage</th>\n",
       "      <th>Returned $ Amount</th>\n",
       "      <th>Days to Ship</th>\n",
       "      <th>Orders per Country</th>\n",
       "    </tr>\n",
       "  </thead>\n",
       "  <tbody>\n",
       "    <tr>\n",
       "      <th>0</th>\n",
       "      <td>CA-2014-AB10015140-41954</td>\n",
       "      <td>2014-11-11</td>\n",
       "      <td>2014-11-13</td>\n",
       "      <td>First Class</td>\n",
       "      <td>Consumer</td>\n",
       "      <td>Oklahoma City</td>\n",
       "      <td>Oklahoma</td>\n",
       "      <td>United States</td>\n",
       "      <td>Central US</td>\n",
       "      <td>USCA</td>\n",
       "      <td>...</td>\n",
       "      <td>2</td>\n",
       "      <td>0.0</td>\n",
       "      <td>62.15</td>\n",
       "      <td>40.77</td>\n",
       "      <td>High</td>\n",
       "      <td>0.0</td>\n",
       "      <td>27.998018</td>\n",
       "      <td>0.0</td>\n",
       "      <td>2</td>\n",
       "      <td>9994</td>\n",
       "    </tr>\n",
       "    <tr>\n",
       "      <th>1</th>\n",
       "      <td>IN-2014-JR162107-41675</td>\n",
       "      <td>2014-02-05</td>\n",
       "      <td>2014-02-07</td>\n",
       "      <td>Second Class</td>\n",
       "      <td>Corporate</td>\n",
       "      <td>Wollongong</td>\n",
       "      <td>New South Wales</td>\n",
       "      <td>Australia</td>\n",
       "      <td>Oceania</td>\n",
       "      <td>Asia Pacific</td>\n",
       "      <td>...</td>\n",
       "      <td>9</td>\n",
       "      <td>0.1</td>\n",
       "      <td>-288.77</td>\n",
       "      <td>923.63</td>\n",
       "      <td>Critical</td>\n",
       "      <td>0.0</td>\n",
       "      <td>-7.784817</td>\n",
       "      <td>0.0</td>\n",
       "      <td>2</td>\n",
       "      <td>2837</td>\n",
       "    </tr>\n",
       "    <tr>\n",
       "      <th>2</th>\n",
       "      <td>IN-2014-CR127307-41929</td>\n",
       "      <td>2014-10-17</td>\n",
       "      <td>2014-10-18</td>\n",
       "      <td>First Class</td>\n",
       "      <td>Consumer</td>\n",
       "      <td>Brisbane</td>\n",
       "      <td>Queensland</td>\n",
       "      <td>Australia</td>\n",
       "      <td>Oceania</td>\n",
       "      <td>Asia Pacific</td>\n",
       "      <td>...</td>\n",
       "      <td>9</td>\n",
       "      <td>0.1</td>\n",
       "      <td>919.97</td>\n",
       "      <td>915.49</td>\n",
       "      <td>Medium</td>\n",
       "      <td>0.0</td>\n",
       "      <td>17.776614</td>\n",
       "      <td>0.0</td>\n",
       "      <td>1</td>\n",
       "      <td>2837</td>\n",
       "    </tr>\n",
       "    <tr>\n",
       "      <th>3</th>\n",
       "      <td>ES-2014-KM1637548-41667</td>\n",
       "      <td>2014-01-28</td>\n",
       "      <td>2014-01-30</td>\n",
       "      <td>First Class</td>\n",
       "      <td>Home Office</td>\n",
       "      <td>Berlin</td>\n",
       "      <td>Berlin</td>\n",
       "      <td>Germany</td>\n",
       "      <td>Western Europe</td>\n",
       "      <td>Europe</td>\n",
       "      <td>...</td>\n",
       "      <td>5</td>\n",
       "      <td>0.1</td>\n",
       "      <td>-96.54</td>\n",
       "      <td>910.16</td>\n",
       "      <td>Medium</td>\n",
       "      <td>0.0</td>\n",
       "      <td>-3.337586</td>\n",
       "      <td>0.0</td>\n",
       "      <td>2</td>\n",
       "      <td>2063</td>\n",
       "    </tr>\n",
       "    <tr>\n",
       "      <th>4</th>\n",
       "      <td>IN-2014-JM156557-41818</td>\n",
       "      <td>2014-06-28</td>\n",
       "      <td>2014-07-01</td>\n",
       "      <td>Second Class</td>\n",
       "      <td>Corporate</td>\n",
       "      <td>Sydney</td>\n",
       "      <td>New South Wales</td>\n",
       "      <td>Australia</td>\n",
       "      <td>Oceania</td>\n",
       "      <td>Asia Pacific</td>\n",
       "      <td>...</td>\n",
       "      <td>5</td>\n",
       "      <td>0.1</td>\n",
       "      <td>763.28</td>\n",
       "      <td>897.35</td>\n",
       "      <td>Critical</td>\n",
       "      <td>0.0</td>\n",
       "      <td>26.663127</td>\n",
       "      <td>0.0</td>\n",
       "      <td>3</td>\n",
       "      <td>2837</td>\n",
       "    </tr>\n",
       "  </tbody>\n",
       "</table>\n",
       "<p>5 rows × 23 columns</p>\n",
       "</div>"
      ],
      "text/plain": [
       "                   Order ID  Order Date   Ship Date     Ship Mode  \\\n",
       "0  CA-2014-AB10015140-41954  2014-11-11  2014-11-13   First Class   \n",
       "1    IN-2014-JR162107-41675  2014-02-05  2014-02-07  Second Class   \n",
       "2    IN-2014-CR127307-41929  2014-10-17  2014-10-18   First Class   \n",
       "3   ES-2014-KM1637548-41667  2014-01-28  2014-01-30   First Class   \n",
       "4    IN-2014-JM156557-41818  2014-06-28  2014-07-01  Second Class   \n",
       "\n",
       "       Segment           City            State        Country          Region  \\\n",
       "0     Consumer  Oklahoma City         Oklahoma  United States      Central US   \n",
       "1    Corporate     Wollongong  New South Wales      Australia         Oceania   \n",
       "2     Consumer       Brisbane       Queensland      Australia         Oceania   \n",
       "3  Home Office         Berlin           Berlin        Germany  Western Europe   \n",
       "4    Corporate         Sydney  New South Wales      Australia         Oceania   \n",
       "\n",
       "         Market  ... Quantity Discount  Profit  Shipping Cost  Order Priority  \\\n",
       "0          USCA  ...        2      0.0   62.15          40.77            High   \n",
       "1  Asia Pacific  ...        9      0.1 -288.77         923.63        Critical   \n",
       "2  Asia Pacific  ...        9      0.1  919.97         915.49          Medium   \n",
       "3        Europe  ...        5      0.1  -96.54         910.16          Medium   \n",
       "4  Asia Pacific  ...        5      0.1  763.28         897.35        Critical   \n",
       "\n",
       "   Returned  Profit Margin Percentage Returned $ Amount  Days to Ship  \\\n",
       "0       0.0                 27.998018               0.0             2   \n",
       "1       0.0                 -7.784817               0.0             2   \n",
       "2       0.0                 17.776614               0.0             1   \n",
       "3       0.0                 -3.337586               0.0             2   \n",
       "4       0.0                 26.663127               0.0             3   \n",
       "\n",
       "   Orders per Country  \n",
       "0                9994  \n",
       "1                2837  \n",
       "2                2837  \n",
       "3                2063  \n",
       "4                2837  \n",
       "\n",
       "[5 rows x 23 columns]"
      ]
     },
     "execution_count": 40,
     "metadata": {},
     "output_type": "execute_result"
    }
   ],
   "source": [
    "df.head()"
   ]
  },
  {
   "cell_type": "markdown",
   "metadata": {},
   "source": [
    "### It can be observed that the data here is highly right skewed"
   ]
  },
  {
   "cell_type": "markdown",
   "metadata": {
    "tags": []
   },
   "source": [
    "# need some columns dropped for better visualization\n",
    "pair_df = df.drop(df.columns.difference(['Order Date', 'Ship Date', 'Ship Mode','Country','Category','Sub-Category', 'Sales', 'Quantity', 'Discount', 'Profit', 'Shipping Cost', 'Order Priority', 'Profit Margin Percentage'], inplace=True)\n"
   ]
  },
  {
   "cell_type": "markdown",
   "metadata": {},
   "source": [
    "#### 1. From the profit vs sales graph from above we can infer it is not necessarily true that with the increase in sale profit increases."
   ]
  },
  {
   "cell_type": "markdown",
   "metadata": {},
   "source": [
    "#### 2. From the profit vs discount graph from above we infer that when the discount is till 0.3, there is a profit.\n",
    "#### But if the discount increases beyond 0.3 there is a loss happening"
   ]
  },
  {
   "cell_type": "markdown",
   "metadata": {},
   "source": [
    "#### 3. From the discount vs sales graph from above we can infer that after a point when discount is increasing the total sales amount is decreasing."
   ]
  },
  {
   "cell_type": "code",
   "execution_count": 41,
   "metadata": {},
   "outputs": [
    {
     "data": {
      "text/plain": [
       "<AxesSubplot:>"
      ]
     },
     "execution_count": 41,
     "metadata": {},
     "output_type": "execute_result"
    },
    {
     "data": {
      "image/png": "[encoded data removed]",
      "text/plain": [
       "<Figure size 432x288 with 1 Axes>"
      ]
     },
     "metadata": {
      "needs_background": "light"
     },
     "output_type": "display_data"
    }
   ],
   "source": [
    "df['Sub-Category'].value_counts().plot(kind=\"bar\")"
   ]
  },
  {
   "cell_type": "markdown",
   "metadata": {},
   "source": [
    "#### THE SUB-CATEGORY IS ARRANGED ON THE BASIS OF MOST SELLING PRODUCTS"
   ]
  },
  {
   "cell_type": "code",
   "execution_count": 42,
   "metadata": {},
   "outputs": [
    {
     "data": {
      "text/plain": [
       "<AxesSubplot:xlabel='Country'>"
      ]
     },
     "execution_count": 42,
     "metadata": {},
     "output_type": "execute_result"
    },
    {
     "data": {
      "image/png": "[encoded data removed]",
      "text/plain": [
       "<Figure size 432x288 with 1 Axes>"
      ]
     },
     "metadata": {
      "needs_background": "light"
     },
     "output_type": "display_data"
    }
   ],
   "source": [
    "pd.crosstab(df[\"Country\"],df[\"Category\"],df[\"Profit\"],aggfunc='sum').plot(kind=\"bar\",stacked=True)"
   ]
  },
  {
   "cell_type": "markdown",
   "metadata": {},
   "source": [
    "#### Nigeria and Turkey have negative profit values per category \n",
    "#### Top countries with healthy profit:\n",
    "####    - Australia\n",
    "####    - China\n",
    "####    - France\n",
    "####    - Germany\n",
    "####    - India\n",
    "####    - Mexico\n",
    "####    - United Kingdom\n",
    "####    - United States"
   ]
  },
  {
   "cell_type": "code",
   "execution_count": 43,
   "metadata": {},
   "outputs": [
    {
     "data": {
      "text/plain": [
       "<AxesSubplot:xlabel='Category'>"
      ]
     },
     "execution_count": 43,
     "metadata": {},
     "output_type": "execute_result"
    },
    {
     "data": {
      "image/png": "[encoded data removed]",
      "text/plain": [
       "<Figure size 432x288 with 1 Axes>"
      ]
     },
     "metadata": {
      "needs_background": "light"
     },
     "output_type": "display_data"
    }
   ],
   "source": [
    "pd.crosstab(index=df[\"Category\"],columns=df[\"Segment\"],values=df[\"Profit\"],aggfunc=\"sum\").plot(kind=\"bar\",stacked=True)"
   ]
  },
  {
   "cell_type": "markdown",
   "metadata": {},
   "source": [
    "#### Although office supplies is the most selling category but the profit is highest from the technology sector Under Technology the purchasing ie the profit has come more from the Consumers segment."
   ]
  },
  {
   "cell_type": "code",
   "execution_count": 44,
   "metadata": {},
   "outputs": [
    {
     "data": {
      "text/plain": [
       "<AxesSubplot:xlabel='Category'>"
      ]
     },
     "execution_count": 44,
     "metadata": {},
     "output_type": "execute_result"
    },
    {
     "data": {
      "image/png": "[encoded data removed]",
      "text/plain": [
       "<Figure size 432x288 with 1 Axes>"
      ]
     },
     "metadata": {
      "needs_background": "light"
     },
     "output_type": "display_data"
    }
   ],
   "source": [
    "pd.crosstab(index=df[\"Category\"],columns=df[\"Ship Mode\"],values=df[\"Profit\"],aggfunc=\"sum\").plot(kind=\"bar\",stacked=True)"
   ]
  },
  {
   "cell_type": "markdown",
   "metadata": {},
   "source": [
    "#### The profit is high when the ship mode is \"Standard Class\" and the Profit is negligible when the ship Mode is \"Same day\""
   ]
  },
  {
   "cell_type": "code",
   "execution_count": 45,
   "metadata": {},
   "outputs": [
    {
     "name": "stdout",
     "output_type": "stream",
     "text": [
      "Binders        4626\n",
      "Storage        3577\n",
      "Art            3430\n",
      "Paper          2881\n",
      "Chairs         2687\n",
      "Phones         2625\n",
      "Furnishings    2483\n",
      "Accessories    2391\n",
      "Labels         1958\n",
      "Fasteners      1955\n",
      "Bookcases      1803\n",
      "Envelopes      1758\n",
      "Supplies       1733\n",
      "Copiers        1618\n",
      "Appliances     1342\n",
      "Machines       1032\n",
      "Tables          715\n",
      "Name: Sub-Category, dtype: int64\n"
     ]
    },
    {
     "data": {
      "image/png": "[encoded data removed]",
      "text/plain": [
       "<Figure size 1080x648 with 1 Axes>"
      ]
     },
     "metadata": {
      "needs_background": "light"
     },
     "output_type": "display_data"
    }
   ],
   "source": [
    "plt.figure(figsize=(15,9))\n",
    "plt.xticks(rotation=45)\n",
    "sns.countplot(x=df['Sub-Category'])\n",
    "print(df['Sub-Category'].value_counts())"
   ]
  },
  {
   "cell_type": "markdown",
   "metadata": {},
   "source": [
    "#### Highest sold sub category is Binders and lowest sold sub category is Tables"
   ]
  },
  {
   "cell_type": "code",
   "execution_count": 46,
   "metadata": {},
   "outputs": [
    {
     "data": {
      "image/png": "[encoded data removed]",
      "text/plain": [
       "<Figure size 1080x360 with 3 Axes>"
      ]
     },
     "metadata": {
      "needs_background": "light"
     },
     "output_type": "display_data"
    }
   ],
   "source": [
    "sns.lmplot(x=\"Profit\",y=\"Sales\",data=df,fit_reg=False,col=\"Category\")\n",
    "plt.show()"
   ]
  },
  {
   "cell_type": "markdown",
   "metadata": {},
   "source": [
    "#### The profit is very low almost 0 in the Furniture sector also the profit is high in the Technology sector"
   ]
  },
  {
   "cell_type": "code",
   "execution_count": 47,
   "metadata": {},
   "outputs": [
    {
     "name": "stdout",
     "output_type": "stream",
     "text": [
      " 0.00      446\n",
      " 6.22       52\n",
      " 9.00       51\n",
      " 3.60       49\n",
      " 4.32       48\n",
      "          ... \n",
      "-27.70       1\n",
      " 100.62      1\n",
      "-428.74      1\n",
      " 197.71      1\n",
      "-49.57       1\n",
      "Name: Profit, Length: 14515, dtype: int64\n"
     ]
    },
    {
     "data": {
      "image/png": "[encoded data removed]",
      "text/plain": [
       "<Figure size 1584x864 with 1 Axes>"
      ]
     },
     "metadata": {
      "needs_background": "light"
     },
     "output_type": "display_data"
    }
   ],
   "source": [
    "plt.figure(figsize=(22,12))\n",
    "sns.countplot(x='Sub-Category',hue='Region',data=df)\n",
    "print(df['Profit'].value_counts())"
   ]
  },
  {
   "cell_type": "code",
   "execution_count": 48,
   "metadata": {},
   "outputs": [
    {
     "data": {
      "text/plain": [
       "<AxesSubplot:xlabel='Sub-Category', ylabel='count'>"
      ]
     },
     "execution_count": 48,
     "metadata": {},
     "output_type": "execute_result"
    },
    {
     "data": {
      "image/png": "[encoded data removed]",
      "text/plain": [
       "<Figure size 1080x576 with 1 Axes>"
      ]
     },
     "metadata": {
      "needs_background": "light"
     },
     "output_type": "display_data"
    }
   ],
   "source": [
    "plt.figure(figsize=(15,8))\n",
    "plt.xticks(rotation=45)\n",
    "sns.countplot(x='Sub-Category',hue='Segment',data=df)"
   ]
  },
  {
   "cell_type": "code",
   "execution_count": 50,
   "metadata": {
    "scrolled": true
   },
   "outputs": [
    {
     "name": "stderr",
     "output_type": "stream",
     "text": [
      "/Users/forrestcasey/opt/anaconda3/envs/mlenv/lib/python3.7/site-packages/seaborn/_decorators.py:43: FutureWarning: Pass the following variables as keyword args: x, y. From version 0.12, the only valid positional argument will be `data`, and passing other arguments without an explicit keyword will result in an error or misinterpretation.\n",
      "  FutureWarning\n"
     ]
    },
    {
     "data": {
      "text/plain": [
       "<AxesSubplot:xlabel='Sub-Category', ylabel='Profit'>"
      ]
     },
     "execution_count": 50,
     "metadata": {},
     "output_type": "execute_result"
    },
    {
     "data": {
      "image/png": "[encoded data removed]",
      "text/plain": [
       "<Figure size 1296x360 with 1 Axes>"
      ]
     },
     "metadata": {
      "needs_background": "light"
     },
     "output_type": "display_data"
    }
   ],
   "source": [
    "# Forming a combined barplot for all the sub categories with respect to profit\n",
    "fig,axs=plt.subplots(1,1,figsize=(18,5))\n",
    "sns.barplot(\"Sub-Category\",\"Profit\",data=df)"
   ]
  },
  {
   "cell_type": "markdown",
   "metadata": {},
   "source": [
    "#### HERE WE OBSERVE THE PROFIT OR THE LOSSES WITH RESPECT TO EACH OF THE SUB CATEGORIES\n",
    "#### We observe that Table, Bookcases and Fasteners are in loss whereas the Copiers sub category has the highest amount of profit"
   ]
  },
  {
   "cell_type": "code",
   "execution_count": 51,
   "metadata": {},
   "outputs": [
    {
     "data": {
      "application/vnd.plotly.v1+json": {
       "config": {
        "plotlyServerURL": "https://plot.ly"
       },
       "data": [
        {
         "branchvalues": "total",
         "customdata": [
          [
           589486.12,
           "(?)",
           "(?)"
          ],
          [
           304763.83,
           "(?)",
           "Office Supplies"
          ],
          [
           404887.67,
           "(?)",
           "(?)"
          ],
          [
           216748.51,
           "(?)",
           "Technology"
          ],
          [
           90125.7,
           "(?)",
           "(?)"
          ],
          [
           37636.47,
           "(?)",
           "Office Supplies"
          ],
          [
           35554.81,
           "(?)",
           "Office Supplies"
          ],
          [
           43642.78,
           "(?)",
           "Office Supplies"
          ],
          [
           245784.1,
           "(?)",
           "Office Supplies"
          ],
          [
           18005.61,
           "(?)",
           "Office Supplies"
          ],
          [
           127707.94,
           "(?)",
           "Technology"
          ],
          [
           262189.52,
           "(?)",
           "Technology"
          ],
          [
           31525.04,
           "(?)",
           "Technology"
          ],
          [
           242259.04,
           "(?)",
           "Technology"
          ],
          [
           46109.28,
           "(?)",
           "Technology"
          ],
          [
           245722.2,
           "(?)",
           "Technology"
          ],
          [
           836154.1,
           "(?)",
           "Technology"
          ],
          [
           858931.65,
           "(?)",
           "(?)"
          ],
          [
           34922.43,
           "(?)",
           "Furniture"
          ],
          [
           37117.38,
           "(?)",
           "Technology"
          ],
          [
           242117.19,
           "(?)",
           "Furniture"
          ],
          [
           46257.68,
           "(?)",
           "Furniture"
          ],
          [
           160633.54,
           "(?)",
           "Furniture"
          ],
          [
           73759.07,
           "(?)",
           "Furniture"
          ],
          [
           216056.28,
           "(?)",
           "Furniture"
          ],
          [
           17679.52,
           "(?)",
           "Furniture"
          ],
          [
           149433.46,
           "(?)",
           "Furniture"
          ],
          [
           96365.14,
           "(?)",
           "Technology"
          ],
          [
           287146.72,
           "(?)",
           "(?)"
          ],
          [
           700562.09,
           "(?)",
           "(?)"
          ],
          [
           32036.71,
           "(?)",
           "Furniture"
          ],
          [
           45009.98,
           "(?)",
           "Technology"
          ],
          [
           61193.7,
           "(?)",
           "Technology"
          ],
          [
           263514.92,
           "(?)",
           "Technology"
          ],
          [
           925236.91,
           "(?)",
           "(?)"
          ],
          [
           340212.68,
           "(?)",
           "Technology"
          ],
          [
           528576.55,
           "(?)",
           "(?)"
          ],
          [
           179366.99,
           "(?)",
           "Office Supplies"
          ],
          [
           108507.9,
           "(?)",
           "(?)"
          ],
          [
           74138.54,
           "(?)",
           "Furniture"
          ],
          [
           108181.55,
           "(?)",
           "Office Supplies"
          ],
          [
           160153.16,
           "(?)",
           "Office Supplies"
          ],
          [
           132461.05,
           "(?)",
           "Furniture"
          ],
          [
           741577.69,
           "(?)",
           "Furniture"
          ],
          [
           628136.55,
           "(?)",
           "(?)"
          ],
          [
           30000.36,
           "(?)",
           "Furniture"
          ],
          [
           131602.46,
           "(?)",
           "(?)"
          ],
          [
           71080.28,
           "(?)",
           "Furniture"
          ],
          [
           215677.45,
           "(?)",
           "Furniture"
          ],
          [
           286142.82,
           "(?)",
           "(?)"
          ],
          [
           140037.95,
           "(?)",
           "Furniture"
          ],
          [
           51848.72,
           "(?)",
           "Furniture"
          ],
          [
           46429.78,
           "(?)",
           "Office Supplies"
          ],
          [
           37714.32,
           "(?)",
           "Office Supplies"
          ],
          [
           172020.63,
           "(?)",
           "(?)"
          ],
          [
           621552.81,
           "(?)",
           "(?)"
          ],
          [
           359924.85,
           "(?)",
           "(?)"
          ],
          [
           158854.94,
           "(?)",
           "(?)"
          ],
          [
           126140.58,
           "(?)",
           "(?)"
          ],
          [
           113746.11,
           "(?)",
           "(?)"
          ],
          [
           54350.47,
           "(?)",
           "(?)"
          ],
          [
           177554.91,
           "(?)",
           "(?)"
          ],
          [
           149687.06,
           "(?)",
           "(?)"
          ],
          [
           183420.66,
           "(?)",
           "(?)"
          ],
          [
           339240.13,
           "(?)",
           "Furniture"
          ],
          [
           719469.28,
           "(?)",
           "Office Supplies"
          ],
          [
           67912.86,
           "(?)",
           "Technology"
          ],
          [
           276611.61,
           "(?)",
           "Furniture"
          ],
          [
           56382.38,
           "(?)",
           "Furniture"
          ],
          [
           43416.28,
           "(?)",
           "Furniture"
          ],
          [
           69133.33,
           "(?)",
           "Furniture"
          ],
          [
           71860.82,
           "(?)",
           "Furniture"
          ],
          [
           82783.45,
           "(?)",
           "Office Supplies"
          ],
          [
           160435.56,
           "(?)",
           "Office Supplies"
          ],
          [
           41278.86,
           "(?)",
           "Office Supplies"
          ],
          [
           205313.49,
           "(?)",
           "Office Supplies"
          ],
          [
           29832.76,
           "(?)",
           "Office Supplies"
          ],
          [
           26563.95,
           "(?)",
           "Office Supplies"
          ],
          [
           131170.8,
           "(?)",
           "Office Supplies"
          ],
          [
           118777.88,
           "(?)",
           "Office Supplies"
          ],
          [
           118697.4,
           "(?)",
           "Office Supplies"
          ],
          [
           41369.26,
           "(?)",
           "Office Supplies"
          ],
          [
           36468.09,
           "(?)",
           "Office Supplies"
          ],
          [
           57366.06,
           "(?)",
           "Technology"
          ],
          [
           312050.63,
           "(?)",
           "Technology"
          ],
          [
           55512.02,
           "(?)",
           "Technology"
          ],
          [
           146071.84,
           "(?)",
           "Technology"
          ],
          [
           67332.49,
           "(?)",
           "Technology"
          ],
          [
           54195.56,
           "(?)",
           "Technology"
          ],
          [
           18665.34,
           "(?)",
           "Technology"
          ],
          [
           107104.35,
           "(?)",
           "Technology"
          ],
          [
           2297201.07,
           "(?)",
           "(?)"
          ]
         ],
         "domain": {
          "x": [
           0,
           1
          ],
          "y": [
           0,
           1
          ]
         },
         "hovertemplate": "labels=%{label}<br>Sales=%{customdata[0]}<br>parent=%{parent}<br>id=%{id}<br>Profit=%{customdata[1]}<br>Category=%{customdata[2]}<extra></extra>",
         "ids": [
          "India",
          "France/Office Supplies",
          "Indonesia",
          "United Kingdom/Technology",
          "Honduras",
          "Iran/Office Supplies",
          "New Zealand/Office Supplies",
          "Nicaragua/Office Supplies",
          "Australia/Office Supplies",
          "Nigeria/Office Supplies",
          "Brazil/Technology",
          "Germany/Technology",
          "Honduras/Technology",
          "India/Technology",
          "Iran/Technology",
          "Mexico/Technology",
          "United States/Technology",
          "France",
          "Turkey/Furniture",
          "Turkey/Technology",
          "France/Furniture",
          "Guatemala/Furniture",
          "Germany/Furniture",
          "El Salvador/Furniture",
          "India/Furniture",
          "Nigeria/Furniture",
          "Brazil/Furniture",
          "Italy/Technology",
          "Spain",
          "China",
          "Honduras/Furniture",
          "Dominican Republic/Technology",
          "Cuba/Technology",
          "China/Technology",
          "Australia",
          "Australia/Technology",
          "United Kingdom",
          "United Kingdom/Office Supplies",
          "Turkey",
          "Philippines/Furniture",
          "Spain/Office Supplies",
          "Mexico/Office Supplies",
          "United Kingdom/Furniture",
          "United States/Furniture",
          "Germany",
          "Iran/Furniture",
          "Guatemala",
          "Italy/Furniture",
          "Mexico/Furniture",
          "Italy",
          "Indonesia/Furniture",
          "Nicaragua/Furniture",
          "El Salvador/Office Supplies",
          "Dominican Republic/Office Supplies",
          "New Zealand",
          "Mexico",
          "Brazil",
          "Cuba",
          "Dominican Republic",
          "Iran",
          "Nigeria",
          "El Salvador",
          "Nicaragua",
          "Philippines",
          "Australia/Furniture",
          "United States/Office Supplies",
          "Philippines/Technology",
          "China/Furniture",
          "Cuba/Furniture",
          "Dominican Republic/Furniture",
          "New Zealand/Furniture",
          "Spain/Furniture",
          "Brazil/Office Supplies",
          "China/Office Supplies",
          "Cuba/Office Supplies",
          "Germany/Office Supplies",
          "Guatemala/Office Supplies",
          "Honduras/Office Supplies",
          "India/Office Supplies",
          "Indonesia/Office Supplies",
          "Italy/Office Supplies",
          "Philippines/Office Supplies",
          "Turkey/Office Supplies",
          "El Salvador/Technology",
          "France/Technology",
          "Guatemala/Technology",
          "Indonesia/Technology",
          "New Zealand/Technology",
          "Nicaragua/Technology",
          "Nigeria/Technology",
          "Spain/Technology",
          "United States"
         ],
         "labels": [
          "India",
          "Office Supplies",
          "Indonesia",
          "Technology",
          "Honduras",
          "Office Supplies",
          "Office Supplies",
          "Office Supplies",
          "Office Supplies",
          "Office Supplies",
          "Technology",
          "Technology",
          "Technology",
          "Technology",
          "Technology",
          "Technology",
          "Technology",
          "France",
          "Furniture",
          "Technology",
          "Furniture",
          "Furniture",
          "Furniture",
          "Furniture",
          "Furniture",
          "Furniture",
          "Furniture",
          "Technology",
          "Spain",
          "China",
          "Furniture",
          "Technology",
          "Technology",
          "Technology",
          "Australia",
          "Technology",
          "United Kingdom",
          "Office Supplies",
          "Turkey",
          "Furniture",
          "Office Supplies",
          "Office Supplies",
          "Furniture",
          "Furniture",
          "Germany",
          "Furniture",
          "Guatemala",
          "Furniture",
          "Furniture",
          "Italy",
          "Furniture",
          "Furniture",
          "Office Supplies",
          "Office Supplies",
          "New Zealand",
          "Mexico",
          "Brazil",
          "Cuba",
          "Dominican Republic",
          "Iran",
          "Nigeria",
          "El Salvador",
          "Nicaragua",
          "Philippines",
          "Furniture",
          "Office Supplies",
          "Technology",
          "Furniture",
          "Furniture",
          "Furniture",
          "Furniture",
          "Furniture",
          "Office Supplies",
          "Office Supplies",
          "Office Supplies",
          "Office Supplies",
          "Office Supplies",
          "Office Supplies",
          "Office Supplies",
          "Office Supplies",
          "Office Supplies",
          "Office Supplies",
          "Office Supplies",
          "Technology",
          "Technology",
          "Technology",
          "Technology",
          "Technology",
          "Technology",
          "Technology",
          "Technology",
          "United States"
         ],
         "marker": {
          "colors": [
           "#636efa",
           "#EF553B",
           "#636efa",
           "#00cc96",
           "#636efa",
           "#EF553B",
           "#EF553B",
           "#EF553B",
           "#EF553B",
           "#EF553B",
           "#00cc96",
           "#00cc96",
           "#00cc96",
           "#00cc96",
           "#00cc96",
           "#00cc96",
           "#00cc96",
           "#636efa",
           "#ab63fa",
           "#00cc96",
           "#ab63fa",
           "#ab63fa",
           "#ab63fa",
           "#ab63fa",
           "#ab63fa",
           "#ab63fa",
           "#ab63fa",
           "#00cc96",
           "#636efa",
           "#636efa",
           "#ab63fa",
           "#00cc96",
           "#00cc96",
           "#00cc96",
           "#636efa",
           "#00cc96",
           "#636efa",
           "#EF553B",
           "#636efa",
           "#ab63fa",
           "#EF553B",
           "#EF553B",
           "#ab63fa",
           "#ab63fa",
           "#636efa",
           "#ab63fa",
           "#636efa",
           "#ab63fa",
           "#ab63fa",
           "#636efa",
           "#ab63fa",
           "#ab63fa",
           "#EF553B",
           "#EF553B",
           "#636efa",
           "#636efa",
           "#636efa",
           "#636efa",
           "#636efa",
           "#636efa",
           "#636efa",
           "#636efa",
           "#636efa",
           "#636efa",
           "#ab63fa",
           "#EF553B",
           "#00cc96",
           "#ab63fa",
           "#ab63fa",
           "#ab63fa",
           "#ab63fa",
           "#ab63fa",
           "#EF553B",
           "#EF553B",
           "#EF553B",
           "#EF553B",
           "#EF553B",
           "#EF553B",
           "#EF553B",
           "#EF553B",
           "#EF553B",
           "#EF553B",
           "#EF553B",
           "#00cc96",
           "#00cc96",
           "#00cc96",
           "#00cc96",
           "#00cc96",
           "#00cc96",
           "#00cc96",
           "#00cc96",
           "#636efa"
          ]
         },
         "name": "",
         "parents": [
          "",
          "France",
          "",
          "United Kingdom",
          "",
          "Iran",
          "New Zealand",
          "Nicaragua",
          "Australia",
          "Nigeria",
          "Brazil",
          "Germany",
          "Honduras",
          "India",
          "Iran",
          "Mexico",
          "United States",
          "",
          "Turkey",
          "Turkey",
          "France",
          "Guatemala",
          "Germany",
          "El Salvador",
          "India",
          "Nigeria",
          "Brazil",
          "Italy",
          "",
          "",
          "Honduras",
          "Dominican Republic",
          "Cuba",
          "China",
          "",
          "Australia",
          "",
          "United Kingdom",
          "",
          "Philippines",
          "Spain",
          "Mexico",
          "United Kingdom",
          "United States",
          "",
          "Iran",
          "",
          "Italy",
          "Mexico",
          "",
          "Indonesia",
          "Nicaragua",
          "El Salvador",
          "Dominican Republic",
          "",
          "",
          "",
          "",
          "",
          "",
          "",
          "",
          "",
          "",
          "Australia",
          "United States",
          "Philippines",
          "China",
          "Cuba",
          "Dominican Republic",
          "New Zealand",
          "Spain",
          "Brazil",
          "China",
          "Cuba",
          "Germany",
          "Guatemala",
          "Honduras",
          "India",
          "Indonesia",
          "Italy",
          "Philippines",
          "Turkey",
          "El Salvador",
          "France",
          "Guatemala",
          "Indonesia",
          "New Zealand",
          "Nicaragua",
          "Nigeria",
          "Spain",
          ""
         ],
         "type": "sunburst",
         "values": [
          589486.12,
          304763.83,
          404887.67,
          216748.51,
          90125.7,
          37636.47,
          35554.81,
          43642.78,
          245784.1,
          18005.61,
          127707.94,
          262189.52,
          31525.04,
          242259.04,
          46109.28,
          245722.2,
          836154.1,
          858931.65,
          34922.43,
          37117.38,
          242117.19,
          46257.68,
          160633.54,
          73759.07,
          216056.28,
          17679.52,
          149433.46,
          96365.14,
          287146.72,
          700562.09,
          32036.71,
          45009.98,
          61193.7,
          263514.92,
          925236.91,
          340212.68,
          528576.55,
          179366.99,
          108507.9,
          74138.54,
          108181.55,
          160153.16,
          132461.05,
          741577.69,
          628136.55,
          30000.36,
          131602.46,
          71080.28,
          215677.45,
          286142.82,
          140037.95,
          51848.72,
          46429.78,
          37714.32,
          172020.63,
          621552.81,
          359924.85,
          158854.94,
          126140.58,
          113746.11,
          54350.47,
          177554.91,
          149687.06,
          183420.66,
          339240.13,
          719469.28,
          67912.86,
          276611.61,
          56382.38,
          43416.28,
          69133.33,
          71860.82,
          82783.45,
          160435.56,
          41278.86,
          205313.49,
          29832.76,
          26563.95,
          131170.8,
          118777.88,
          118697.4,
          41369.26,
          36468.09,
          57366.06,
          312050.63,
          55512.02,
          146071.84,
          67332.49,
          54195.56,
          18665.34,
          107104.35,
          2297201.07
         ]
        }
       ],
       "layout": {
        "height": 800,
        "legend": {
         "tracegroupgap": 0
        },
        "margin": {
         "t": 60
        },
        "template": {
         "data": {
          "bar": [
           {
            "error_x": {
             "color": "#2a3f5f"
            },
            "error_y": {
             "color": "#2a3f5f"
            },
            "marker": {
             "line": {
              "color": "#E5ECF6",
              "width": 0.5
             },
             "pattern": {
              "fillmode": "overlay",
              "size": 10,
              "solidity": 0.2
             }
            },
            "type": "bar"
           }
          ],
          "barpolar": [
           {
            "marker": {
             "line": {
              "color": "#E5ECF6",
              "width": 0.5
             },
             "pattern": {
              "fillmode": "overlay",
              "size": 10,
              "solidity": 0.2
             }
            },
            "type": "barpolar"
           }
          ],
          "carpet": [
           {
            "aaxis": {
             "endlinecolor": "#2a3f5f",
             "gridcolor": "white",
             "linecolor": "white",
             "minorgridcolor": "white",
             "startlinecolor": "#2a3f5f"
            },
            "baxis": {
             "endlinecolor": "#2a3f5f",
             "gridcolor": "white",
             "linecolor": "white",
             "minorgridcolor": "white",
             "startlinecolor": "#2a3f5f"
            },
            "type": "carpet"
           }
          ],
          "choropleth": [
           {
            "colorbar": {
             "outlinewidth": 0,
             "ticks": ""
            },
            "type": "choropleth"
           }
          ],
          "contour": [
           {
            "colorbar": {
             "outlinewidth": 0,
             "ticks": ""
            },
            "colorscale": [
             [
              0,
              "#0d0887"
             ],
             [
              0.1111111111111111,
              "#46039f"
             ],
             [
              0.2222222222222222,
              "#7201a8"
             ],
             [
              0.3333333333333333,
              "#9c179e"
             ],
             [
              0.4444444444444444,
              "#bd3786"
             ],
             [
              0.5555555555555556,
              "#d8576b"
             ],
             [
              0.6666666666666666,
              "#ed7953"
             ],
             [
              0.7777777777777778,
              "#fb9f3a"
             ],
             [
              0.8888888888888888,
              "#fdca26"
             ],
             [
              1,
              "#f0f921"
             ]
            ],
            "type": "contour"
           }
          ],
          "contourcarpet": [
           {
            "colorbar": {
             "outlinewidth": 0,
             "ticks": ""
            },
            "type": "contourcarpet"
           }
          ],
          "heatmap": [
           {
            "colorbar": {
             "outlinewidth": 0,
             "ticks": ""
            },
            "colorscale": [
             [
              0,
              "#0d0887"
             ],
             [
              0.1111111111111111,
              "#46039f"
             ],
             [
              0.2222222222222222,
              "#7201a8"
             ],
             [
              0.3333333333333333,
              "#9c179e"
             ],
             [
              0.4444444444444444,
              "#bd3786"
             ],
             [
              0.5555555555555556,
              "#d8576b"
             ],
             [
              0.6666666666666666,
              "#ed7953"
             ],
             [
              0.7777777777777778,
              "#fb9f3a"
             ],
             [
              0.8888888888888888,
              "#fdca26"
             ],
             [
              1,
              "#f0f921"
             ]
            ],
            "type": "heatmap"
           }
          ],
          "heatmapgl": [
           {
            "colorbar": {
             "outlinewidth": 0,
             "ticks": ""
            },
            "colorscale": [
             [
              0,
              "#0d0887"
             ],
             [
              0.1111111111111111,
              "#46039f"
             ],
             [
              0.2222222222222222,
              "#7201a8"
             ],
             [
              0.3333333333333333,
              "#9c179e"
             ],
             [
              0.4444444444444444,
              "#bd3786"
             ],
             [
              0.5555555555555556,
              "#d8576b"
             ],
             [
              0.6666666666666666,
              "#ed7953"
             ],
             [
              0.7777777777777778,
              "#fb9f3a"
             ],
             [
              0.8888888888888888,
              "#fdca26"
             ],
             [
              1,
              "#f0f921"
             ]
            ],
            "type": "heatmapgl"
           }
          ],
          "histogram": [
           {
            "marker": {
             "pattern": {
              "fillmode": "overlay",
              "size": 10,
              "solidity": 0.2
             }
            },
            "type": "histogram"
           }
          ],
          "histogram2d": [
           {
            "colorbar": {
             "outlinewidth": 0,
             "ticks": ""
            },
            "colorscale": [
             [
              0,
              "#0d0887"
             ],
             [
              0.1111111111111111,
              "#46039f"
             ],
             [
              0.2222222222222222,
              "#7201a8"
             ],
             [
              0.3333333333333333,
              "#9c179e"
             ],
             [
              0.4444444444444444,
              "#bd3786"
             ],
             [
              0.5555555555555556,
              "#d8576b"
             ],
             [
              0.6666666666666666,
              "#ed7953"
             ],
             [
              0.7777777777777778,
              "#fb9f3a"
             ],
             [
              0.8888888888888888,
              "#fdca26"
             ],
             [
              1,
              "#f0f921"
             ]
            ],
            "type": "histogram2d"
           }
          ],
          "histogram2dcontour": [
           {
            "colorbar": {
             "outlinewidth": 0,
             "ticks": ""
            },
            "colorscale": [
             [
              0,
              "#0d0887"
             ],
             [
              0.1111111111111111,
              "#46039f"
             ],
             [
              0.2222222222222222,
              "#7201a8"
             ],
             [
              0.3333333333333333,
              "#9c179e"
             ],
             [
              0.4444444444444444,
              "#bd3786"
             ],
             [
              0.5555555555555556,
              "#d8576b"
             ],
             [
              0.6666666666666666,
              "#ed7953"
             ],
             [
              0.7777777777777778,
              "#fb9f3a"
             ],
             [
              0.8888888888888888,
              "#fdca26"
             ],
             [
              1,
              "#f0f921"
             ]
            ],
            "type": "histogram2dcontour"
           }
          ],
          "mesh3d": [
           {
            "colorbar": {
             "outlinewidth": 0,
             "ticks": ""
            },
            "type": "mesh3d"
           }
          ],
          "parcoords": [
           {
            "line": {
             "colorbar": {
              "outlinewidth": 0,
              "ticks": ""
             }
            },
            "type": "parcoords"
           }
          ],
          "pie": [
           {
            "automargin": true,
            "type": "pie"
           }
          ],
          "scatter": [
           {
            "marker": {
             "colorbar": {
              "outlinewidth": 0,
              "ticks": ""
             }
            },
            "type": "scatter"
           }
          ],
          "scatter3d": [
           {
            "line": {
             "colorbar": {
              "outlinewidth": 0,
              "ticks": ""
             }
            },
            "marker": {
             "colorbar": {
              "outlinewidth": 0,
              "ticks": ""
             }
            },
            "type": "scatter3d"
           }
          ],
          "scattercarpet": [
           {
            "marker": {
             "colorbar": {
              "outlinewidth": 0,
              "ticks": ""
             }
            },
            "type": "scattercarpet"
           }
          ],
          "scattergeo": [
           {
            "marker": {
             "colorbar": {
              "outlinewidth": 0,
              "ticks": ""
             }
            },
            "type": "scattergeo"
           }
          ],
          "scattergl": [
           {
            "marker": {
             "colorbar": {
              "outlinewidth": 0,
              "ticks": ""
             }
            },
            "type": "scattergl"
           }
          ],
          "scattermapbox": [
           {
            "marker": {
             "colorbar": {
              "outlinewidth": 0,
              "ticks": ""
             }
            },
            "type": "scattermapbox"
           }
          ],
          "scatterpolar": [
           {
            "marker": {
             "colorbar": {
              "outlinewidth": 0,
              "ticks": ""
             }
            },
            "type": "scatterpolar"
           }
          ],
          "scatterpolargl": [
           {
            "marker": {
             "colorbar": {
              "outlinewidth": 0,
              "ticks": ""
             }
            },
            "type": "scatterpolargl"
           }
          ],
          "scatterternary": [
           {
            "marker": {
             "colorbar": {
              "outlinewidth": 0,
              "ticks": ""
             }
            },
            "type": "scatterternary"
           }
          ],
          "surface": [
           {
            "colorbar": {
             "outlinewidth": 0,
             "ticks": ""
            },
            "colorscale": [
             [
              0,
              "#0d0887"
             ],
             [
              0.1111111111111111,
              "#46039f"
             ],
             [
              0.2222222222222222,
              "#7201a8"
             ],
             [
              0.3333333333333333,
              "#9c179e"
             ],
             [
              0.4444444444444444,
              "#bd3786"
             ],
             [
              0.5555555555555556,
              "#d8576b"
             ],
             [
              0.6666666666666666,
              "#ed7953"
             ],
             [
              0.7777777777777778,
              "#fb9f3a"
             ],
             [
              0.8888888888888888,
              "#fdca26"
             ],
             [
              1,
              "#f0f921"
             ]
            ],
            "type": "surface"
           }
          ],
          "table": [
           {
            "cells": {
             "fill": {
              "color": "#EBF0F8"
             },
             "line": {
              "color": "white"
             }
            },
            "header": {
             "fill": {
              "color": "#C8D4E3"
             },
             "line": {
              "color": "white"
             }
            },
            "type": "table"
           }
          ]
         },
         "layout": {
          "annotationdefaults": {
           "arrowcolor": "#2a3f5f",
           "arrowhead": 0,
           "arrowwidth": 1
          },
          "autotypenumbers": "strict",
          "coloraxis": {
           "colorbar": {
            "outlinewidth": 0,
            "ticks": ""
           }
          },
          "colorscale": {
           "diverging": [
            [
             0,
             "#8e0152"
            ],
            [
             0.1,
             "#c51b7d"
            ],
            [
             0.2,
             "#de77ae"
            ],
            [
             0.3,
             "#f1b6da"
            ],
            [
             0.4,
             "#fde0ef"
            ],
            [
             0.5,
             "#f7f7f7"
            ],
            [
             0.6,
             "#e6f5d0"
            ],
            [
             0.7,
             "#b8e186"
            ],
            [
             0.8,
             "#7fbc41"
            ],
            [
             0.9,
             "#4d9221"
            ],
            [
             1,
             "#276419"
            ]
           ],
           "sequential": [
            [
             0,
             "#0d0887"
            ],
            [
             0.1111111111111111,
             "#46039f"
            ],
            [
             0.2222222222222222,
             "#7201a8"
            ],
            [
             0.3333333333333333,
             "#9c179e"
            ],
            [
             0.4444444444444444,
             "#bd3786"
            ],
            [
             0.5555555555555556,
             "#d8576b"
            ],
            [
             0.6666666666666666,
             "#ed7953"
            ],
            [
             0.7777777777777778,
             "#fb9f3a"
            ],
            [
             0.8888888888888888,
             "#fdca26"
            ],
            [
             1,
             "#f0f921"
            ]
           ],
           "sequentialminus": [
            [
             0,
             "#0d0887"
            ],
            [
             0.1111111111111111,
             "#46039f"
            ],
            [
             0.2222222222222222,
             "#7201a8"
            ],
            [
             0.3333333333333333,
             "#9c179e"
            ],
            [
             0.4444444444444444,
             "#bd3786"
            ],
            [
             0.5555555555555556,
             "#d8576b"
            ],
            [
             0.6666666666666666,
             "#ed7953"
            ],
            [
             0.7777777777777778,
             "#fb9f3a"
            ],
            [
             0.8888888888888888,
             "#fdca26"
            ],
            [
             1,
             "#f0f921"
            ]
           ]
          },
          "colorway": [
           "#636efa",
           "#EF553B",
           "#00cc96",
           "#ab63fa",
           "#FFA15A",
           "#19d3f3",
           "#FF6692",
           "#B6E880",
           "#FF97FF",
           "#FECB52"
          ],
          "font": {
           "color": "#2a3f5f"
          },
          "geo": {
           "bgcolor": "white",
           "lakecolor": "white",
           "landcolor": "#E5ECF6",
           "showlakes": true,
           "showland": true,
           "subunitcolor": "white"
          },
          "hoverlabel": {
           "align": "left"
          },
          "hovermode": "closest",
          "mapbox": {
           "style": "light"
          },
          "paper_bgcolor": "white",
          "plot_bgcolor": "#E5ECF6",
          "polar": {
           "angularaxis": {
            "gridcolor": "white",
            "linecolor": "white",
            "ticks": ""
           },
           "bgcolor": "#E5ECF6",
           "radialaxis": {
            "gridcolor": "white",
            "linecolor": "white",
            "ticks": ""
           }
          },
          "scene": {
           "xaxis": {
            "backgroundcolor": "#E5ECF6",
            "gridcolor": "white",
            "gridwidth": 2,
            "linecolor": "white",
            "showbackground": true,
            "ticks": "",
            "zerolinecolor": "white"
           },
           "yaxis": {
            "backgroundcolor": "#E5ECF6",
            "gridcolor": "white",
            "gridwidth": 2,
            "linecolor": "white",
            "showbackground": true,
            "ticks": "",
            "zerolinecolor": "white"
           },
           "zaxis": {
            "backgroundcolor": "#E5ECF6",
            "gridcolor": "white",
            "gridwidth": 2,
            "linecolor": "white",
            "showbackground": true,
            "ticks": "",
            "zerolinecolor": "white"
           }
          },
          "shapedefaults": {
           "line": {
            "color": "#2a3f5f"
           }
          },
          "ternary": {
           "aaxis": {
            "gridcolor": "white",
            "linecolor": "white",
            "ticks": ""
           },
           "baxis": {
            "gridcolor": "white",
            "linecolor": "white",
            "ticks": ""
           },
           "bgcolor": "#E5ECF6",
           "caxis": {
            "gridcolor": "white",
            "linecolor": "white",
            "ticks": ""
           }
          },
          "title": {
           "x": 0.05
          },
          "xaxis": {
           "automargin": true,
           "gridcolor": "white",
           "linecolor": "white",
           "ticks": "",
           "title": {
            "standoff": 15
           },
           "zerolinecolor": "white",
           "zerolinewidth": 2
          },
          "yaxis": {
           "automargin": true,
           "gridcolor": "white",
           "linecolor": "white",
           "ticks": "",
           "title": {
            "standoff": 15
           },
           "zerolinecolor": "white",
           "zerolinewidth": 2
          }
         }
        }
       }
      }
     },
     "metadata": {},
     "output_type": "display_data"
    }
   ],
   "source": [
    "fig=px.sunburst(df,path=['Country','Category'],values='Sales',color='Category',hover_data=['Sales','Profit'])\n",
    "fig.update_layout(height=800)\n",
    "fig.show()"
   ]
  },
  {
   "cell_type": "markdown",
   "metadata": {},
   "source": [
    "## THE FINAL INSIGHTS\n",
    "\n",
    "### 1. When the discount is till 0.3 there is a profit.But if the discount increases beyond 0.3 there a loss will be incurred\n",
    "\n",
    "### 2.Although office supplies is the most selling category but the profit is highest from the technology sector. Under which the the profit has come more from the Consumers segment.\n",
    "\n",
    "### 3.Although Copiers is the least selling sub-category but has given the most profit out of all the sub-categories.\n",
    "\n",
    "### 4.There is a huge loss from the furniture section largely due to tables.\n",
    "\n",
    "### 5.The profit is high when the ship mode is \"Standard Class\" and the Profit is negligible when the ship Mode is \"Same day\"\n",
    "\n",
    "### 6.The profit is more from the east and west region of the country."
   ]
  },
  {
   "cell_type": "markdown",
   "metadata": {},
   "source": [
    "## SUGGESTIONS TO THE BUSSINESS\n",
    "\n",
    "#### 1.THE DISCOUNT SHOULD NOT BE INCREASED BEYOND 0.3.\n",
    "\n",
    "#### 2.THE FURNITURE CATEGORY IS CAUSING A LOT OF LOSS, SO THE COMPANY CAN STOP SELLING SOME FURNITURE ITEMS SUCH AS TABLES OR SHOULD INCREASE THE PRICE OF THE FURNITURE CATEGORY OR CAN TRY TO REDUCE THE OVERALL COST OF THE PRODUCT\n",
    "\n",
    "#### 3.IF THE SHIPPING MODE IS \"SAME DAY\", THE SHIPPING CHARGES SHOULD BE INCREASED.\n",
    "\n",
    "#### 4.THE COMPANY SHOULD FOCUS MORE ON THE TECHNOLOGY SECTION "
   ]
  },
  {
   "cell_type": "code",
   "execution_count": null,
   "metadata": {},
   "outputs": [],
   "source": []
  }
 ],
 "metadata": {
  "interpreter": {
   "hash": "fe1262afa97a037d3854f23f73e4c999e31c0149032974b89c10d8169a8ce6d7"
  },
  "kernelspec": {
   "display_name": "mlenv",
   "language": "python",
   "name": "python3"
  },
  "language_info": {
   "codemirror_mode": {
    "name": "ipython",
    "version": 3
   },
   "file_extension": ".py",
   "mimetype": "text/x-python",
   "name": "python",
   "nbconvert_exporter": "python",
   "pygments_lexer": "ipython3",
   "version": "3.7.11"
  }
 },
 "nbformat": 4,
 "nbformat_minor": 4
}
