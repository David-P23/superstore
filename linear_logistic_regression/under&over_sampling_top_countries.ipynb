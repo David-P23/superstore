{
 "cells": [
  {
   "cell_type": "code",
   "execution_count": 1,
   "id": "2cf2ecbc",
   "metadata": {},
   "outputs": [],
   "source": [
    "# import dependencies\n",
    "from sklearn.model_selection import train_test_split\n",
    "import pandas as pd\n",
    "import datetime as dt\n",
    "import numpy as np\n",
    "from sklearn.linear_model import LinearRegression, LogisticRegression\n",
    "from sklearn.metrics import r2_score, accuracy_score, confusion_matrix, balanced_accuracy_score\n",
    "from collections import Counter\n",
    "from imblearn.over_sampling import RandomOverSampler, SMOTE\n",
    "from imblearn.under_sampling import RandomUnderSampler, ClusterCentroids\n",
    "from imblearn.combine import SMOTEENN"
   ]
  },
  {
   "cell_type": "code",
   "execution_count": 2,
   "id": "76226ebb",
   "metadata": {},
   "outputs": [
    {
     "data": {
      "text/html": [
       "<div>\n",
       "<style scoped>\n",
       "    .dataframe tbody tr th:only-of-type {\n",
       "        vertical-align: middle;\n",
       "    }\n",
       "\n",
       "    .dataframe tbody tr th {\n",
       "        vertical-align: top;\n",
       "    }\n",
       "\n",
       "    .dataframe thead th {\n",
       "        text-align: right;\n",
       "    }\n",
       "</style>\n",
       "<table border=\"1\" class=\"dataframe\">\n",
       "  <thead>\n",
       "    <tr style=\"text-align: right;\">\n",
       "      <th></th>\n",
       "      <th>Sales</th>\n",
       "      <th>Quantity</th>\n",
       "      <th>Discount</th>\n",
       "      <th>Profit</th>\n",
       "      <th>Shipping Cost</th>\n",
       "      <th>Returned</th>\n",
       "      <th>Profit Margin Percentage</th>\n",
       "      <th>Returned $ Amount</th>\n",
       "      <th>Days to Ship</th>\n",
       "      <th>Orders per Country</th>\n",
       "      <th>...</th>\n",
       "      <th>Sub-Category_Machines</th>\n",
       "      <th>Sub-Category_Paper</th>\n",
       "      <th>Sub-Category_Phones</th>\n",
       "      <th>Sub-Category_Storage</th>\n",
       "      <th>Sub-Category_Supplies</th>\n",
       "      <th>Sub-Category_Tables</th>\n",
       "      <th>Order Priority_Critical</th>\n",
       "      <th>Order Priority_High</th>\n",
       "      <th>Order Priority_Low</th>\n",
       "      <th>Order Priority_Medium</th>\n",
       "    </tr>\n",
       "  </thead>\n",
       "  <tbody>\n",
       "    <tr>\n",
       "      <th>0</th>\n",
       "      <td>221.98</td>\n",
       "      <td>2</td>\n",
       "      <td>0.0</td>\n",
       "      <td>62.15</td>\n",
       "      <td>40.770</td>\n",
       "      <td>0.0</td>\n",
       "      <td>27.998018</td>\n",
       "      <td>0.0</td>\n",
       "      <td>2</td>\n",
       "      <td>9994</td>\n",
       "      <td>...</td>\n",
       "      <td>0</td>\n",
       "      <td>0</td>\n",
       "      <td>1</td>\n",
       "      <td>0</td>\n",
       "      <td>0</td>\n",
       "      <td>0</td>\n",
       "      <td>0</td>\n",
       "      <td>1</td>\n",
       "      <td>0</td>\n",
       "      <td>0</td>\n",
       "    </tr>\n",
       "    <tr>\n",
       "      <th>1</th>\n",
       "      <td>3709.40</td>\n",
       "      <td>9</td>\n",
       "      <td>0.1</td>\n",
       "      <td>-288.77</td>\n",
       "      <td>923.630</td>\n",
       "      <td>0.0</td>\n",
       "      <td>-7.784817</td>\n",
       "      <td>0.0</td>\n",
       "      <td>2</td>\n",
       "      <td>2837</td>\n",
       "      <td>...</td>\n",
       "      <td>0</td>\n",
       "      <td>0</td>\n",
       "      <td>0</td>\n",
       "      <td>0</td>\n",
       "      <td>0</td>\n",
       "      <td>0</td>\n",
       "      <td>1</td>\n",
       "      <td>0</td>\n",
       "      <td>0</td>\n",
       "      <td>0</td>\n",
       "    </tr>\n",
       "    <tr>\n",
       "      <th>2</th>\n",
       "      <td>5175.17</td>\n",
       "      <td>9</td>\n",
       "      <td>0.1</td>\n",
       "      <td>919.97</td>\n",
       "      <td>915.490</td>\n",
       "      <td>0.0</td>\n",
       "      <td>17.776614</td>\n",
       "      <td>0.0</td>\n",
       "      <td>1</td>\n",
       "      <td>2837</td>\n",
       "      <td>...</td>\n",
       "      <td>0</td>\n",
       "      <td>0</td>\n",
       "      <td>1</td>\n",
       "      <td>0</td>\n",
       "      <td>0</td>\n",
       "      <td>0</td>\n",
       "      <td>0</td>\n",
       "      <td>0</td>\n",
       "      <td>0</td>\n",
       "      <td>1</td>\n",
       "    </tr>\n",
       "    <tr>\n",
       "      <th>3</th>\n",
       "      <td>2892.51</td>\n",
       "      <td>5</td>\n",
       "      <td>0.1</td>\n",
       "      <td>-96.54</td>\n",
       "      <td>910.160</td>\n",
       "      <td>0.0</td>\n",
       "      <td>-3.337586</td>\n",
       "      <td>0.0</td>\n",
       "      <td>2</td>\n",
       "      <td>2063</td>\n",
       "      <td>...</td>\n",
       "      <td>0</td>\n",
       "      <td>0</td>\n",
       "      <td>1</td>\n",
       "      <td>0</td>\n",
       "      <td>0</td>\n",
       "      <td>0</td>\n",
       "      <td>0</td>\n",
       "      <td>0</td>\n",
       "      <td>0</td>\n",
       "      <td>1</td>\n",
       "    </tr>\n",
       "    <tr>\n",
       "      <th>4</th>\n",
       "      <td>2862.68</td>\n",
       "      <td>5</td>\n",
       "      <td>0.1</td>\n",
       "      <td>763.28</td>\n",
       "      <td>897.350</td>\n",
       "      <td>0.0</td>\n",
       "      <td>26.663127</td>\n",
       "      <td>0.0</td>\n",
       "      <td>3</td>\n",
       "      <td>2837</td>\n",
       "      <td>...</td>\n",
       "      <td>0</td>\n",
       "      <td>0</td>\n",
       "      <td>1</td>\n",
       "      <td>0</td>\n",
       "      <td>0</td>\n",
       "      <td>0</td>\n",
       "      <td>1</td>\n",
       "      <td>0</td>\n",
       "      <td>0</td>\n",
       "      <td>0</td>\n",
       "    </tr>\n",
       "    <tr>\n",
       "      <th>...</th>\n",
       "      <td>...</td>\n",
       "      <td>...</td>\n",
       "      <td>...</td>\n",
       "      <td>...</td>\n",
       "      <td>...</td>\n",
       "      <td>...</td>\n",
       "      <td>...</td>\n",
       "      <td>...</td>\n",
       "      <td>...</td>\n",
       "      <td>...</td>\n",
       "      <td>...</td>\n",
       "      <td>...</td>\n",
       "      <td>...</td>\n",
       "      <td>...</td>\n",
       "      <td>...</td>\n",
       "      <td>...</td>\n",
       "      <td>...</td>\n",
       "      <td>...</td>\n",
       "      <td>...</td>\n",
       "      <td>...</td>\n",
       "      <td>...</td>\n",
       "    </tr>\n",
       "    <tr>\n",
       "      <th>38609</th>\n",
       "      <td>18.64</td>\n",
       "      <td>1</td>\n",
       "      <td>0.0</td>\n",
       "      <td>8.00</td>\n",
       "      <td>1.010</td>\n",
       "      <td>0.0</td>\n",
       "      <td>42.918455</td>\n",
       "      <td>0.0</td>\n",
       "      <td>3</td>\n",
       "      <td>614</td>\n",
       "      <td>...</td>\n",
       "      <td>0</td>\n",
       "      <td>1</td>\n",
       "      <td>0</td>\n",
       "      <td>0</td>\n",
       "      <td>0</td>\n",
       "      <td>0</td>\n",
       "      <td>0</td>\n",
       "      <td>0</td>\n",
       "      <td>0</td>\n",
       "      <td>1</td>\n",
       "    </tr>\n",
       "    <tr>\n",
       "      <th>38610</th>\n",
       "      <td>16.72</td>\n",
       "      <td>5</td>\n",
       "      <td>0.2</td>\n",
       "      <td>3.34</td>\n",
       "      <td>1.930</td>\n",
       "      <td>0.0</td>\n",
       "      <td>19.976077</td>\n",
       "      <td>0.0</td>\n",
       "      <td>4</td>\n",
       "      <td>9994</td>\n",
       "      <td>...</td>\n",
       "      <td>0</td>\n",
       "      <td>0</td>\n",
       "      <td>0</td>\n",
       "      <td>0</td>\n",
       "      <td>0</td>\n",
       "      <td>0</td>\n",
       "      <td>0</td>\n",
       "      <td>1</td>\n",
       "      <td>0</td>\n",
       "      <td>0</td>\n",
       "    </tr>\n",
       "    <tr>\n",
       "      <th>38611</th>\n",
       "      <td>8.56</td>\n",
       "      <td>2</td>\n",
       "      <td>0.0</td>\n",
       "      <td>2.48</td>\n",
       "      <td>1.580</td>\n",
       "      <td>0.0</td>\n",
       "      <td>28.971963</td>\n",
       "      <td>0.0</td>\n",
       "      <td>5</td>\n",
       "      <td>9994</td>\n",
       "      <td>...</td>\n",
       "      <td>0</td>\n",
       "      <td>0</td>\n",
       "      <td>0</td>\n",
       "      <td>0</td>\n",
       "      <td>0</td>\n",
       "      <td>0</td>\n",
       "      <td>0</td>\n",
       "      <td>1</td>\n",
       "      <td>0</td>\n",
       "      <td>0</td>\n",
       "    </tr>\n",
       "    <tr>\n",
       "      <th>38612</th>\n",
       "      <td>13.44</td>\n",
       "      <td>2</td>\n",
       "      <td>0.0</td>\n",
       "      <td>2.40</td>\n",
       "      <td>1.003</td>\n",
       "      <td>0.0</td>\n",
       "      <td>17.857143</td>\n",
       "      <td>0.0</td>\n",
       "      <td>4</td>\n",
       "      <td>1593</td>\n",
       "      <td>...</td>\n",
       "      <td>0</td>\n",
       "      <td>0</td>\n",
       "      <td>0</td>\n",
       "      <td>0</td>\n",
       "      <td>0</td>\n",
       "      <td>0</td>\n",
       "      <td>0</td>\n",
       "      <td>0</td>\n",
       "      <td>0</td>\n",
       "      <td>1</td>\n",
       "    </tr>\n",
       "    <tr>\n",
       "      <th>38613</th>\n",
       "      <td>61.38</td>\n",
       "      <td>3</td>\n",
       "      <td>0.0</td>\n",
       "      <td>1.80</td>\n",
       "      <td>1.002</td>\n",
       "      <td>0.0</td>\n",
       "      <td>2.932551</td>\n",
       "      <td>0.0</td>\n",
       "      <td>4</td>\n",
       "      <td>614</td>\n",
       "      <td>...</td>\n",
       "      <td>0</td>\n",
       "      <td>1</td>\n",
       "      <td>0</td>\n",
       "      <td>0</td>\n",
       "      <td>0</td>\n",
       "      <td>0</td>\n",
       "      <td>0</td>\n",
       "      <td>1</td>\n",
       "      <td>0</td>\n",
       "      <td>0</td>\n",
       "    </tr>\n",
       "  </tbody>\n",
       "</table>\n",
       "<p>38614 rows × 66 columns</p>\n",
       "</div>"
      ],
      "text/plain": [
       "         Sales  Quantity  Discount  Profit  Shipping Cost  Returned  \\\n",
       "0       221.98         2       0.0   62.15         40.770       0.0   \n",
       "1      3709.40         9       0.1 -288.77        923.630       0.0   \n",
       "2      5175.17         9       0.1  919.97        915.490       0.0   \n",
       "3      2892.51         5       0.1  -96.54        910.160       0.0   \n",
       "4      2862.68         5       0.1  763.28        897.350       0.0   \n",
       "...        ...       ...       ...     ...            ...       ...   \n",
       "38609    18.64         1       0.0    8.00          1.010       0.0   \n",
       "38610    16.72         5       0.2    3.34          1.930       0.0   \n",
       "38611     8.56         2       0.0    2.48          1.580       0.0   \n",
       "38612    13.44         2       0.0    2.40          1.003       0.0   \n",
       "38613    61.38         3       0.0    1.80          1.002       0.0   \n",
       "\n",
       "       Profit Margin Percentage  Returned $ Amount  Days to Ship  \\\n",
       "0                     27.998018                0.0             2   \n",
       "1                     -7.784817                0.0             2   \n",
       "2                     17.776614                0.0             1   \n",
       "3                     -3.337586                0.0             2   \n",
       "4                     26.663127                0.0             3   \n",
       "...                         ...                ...           ...   \n",
       "38609                 42.918455                0.0             3   \n",
       "38610                 19.976077                0.0             4   \n",
       "38611                 28.971963                0.0             5   \n",
       "38612                 17.857143                0.0             4   \n",
       "38613                  2.932551                0.0             4   \n",
       "\n",
       "       Orders per Country  ...  Sub-Category_Machines  Sub-Category_Paper  \\\n",
       "0                    9994  ...                      0                   0   \n",
       "1                    2837  ...                      0                   0   \n",
       "2                    2837  ...                      0                   0   \n",
       "3                    2063  ...                      0                   0   \n",
       "4                    2837  ...                      0                   0   \n",
       "...                   ...  ...                    ...                 ...   \n",
       "38609                 614  ...                      0                   1   \n",
       "38610                9994  ...                      0                   0   \n",
       "38611                9994  ...                      0                   0   \n",
       "38612                1593  ...                      0                   0   \n",
       "38613                 614  ...                      0                   1   \n",
       "\n",
       "       Sub-Category_Phones  Sub-Category_Storage  Sub-Category_Supplies  \\\n",
       "0                        1                     0                      0   \n",
       "1                        0                     0                      0   \n",
       "2                        1                     0                      0   \n",
       "3                        1                     0                      0   \n",
       "4                        1                     0                      0   \n",
       "...                    ...                   ...                    ...   \n",
       "38609                    0                     0                      0   \n",
       "38610                    0                     0                      0   \n",
       "38611                    0                     0                      0   \n",
       "38612                    0                     0                      0   \n",
       "38613                    0                     0                      0   \n",
       "\n",
       "       Sub-Category_Tables  Order Priority_Critical  Order Priority_High  \\\n",
       "0                        0                        0                    1   \n",
       "1                        0                        1                    0   \n",
       "2                        0                        0                    0   \n",
       "3                        0                        0                    0   \n",
       "4                        0                        1                    0   \n",
       "...                    ...                      ...                  ...   \n",
       "38609                    0                        0                    0   \n",
       "38610                    0                        0                    1   \n",
       "38611                    0                        0                    1   \n",
       "38612                    0                        0                    0   \n",
       "38613                    0                        0                    1   \n",
       "\n",
       "       Order Priority_Low  Order Priority_Medium  \n",
       "0                       0                      0  \n",
       "1                       0                      0  \n",
       "2                       0                      1  \n",
       "3                       0                      1  \n",
       "4                       0                      0  \n",
       "...                   ...                    ...  \n",
       "38609                   0                      1  \n",
       "38610                   0                      0  \n",
       "38611                   0                      0  \n",
       "38612                   0                      1  \n",
       "38613                   0                      0  \n",
       "\n",
       "[38614 rows x 66 columns]"
      ]
     },
     "execution_count": 2,
     "metadata": {},
     "output_type": "execute_result"
    }
   ],
   "source": [
    "# read in our cleaned, merged data\n",
    "ML_df = pd.read_csv('../resources/superstore_topcountries_ML_prepped.csv', index_col=[0])\n",
    "ML_df"
   ]
  },
  {
   "cell_type": "markdown",
   "id": "cb7942ac",
   "metadata": {},
   "source": [
    "# Oversampling"
   ]
  },
  {
   "cell_type": "code",
   "execution_count": 3,
   "id": "671e69ba",
   "metadata": {},
   "outputs": [],
   "source": [
    "# set target (Returned) and features\n",
    "y = ML_df['Returned']\n",
    "X = ML_df.drop(columns=['Returned', 'Returned $ Amount'])"
   ]
  },
  {
   "cell_type": "code",
   "execution_count": 4,
   "id": "49e46f8c",
   "metadata": {},
   "outputs": [
    {
     "data": {
      "text/plain": [
       "Counter({0.0: 27635, 1.0: 1325})"
      ]
     },
     "execution_count": 4,
     "metadata": {},
     "output_type": "execute_result"
    }
   ],
   "source": [
    "# split into train & test\n",
    "X_train, X_test, y_train, y_test = train_test_split(X, \n",
    "                                                    y, \n",
    "                                                    random_state=1)\n",
    "                                                    #stratify=y)\n",
    "Counter(y_train)"
   ]
  },
  {
   "cell_type": "markdown",
   "id": "7258bedb",
   "metadata": {},
   "source": [
    "## Random Oversampling"
   ]
  },
  {
   "cell_type": "code",
   "execution_count": 5,
   "id": "4925c68f",
   "metadata": {},
   "outputs": [
    {
     "data": {
      "text/plain": [
       "Counter({0.0: 27635, 1.0: 27635})"
      ]
     },
     "execution_count": 5,
     "metadata": {},
     "output_type": "execute_result"
    }
   ],
   "source": [
    "# randomly oversample the minority (returned) class\n",
    "ros = RandomOverSampler()\n",
    "X_ros, y_ros = ros.fit_resample(X_train, y_train)\n",
    "Counter(y_ros)"
   ]
  },
  {
   "cell_type": "code",
   "execution_count": 6,
   "id": "db240162",
   "metadata": {},
   "outputs": [
    {
     "name": "stderr",
     "output_type": "stream",
     "text": [
      "C:\\Users\\rachm\\anaconda3\\envs\\mlenv\\lib\\site-packages\\sklearn\\linear_model\\_logistic.py:818: ConvergenceWarning: lbfgs failed to converge (status=1):\n",
      "STOP: TOTAL NO. of ITERATIONS REACHED LIMIT.\n",
      "\n",
      "Increase the number of iterations (max_iter) or scale the data as shown in:\n",
      "    https://scikit-learn.org/stable/modules/preprocessing.html\n",
      "Please also refer to the documentation for alternative solver options:\n",
      "    https://scikit-learn.org/stable/modules/linear_model.html#logistic-regression\n",
      "  extra_warning_msg=_LOGISTIC_SOLVER_CONVERGENCE_MSG,\n"
     ]
    },
    {
     "data": {
      "text/plain": [
       "LogisticRegression()"
      ]
     },
     "execution_count": 6,
     "metadata": {},
     "output_type": "execute_result"
    }
   ],
   "source": [
    "# initiate new model & fit to the oversampled train data\n",
    "model= LogisticRegression()\n",
    "model.fit(X_ros, y_ros)"
   ]
  },
  {
   "cell_type": "code",
   "execution_count": 7,
   "id": "0177d94e",
   "metadata": {},
   "outputs": [
    {
     "data": {
      "text/plain": [
       "array([[4713, 4528],\n",
       "       [ 216,  197]], dtype=int64)"
      ]
     },
     "execution_count": 7,
     "metadata": {},
     "output_type": "execute_result"
    }
   ],
   "source": [
    "# create predictions and confusion matrix\n",
    "y_pred = model.predict(X_test)\n",
    "confusion_matrix(y_test, y_pred)"
   ]
  },
  {
   "cell_type": "code",
   "execution_count": 8,
   "id": "4639f5d2",
   "metadata": {},
   "outputs": [
    {
     "name": "stdout",
     "output_type": "stream",
     "text": [
      "The balanced accuracy score for the randomly oversampled logistic regression is 0.4935036589491038\n"
     ]
    }
   ],
   "source": [
    "# balanced accuracy score\n",
    "ros_acc_score = balanced_accuracy_score(y_test, y_pred)\n",
    "print(f'The balanced accuracy score for the randomly oversampled logistic regression is {ros_acc_score}')"
   ]
  },
  {
   "cell_type": "markdown",
   "id": "93e24e34",
   "metadata": {},
   "source": [
    "## Synthetic Minority Oversampling Technique (SMOTE)"
   ]
  },
  {
   "cell_type": "code",
   "execution_count": 9,
   "id": "50ebf753",
   "metadata": {},
   "outputs": [
    {
     "data": {
      "text/plain": [
       "Counter({0.0: 27635, 1.0: 27635})"
      ]
     },
     "execution_count": 9,
     "metadata": {},
     "output_type": "execute_result"
    }
   ],
   "source": [
    "# SMOTE the train data sets\n",
    "X_SMOTE, y_SMOTE = SMOTE(sampling_strategy='auto').fit_resample(X_train, y_train)\n",
    "Counter(y_SMOTE)"
   ]
  },
  {
   "cell_type": "code",
   "execution_count": 10,
   "id": "e860aceb",
   "metadata": {},
   "outputs": [
    {
     "name": "stderr",
     "output_type": "stream",
     "text": [
      "C:\\Users\\rachm\\anaconda3\\envs\\mlenv\\lib\\site-packages\\sklearn\\linear_model\\_logistic.py:818: ConvergenceWarning: lbfgs failed to converge (status=1):\n",
      "STOP: TOTAL NO. of ITERATIONS REACHED LIMIT.\n",
      "\n",
      "Increase the number of iterations (max_iter) or scale the data as shown in:\n",
      "    https://scikit-learn.org/stable/modules/preprocessing.html\n",
      "Please also refer to the documentation for alternative solver options:\n",
      "    https://scikit-learn.org/stable/modules/linear_model.html#logistic-regression\n",
      "  extra_warning_msg=_LOGISTIC_SOLVER_CONVERGENCE_MSG,\n"
     ]
    },
    {
     "data": {
      "text/plain": [
       "LogisticRegression()"
      ]
     },
     "execution_count": 10,
     "metadata": {},
     "output_type": "execute_result"
    }
   ],
   "source": [
    "# initiate new model & fit to the randomly oversampled train data\n",
    "model= LogisticRegression()\n",
    "model.fit(X_SMOTE, y_SMOTE)"
   ]
  },
  {
   "cell_type": "code",
   "execution_count": 11,
   "id": "628de646",
   "metadata": {},
   "outputs": [
    {
     "data": {
      "text/plain": [
       "array([[5250, 3991],\n",
       "       [ 231,  182]], dtype=int64)"
      ]
     },
     "execution_count": 11,
     "metadata": {},
     "output_type": "execute_result"
    }
   ],
   "source": [
    "# create predictions and confusion matrix\n",
    "y_pred = model.predict(X_test)\n",
    "confusion_matrix(y_test, y_pred)"
   ]
  },
  {
   "cell_type": "code",
   "execution_count": 12,
   "id": "7a220186",
   "metadata": {},
   "outputs": [
    {
     "name": "stdout",
     "output_type": "stream",
     "text": [
      "The balanced accuracy score for the SMOTE logistic regression is 0.5043991496994785\n"
     ]
    }
   ],
   "source": [
    "# balanced accuracy score\n",
    "SMOTE_acc_score = balanced_accuracy_score(y_test, y_pred)\n",
    "print(f'The balanced accuracy score for the SMOTE logistic regression is {SMOTE_acc_score}')"
   ]
  },
  {
   "cell_type": "markdown",
   "id": "499709da",
   "metadata": {},
   "source": [
    "## Random Undersampling"
   ]
  },
  {
   "cell_type": "code",
   "execution_count": 13,
   "id": "d841103d",
   "metadata": {},
   "outputs": [
    {
     "data": {
      "text/plain": [
       "Counter({0.0: 1325, 1.0: 1325})"
      ]
     },
     "execution_count": 13,
     "metadata": {},
     "output_type": "execute_result"
    }
   ],
   "source": [
    "# random under sample the train data sets\n",
    "rus = RandomUnderSampler()\n",
    "X_rus, y_rus = rus.fit_resample(X_train, y_train)\n",
    "Counter(y_rus)"
   ]
  },
  {
   "cell_type": "code",
   "execution_count": 14,
   "id": "30ddde92",
   "metadata": {},
   "outputs": [
    {
     "name": "stderr",
     "output_type": "stream",
     "text": [
      "C:\\Users\\rachm\\anaconda3\\envs\\mlenv\\lib\\site-packages\\sklearn\\linear_model\\_logistic.py:818: ConvergenceWarning: lbfgs failed to converge (status=1):\n",
      "STOP: TOTAL NO. of ITERATIONS REACHED LIMIT.\n",
      "\n",
      "Increase the number of iterations (max_iter) or scale the data as shown in:\n",
      "    https://scikit-learn.org/stable/modules/preprocessing.html\n",
      "Please also refer to the documentation for alternative solver options:\n",
      "    https://scikit-learn.org/stable/modules/linear_model.html#logistic-regression\n",
      "  extra_warning_msg=_LOGISTIC_SOLVER_CONVERGENCE_MSG,\n"
     ]
    },
    {
     "data": {
      "text/plain": [
       "LogisticRegression()"
      ]
     },
     "execution_count": 14,
     "metadata": {},
     "output_type": "execute_result"
    }
   ],
   "source": [
    "# initiate new model & fit to the randomly oversampled train data\n",
    "model= LogisticRegression()\n",
    "model.fit(X_rus, y_rus)"
   ]
  },
  {
   "cell_type": "code",
   "execution_count": 15,
   "id": "13942c11",
   "metadata": {},
   "outputs": [
    {
     "data": {
      "text/plain": [
       "array([[3929, 5312],\n",
       "       [ 174,  239]], dtype=int64)"
      ]
     },
     "execution_count": 15,
     "metadata": {},
     "output_type": "execute_result"
    }
   ],
   "source": [
    "# create predictions and confusion matrix\n",
    "y_pred = model.predict(X_test)\n",
    "confusion_matrix(y_test, y_pred)"
   ]
  },
  {
   "cell_type": "code",
   "execution_count": 16,
   "id": "05877fb8",
   "metadata": {},
   "outputs": [
    {
     "name": "stdout",
     "output_type": "stream",
     "text": [
      "The balanced accuracy score for the randomly under sampled logistic regression is 0.5019314650233602\n"
     ]
    }
   ],
   "source": [
    "# balanced accuracy score\n",
    "rus_acc_score = balanced_accuracy_score(y_test, y_pred)\n",
    "print(f'The balanced accuracy score for the randomly under sampled logistic regression is {rus_acc_score}')"
   ]
  },
  {
   "cell_type": "markdown",
   "id": "5449ad4b",
   "metadata": {},
   "source": [
    "## Cluster Centroid Undersampling"
   ]
  },
  {
   "cell_type": "code",
   "execution_count": 17,
   "id": "4256ff3b",
   "metadata": {},
   "outputs": [],
   "source": [
    "# initiate resampling module & use to resample data\n",
    "cc = ClusterCentroids()\n",
    "X_cc, y_cc = cc.fit_resample(X_train, y_train)\n",
    "#Counter(y_cc)"
   ]
  },
  {
   "cell_type": "code",
   "execution_count": 18,
   "id": "0d5d5aa3",
   "metadata": {},
   "outputs": [
    {
     "name": "stderr",
     "output_type": "stream",
     "text": [
      "C:\\Users\\rachm\\anaconda3\\envs\\mlenv\\lib\\site-packages\\sklearn\\linear_model\\_logistic.py:818: ConvergenceWarning: lbfgs failed to converge (status=1):\n",
      "STOP: TOTAL NO. of ITERATIONS REACHED LIMIT.\n",
      "\n",
      "Increase the number of iterations (max_iter) or scale the data as shown in:\n",
      "    https://scikit-learn.org/stable/modules/preprocessing.html\n",
      "Please also refer to the documentation for alternative solver options:\n",
      "    https://scikit-learn.org/stable/modules/linear_model.html#logistic-regression\n",
      "  extra_warning_msg=_LOGISTIC_SOLVER_CONVERGENCE_MSG,\n"
     ]
    },
    {
     "data": {
      "text/plain": [
       "LogisticRegression()"
      ]
     },
     "execution_count": 18,
     "metadata": {},
     "output_type": "execute_result"
    }
   ],
   "source": [
    "# initiate new model & fit to the undersampled train data\n",
    "model= LogisticRegression()\n",
    "model.fit(X_cc, y_cc)"
   ]
  },
  {
   "cell_type": "code",
   "execution_count": 19,
   "id": "a86f6bdc",
   "metadata": {},
   "outputs": [
    {
     "data": {
      "text/plain": [
       "array([[ 981, 8260],\n",
       "       [  37,  376]], dtype=int64)"
      ]
     },
     "execution_count": 19,
     "metadata": {},
     "output_type": "execute_result"
    }
   ],
   "source": [
    "# create predictions and confusion matrix\n",
    "y_pred = model.predict(X_test)\n",
    "confusion_matrix(y_test, y_pred)"
   ]
  },
  {
   "cell_type": "code",
   "execution_count": 20,
   "id": "6ee7d5c4",
   "metadata": {},
   "outputs": [
    {
     "name": "stdout",
     "output_type": "stream",
     "text": [
      "The balanced accuracy score for the ClusterCentroid logistic regression is 0.5082844822775016\n"
     ]
    }
   ],
   "source": [
    "# balanced accuracy score\n",
    "cc_acc_score = balanced_accuracy_score(y_test, y_pred)\n",
    "print(f'The balanced accuracy score for the ClusterCentroid logistic regression is {cc_acc_score}')"
   ]
  },
  {
   "cell_type": "markdown",
   "id": "99d4c2e0",
   "metadata": {},
   "source": [
    "# SMOTE + Edited Nearest Neighbors (SMOTEENN)"
   ]
  },
  {
   "cell_type": "code",
   "execution_count": 21,
   "id": "a17f7075",
   "metadata": {},
   "outputs": [],
   "source": [
    "# create instance of SMOTEENN and resample train data \n",
    "smote_enn = SMOTEENN()\n",
    "X_SMOTEENN, y_SMOTEENN = smote_enn.fit_resample(X_train, y_train)"
   ]
  },
  {
   "cell_type": "code",
   "execution_count": 22,
   "id": "4470f5a8",
   "metadata": {},
   "outputs": [
    {
     "name": "stderr",
     "output_type": "stream",
     "text": [
      "C:\\Users\\rachm\\anaconda3\\envs\\mlenv\\lib\\site-packages\\sklearn\\linear_model\\_logistic.py:818: ConvergenceWarning: lbfgs failed to converge (status=1):\n",
      "STOP: TOTAL NO. of ITERATIONS REACHED LIMIT.\n",
      "\n",
      "Increase the number of iterations (max_iter) or scale the data as shown in:\n",
      "    https://scikit-learn.org/stable/modules/preprocessing.html\n",
      "Please also refer to the documentation for alternative solver options:\n",
      "    https://scikit-learn.org/stable/modules/linear_model.html#logistic-regression\n",
      "  extra_warning_msg=_LOGISTIC_SOLVER_CONVERGENCE_MSG,\n"
     ]
    },
    {
     "data": {
      "text/plain": [
       "LogisticRegression()"
      ]
     },
     "execution_count": 22,
     "metadata": {},
     "output_type": "execute_result"
    }
   ],
   "source": [
    "# initiate new model & fit to the resampled train data\n",
    "model= LogisticRegression()\n",
    "model.fit(X_SMOTEENN, y_SMOTEENN)"
   ]
  },
  {
   "cell_type": "code",
   "execution_count": 23,
   "id": "27a38816",
   "metadata": {},
   "outputs": [
    {
     "data": {
      "text/plain": [
       "array([[5000, 4241],\n",
       "       [ 210,  203]], dtype=int64)"
      ]
     },
     "execution_count": 23,
     "metadata": {},
     "output_type": "execute_result"
    }
   ],
   "source": [
    "# create predictions and confusion matrix\n",
    "y_pred = model.predict(X_test)\n",
    "confusion_matrix(y_test, y_pred)"
   ]
  },
  {
   "cell_type": "code",
   "execution_count": 24,
   "id": "830c06b8",
   "metadata": {},
   "outputs": [
    {
     "name": "stdout",
     "output_type": "stream",
     "text": [
      "The balanced accuracy score for the SMOTEENN sampled logistic regression is 0.5162962039107222\n"
     ]
    }
   ],
   "source": [
    "# balanced accuracy score\n",
    "SMOTEENN_acc_score = balanced_accuracy_score(y_test, y_pred)\n",
    "print(f'The balanced accuracy score for the SMOTEENN sampled logistic regression is {SMOTEENN_acc_score}')"
   ]
  },
  {
   "cell_type": "markdown",
   "id": "a35f0d59",
   "metadata": {},
   "source": [
    "# Comparative Results"
   ]
  },
  {
   "cell_type": "code",
   "execution_count": 25,
   "id": "02b51224",
   "metadata": {},
   "outputs": [
    {
     "name": "stdout",
     "output_type": "stream",
     "text": [
      "The balanced accuracy score for the randomly oversampled logistic regression is 0.4935036589491038\n",
      "The balanced accuracy score for the SMOTE logistic regression is 0.5043991496994785\n",
      "The balanced accuracy score for the randomly under sampled logistic regression is 0.5019314650233602\n",
      "The balanced accuracy score for the ClusterCentroid logistic regression is 0.5082844822775016\n",
      "The balanced accuracy score for the SMOTEENN sampled logistic regression is 0.5162962039107222\n"
     ]
    }
   ],
   "source": [
    "print(f'The balanced accuracy score for the randomly oversampled logistic regression is {ros_acc_score}')\n",
    "print(f'The balanced accuracy score for the SMOTE logistic regression is {SMOTE_acc_score}')\n",
    "print(f'The balanced accuracy score for the randomly under sampled logistic regression is {rus_acc_score}')\n",
    "print(f'The balanced accuracy score for the ClusterCentroid logistic regression is {cc_acc_score}')\n",
    "print(f'The balanced accuracy score for the SMOTEENN sampled logistic regression is {SMOTEENN_acc_score}')"
   ]
  }
 ],
 "metadata": {
  "kernelspec": {
   "display_name": "mlenv",
   "language": "python",
   "name": "mlenv"
  },
  "language_info": {
   "codemirror_mode": {
    "name": "ipython",
    "version": 3
   },
   "file_extension": ".py",
   "mimetype": "text/x-python",
   "name": "python",
   "nbconvert_exporter": "python",
   "pygments_lexer": "ipython3",
   "version": "3.7.11"
  }
 },
 "nbformat": 4,
 "nbformat_minor": 5
}
