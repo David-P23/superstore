{
 "cells": [
  {
   "cell_type": "code",
   "execution_count": 1,
   "id": "d13a33e8",
   "metadata": {},
   "outputs": [],
   "source": [
    "# import dependencies\n",
    "from sklearn.model_selection import train_test_split\n",
    "import pandas as pd\n",
    "import datetime as dt\n",
    "import numpy as np\n",
    "from sklearn.linear_model import LinearRegression, LogisticRegression\n",
    "from sklearn.metrics import r2_score, accuracy_score, confusion_matrix, balanced_accuracy_score\n",
    "from collections import Counter\n",
    "from imblearn.over_sampling import RandomOverSampler, SMOTE\n",
    "from imblearn.under_sampling import RandomUnderSampler, ClusterCentroids\n",
    "from imblearn.combine import SMOTEENN"
   ]
  },
  {
   "cell_type": "code",
   "execution_count": 2,
   "id": "387e3855",
   "metadata": {},
   "outputs": [
    {
     "data": {
      "text/html": [
       "<div>\n",
       "<style scoped>\n",
       "    .dataframe tbody tr th:only-of-type {\n",
       "        vertical-align: middle;\n",
       "    }\n",
       "\n",
       "    .dataframe tbody tr th {\n",
       "        vertical-align: top;\n",
       "    }\n",
       "\n",
       "    .dataframe thead th {\n",
       "        text-align: right;\n",
       "    }\n",
       "</style>\n",
       "<table border=\"1\" class=\"dataframe\">\n",
       "  <thead>\n",
       "    <tr style=\"text-align: right;\">\n",
       "      <th></th>\n",
       "      <th>Sales</th>\n",
       "      <th>Quantity</th>\n",
       "      <th>Discount</th>\n",
       "      <th>Profit</th>\n",
       "      <th>Shipping Cost</th>\n",
       "      <th>Returned</th>\n",
       "      <th>Profit Margin Percentage</th>\n",
       "      <th>Returned $ Amount</th>\n",
       "      <th>Days to Ship</th>\n",
       "      <th>Monday</th>\n",
       "      <th>...</th>\n",
       "      <th>Sub-Category_Machines</th>\n",
       "      <th>Sub-Category_Paper</th>\n",
       "      <th>Sub-Category_Phones</th>\n",
       "      <th>Sub-Category_Storage</th>\n",
       "      <th>Sub-Category_Supplies</th>\n",
       "      <th>Sub-Category_Tables</th>\n",
       "      <th>Order Priority_Critical</th>\n",
       "      <th>Order Priority_High</th>\n",
       "      <th>Order Priority_Low</th>\n",
       "      <th>Order Priority_Medium</th>\n",
       "    </tr>\n",
       "  </thead>\n",
       "  <tbody>\n",
       "    <tr>\n",
       "      <th>0</th>\n",
       "      <td>221.98</td>\n",
       "      <td>2</td>\n",
       "      <td>0.0</td>\n",
       "      <td>62.15</td>\n",
       "      <td>40.770</td>\n",
       "      <td>0.0</td>\n",
       "      <td>27.998018</td>\n",
       "      <td>0.0</td>\n",
       "      <td>2</td>\n",
       "      <td>0</td>\n",
       "      <td>...</td>\n",
       "      <td>0</td>\n",
       "      <td>0</td>\n",
       "      <td>1</td>\n",
       "      <td>0</td>\n",
       "      <td>0</td>\n",
       "      <td>0</td>\n",
       "      <td>0</td>\n",
       "      <td>1</td>\n",
       "      <td>0</td>\n",
       "      <td>0</td>\n",
       "    </tr>\n",
       "    <tr>\n",
       "      <th>1</th>\n",
       "      <td>3709.40</td>\n",
       "      <td>9</td>\n",
       "      <td>0.1</td>\n",
       "      <td>-288.77</td>\n",
       "      <td>923.630</td>\n",
       "      <td>0.0</td>\n",
       "      <td>-7.784817</td>\n",
       "      <td>0.0</td>\n",
       "      <td>2</td>\n",
       "      <td>0</td>\n",
       "      <td>...</td>\n",
       "      <td>0</td>\n",
       "      <td>0</td>\n",
       "      <td>0</td>\n",
       "      <td>0</td>\n",
       "      <td>0</td>\n",
       "      <td>0</td>\n",
       "      <td>1</td>\n",
       "      <td>0</td>\n",
       "      <td>0</td>\n",
       "      <td>0</td>\n",
       "    </tr>\n",
       "    <tr>\n",
       "      <th>2</th>\n",
       "      <td>5175.17</td>\n",
       "      <td>9</td>\n",
       "      <td>0.1</td>\n",
       "      <td>919.97</td>\n",
       "      <td>915.490</td>\n",
       "      <td>0.0</td>\n",
       "      <td>17.776614</td>\n",
       "      <td>0.0</td>\n",
       "      <td>1</td>\n",
       "      <td>0</td>\n",
       "      <td>...</td>\n",
       "      <td>0</td>\n",
       "      <td>0</td>\n",
       "      <td>1</td>\n",
       "      <td>0</td>\n",
       "      <td>0</td>\n",
       "      <td>0</td>\n",
       "      <td>0</td>\n",
       "      <td>0</td>\n",
       "      <td>0</td>\n",
       "      <td>1</td>\n",
       "    </tr>\n",
       "    <tr>\n",
       "      <th>3</th>\n",
       "      <td>2892.51</td>\n",
       "      <td>5</td>\n",
       "      <td>0.1</td>\n",
       "      <td>-96.54</td>\n",
       "      <td>910.160</td>\n",
       "      <td>0.0</td>\n",
       "      <td>-3.337586</td>\n",
       "      <td>0.0</td>\n",
       "      <td>2</td>\n",
       "      <td>0</td>\n",
       "      <td>...</td>\n",
       "      <td>0</td>\n",
       "      <td>0</td>\n",
       "      <td>1</td>\n",
       "      <td>0</td>\n",
       "      <td>0</td>\n",
       "      <td>0</td>\n",
       "      <td>0</td>\n",
       "      <td>0</td>\n",
       "      <td>0</td>\n",
       "      <td>1</td>\n",
       "    </tr>\n",
       "    <tr>\n",
       "      <th>4</th>\n",
       "      <td>2832.96</td>\n",
       "      <td>8</td>\n",
       "      <td>0.0</td>\n",
       "      <td>311.52</td>\n",
       "      <td>903.040</td>\n",
       "      <td>0.0</td>\n",
       "      <td>10.996272</td>\n",
       "      <td>0.0</td>\n",
       "      <td>1</td>\n",
       "      <td>0</td>\n",
       "      <td>...</td>\n",
       "      <td>0</td>\n",
       "      <td>0</td>\n",
       "      <td>0</td>\n",
       "      <td>0</td>\n",
       "      <td>0</td>\n",
       "      <td>0</td>\n",
       "      <td>1</td>\n",
       "      <td>0</td>\n",
       "      <td>0</td>\n",
       "      <td>0</td>\n",
       "    </tr>\n",
       "    <tr>\n",
       "      <th>...</th>\n",
       "      <td>...</td>\n",
       "      <td>...</td>\n",
       "      <td>...</td>\n",
       "      <td>...</td>\n",
       "      <td>...</td>\n",
       "      <td>...</td>\n",
       "      <td>...</td>\n",
       "      <td>...</td>\n",
       "      <td>...</td>\n",
       "      <td>...</td>\n",
       "      <td>...</td>\n",
       "      <td>...</td>\n",
       "      <td>...</td>\n",
       "      <td>...</td>\n",
       "      <td>...</td>\n",
       "      <td>...</td>\n",
       "      <td>...</td>\n",
       "      <td>...</td>\n",
       "      <td>...</td>\n",
       "      <td>...</td>\n",
       "      <td>...</td>\n",
       "    </tr>\n",
       "    <tr>\n",
       "      <th>51285</th>\n",
       "      <td>65.10</td>\n",
       "      <td>5</td>\n",
       "      <td>0.0</td>\n",
       "      <td>4.50</td>\n",
       "      <td>1.010</td>\n",
       "      <td>0.0</td>\n",
       "      <td>6.912442</td>\n",
       "      <td>0.0</td>\n",
       "      <td>0</td>\n",
       "      <td>0</td>\n",
       "      <td>...</td>\n",
       "      <td>0</td>\n",
       "      <td>0</td>\n",
       "      <td>0</td>\n",
       "      <td>0</td>\n",
       "      <td>0</td>\n",
       "      <td>0</td>\n",
       "      <td>0</td>\n",
       "      <td>0</td>\n",
       "      <td>0</td>\n",
       "      <td>1</td>\n",
       "    </tr>\n",
       "    <tr>\n",
       "      <th>51286</th>\n",
       "      <td>16.72</td>\n",
       "      <td>5</td>\n",
       "      <td>0.2</td>\n",
       "      <td>3.34</td>\n",
       "      <td>1.930</td>\n",
       "      <td>0.0</td>\n",
       "      <td>19.976077</td>\n",
       "      <td>0.0</td>\n",
       "      <td>4</td>\n",
       "      <td>0</td>\n",
       "      <td>...</td>\n",
       "      <td>0</td>\n",
       "      <td>0</td>\n",
       "      <td>0</td>\n",
       "      <td>0</td>\n",
       "      <td>0</td>\n",
       "      <td>0</td>\n",
       "      <td>0</td>\n",
       "      <td>1</td>\n",
       "      <td>0</td>\n",
       "      <td>0</td>\n",
       "    </tr>\n",
       "    <tr>\n",
       "      <th>51287</th>\n",
       "      <td>8.56</td>\n",
       "      <td>2</td>\n",
       "      <td>0.0</td>\n",
       "      <td>2.48</td>\n",
       "      <td>1.580</td>\n",
       "      <td>0.0</td>\n",
       "      <td>28.971963</td>\n",
       "      <td>0.0</td>\n",
       "      <td>5</td>\n",
       "      <td>0</td>\n",
       "      <td>...</td>\n",
       "      <td>0</td>\n",
       "      <td>0</td>\n",
       "      <td>0</td>\n",
       "      <td>0</td>\n",
       "      <td>0</td>\n",
       "      <td>0</td>\n",
       "      <td>0</td>\n",
       "      <td>1</td>\n",
       "      <td>0</td>\n",
       "      <td>0</td>\n",
       "    </tr>\n",
       "    <tr>\n",
       "      <th>51288</th>\n",
       "      <td>13.44</td>\n",
       "      <td>2</td>\n",
       "      <td>0.0</td>\n",
       "      <td>2.40</td>\n",
       "      <td>1.003</td>\n",
       "      <td>0.0</td>\n",
       "      <td>17.857143</td>\n",
       "      <td>0.0</td>\n",
       "      <td>4</td>\n",
       "      <td>0</td>\n",
       "      <td>...</td>\n",
       "      <td>0</td>\n",
       "      <td>0</td>\n",
       "      <td>0</td>\n",
       "      <td>0</td>\n",
       "      <td>0</td>\n",
       "      <td>0</td>\n",
       "      <td>0</td>\n",
       "      <td>0</td>\n",
       "      <td>0</td>\n",
       "      <td>1</td>\n",
       "    </tr>\n",
       "    <tr>\n",
       "      <th>51289</th>\n",
       "      <td>61.38</td>\n",
       "      <td>3</td>\n",
       "      <td>0.0</td>\n",
       "      <td>1.80</td>\n",
       "      <td>1.002</td>\n",
       "      <td>0.0</td>\n",
       "      <td>2.932551</td>\n",
       "      <td>0.0</td>\n",
       "      <td>4</td>\n",
       "      <td>0</td>\n",
       "      <td>...</td>\n",
       "      <td>0</td>\n",
       "      <td>1</td>\n",
       "      <td>0</td>\n",
       "      <td>0</td>\n",
       "      <td>0</td>\n",
       "      <td>0</td>\n",
       "      <td>0</td>\n",
       "      <td>1</td>\n",
       "      <td>0</td>\n",
       "      <td>0</td>\n",
       "    </tr>\n",
       "  </tbody>\n",
       "</table>\n",
       "<p>51290 rows × 72 columns</p>\n",
       "</div>"
      ],
      "text/plain": [
       "         Sales  Quantity  Discount  Profit  Shipping Cost  Returned  \\\n",
       "0       221.98         2       0.0   62.15         40.770       0.0   \n",
       "1      3709.40         9       0.1 -288.77        923.630       0.0   \n",
       "2      5175.17         9       0.1  919.97        915.490       0.0   \n",
       "3      2892.51         5       0.1  -96.54        910.160       0.0   \n",
       "4      2832.96         8       0.0  311.52        903.040       0.0   \n",
       "...        ...       ...       ...     ...            ...       ...   \n",
       "51285    65.10         5       0.0    4.50          1.010       0.0   \n",
       "51286    16.72         5       0.2    3.34          1.930       0.0   \n",
       "51287     8.56         2       0.0    2.48          1.580       0.0   \n",
       "51288    13.44         2       0.0    2.40          1.003       0.0   \n",
       "51289    61.38         3       0.0    1.80          1.002       0.0   \n",
       "\n",
       "       Profit Margin Percentage  Returned $ Amount  Days to Ship  Monday  ...  \\\n",
       "0                     27.998018                0.0             2       0  ...   \n",
       "1                     -7.784817                0.0             2       0  ...   \n",
       "2                     17.776614                0.0             1       0  ...   \n",
       "3                     -3.337586                0.0             2       0  ...   \n",
       "4                     10.996272                0.0             1       0  ...   \n",
       "...                         ...                ...           ...     ...  ...   \n",
       "51285                  6.912442                0.0             0       0  ...   \n",
       "51286                 19.976077                0.0             4       0  ...   \n",
       "51287                 28.971963                0.0             5       0  ...   \n",
       "51288                 17.857143                0.0             4       0  ...   \n",
       "51289                  2.932551                0.0             4       0  ...   \n",
       "\n",
       "       Sub-Category_Machines  Sub-Category_Paper  Sub-Category_Phones  \\\n",
       "0                          0                   0                    1   \n",
       "1                          0                   0                    0   \n",
       "2                          0                   0                    1   \n",
       "3                          0                   0                    1   \n",
       "4                          0                   0                    0   \n",
       "...                      ...                 ...                  ...   \n",
       "51285                      0                   0                    0   \n",
       "51286                      0                   0                    0   \n",
       "51287                      0                   0                    0   \n",
       "51288                      0                   0                    0   \n",
       "51289                      0                   1                    0   \n",
       "\n",
       "       Sub-Category_Storage  Sub-Category_Supplies  Sub-Category_Tables  \\\n",
       "0                         0                      0                    0   \n",
       "1                         0                      0                    0   \n",
       "2                         0                      0                    0   \n",
       "3                         0                      0                    0   \n",
       "4                         0                      0                    0   \n",
       "...                     ...                    ...                  ...   \n",
       "51285                     0                      0                    0   \n",
       "51286                     0                      0                    0   \n",
       "51287                     0                      0                    0   \n",
       "51288                     0                      0                    0   \n",
       "51289                     0                      0                    0   \n",
       "\n",
       "       Order Priority_Critical  Order Priority_High  Order Priority_Low  \\\n",
       "0                            0                    1                   0   \n",
       "1                            1                    0                   0   \n",
       "2                            0                    0                   0   \n",
       "3                            0                    0                   0   \n",
       "4                            1                    0                   0   \n",
       "...                        ...                  ...                 ...   \n",
       "51285                        0                    0                   0   \n",
       "51286                        0                    1                   0   \n",
       "51287                        0                    1                   0   \n",
       "51288                        0                    0                   0   \n",
       "51289                        0                    1                   0   \n",
       "\n",
       "       Order Priority_Medium  \n",
       "0                          0  \n",
       "1                          0  \n",
       "2                          1  \n",
       "3                          1  \n",
       "4                          0  \n",
       "...                      ...  \n",
       "51285                      1  \n",
       "51286                      0  \n",
       "51287                      0  \n",
       "51288                      1  \n",
       "51289                      0  \n",
       "\n",
       "[51290 rows x 72 columns]"
      ]
     },
     "execution_count": 2,
     "metadata": {},
     "output_type": "execute_result"
    }
   ],
   "source": [
    "# read in our cleaned, merged data\n",
    "ML_df = pd.read_csv('../resources/superstore_ML_prepped.csv', index_col=[0])\n",
    "ML_df"
   ]
  },
  {
   "cell_type": "markdown",
   "id": "623abaf3",
   "metadata": {},
   "source": [
    "# Oversampling"
   ]
  },
  {
   "cell_type": "code",
   "execution_count": 3,
   "id": "5eb987df",
   "metadata": {},
   "outputs": [],
   "source": [
    "# set target (Returned) and features\n",
    "y = ML_df['Returned']\n",
    "X = ML_df.drop(columns=['Returned', 'Returned $ Amount'])"
   ]
  },
  {
   "cell_type": "code",
   "execution_count": 4,
   "id": "fb712aa0",
   "metadata": {},
   "outputs": [
    {
     "data": {
      "text/plain": [
       "Counter({0.0: 36805, 1.0: 1662})"
      ]
     },
     "execution_count": 4,
     "metadata": {},
     "output_type": "execute_result"
    }
   ],
   "source": [
    "# split into train & test\n",
    "X_train, X_test, y_train, y_test = train_test_split(X, \n",
    "                                                    y, \n",
    "                                                    random_state=1)\n",
    "                                                    #stratify=y)\n",
    "Counter(y_train)"
   ]
  },
  {
   "cell_type": "markdown",
   "id": "161e49c0",
   "metadata": {},
   "source": [
    "## Random Oversampling"
   ]
  },
  {
   "cell_type": "code",
   "execution_count": 5,
   "id": "bb156dab",
   "metadata": {},
   "outputs": [
    {
     "data": {
      "text/plain": [
       "Counter({0.0: 36805, 1.0: 36805})"
      ]
     },
     "execution_count": 5,
     "metadata": {},
     "output_type": "execute_result"
    }
   ],
   "source": [
    "# randomly oversample the minority (returned) class\n",
    "ros = RandomOverSampler()\n",
    "X_ros, y_ros = ros.fit_resample(X_train, y_train)\n",
    "Counter(y_ros)"
   ]
  },
  {
   "cell_type": "code",
   "execution_count": 6,
   "id": "3417b1e0",
   "metadata": {},
   "outputs": [
    {
     "name": "stderr",
     "output_type": "stream",
     "text": [
      "C:\\Users\\rachm\\anaconda3\\envs\\mlenv\\lib\\site-packages\\sklearn\\linear_model\\_logistic.py:818: ConvergenceWarning: lbfgs failed to converge (status=1):\n",
      "STOP: TOTAL NO. of ITERATIONS REACHED LIMIT.\n",
      "\n",
      "Increase the number of iterations (max_iter) or scale the data as shown in:\n",
      "    https://scikit-learn.org/stable/modules/preprocessing.html\n",
      "Please also refer to the documentation for alternative solver options:\n",
      "    https://scikit-learn.org/stable/modules/linear_model.html#logistic-regression\n",
      "  extra_warning_msg=_LOGISTIC_SOLVER_CONVERGENCE_MSG,\n"
     ]
    },
    {
     "data": {
      "text/plain": [
       "LogisticRegression()"
      ]
     },
     "execution_count": 6,
     "metadata": {},
     "output_type": "execute_result"
    }
   ],
   "source": [
    "# initiate new model & fit to the oversampled train data\n",
    "model= LogisticRegression()\n",
    "model.fit(X_ros, y_ros)"
   ]
  },
  {
   "cell_type": "code",
   "execution_count": 7,
   "id": "cad6a095",
   "metadata": {},
   "outputs": [
    {
     "data": {
      "text/plain": [
       "array([[6500, 5765],\n",
       "       [ 264,  294]], dtype=int64)"
      ]
     },
     "execution_count": 7,
     "metadata": {},
     "output_type": "execute_result"
    }
   ],
   "source": [
    "# create predictions and confusion matrix\n",
    "y_pred = model.predict(X_test)\n",
    "confusion_matrix(y_test, y_pred)"
   ]
  },
  {
   "cell_type": "code",
   "execution_count": 8,
   "id": "da207c29",
   "metadata": {},
   "outputs": [
    {
     "name": "stdout",
     "output_type": "stream",
     "text": [
      "The accuracy score for the randomly oversampled logistic regression is 0.5298292131326523\n"
     ]
    }
   ],
   "source": [
    "#  accuracy score\n",
    "ros_acc_score = accuracy_score(y_test, y_pred)\n",
    "print(f'The accuracy score for the randomly oversampled logistic regression is {ros_acc_score}')"
   ]
  },
  {
   "cell_type": "markdown",
   "id": "31fdea05",
   "metadata": {},
   "source": [
    "## Synthetic Minority Oversampling Technique (SMOTE)"
   ]
  },
  {
   "cell_type": "code",
   "execution_count": 9,
   "id": "fe30904c",
   "metadata": {},
   "outputs": [
    {
     "data": {
      "text/plain": [
       "Counter({0.0: 36805, 1.0: 36805})"
      ]
     },
     "execution_count": 9,
     "metadata": {},
     "output_type": "execute_result"
    }
   ],
   "source": [
    "# SMOTE the train data sets\n",
    "X_SMOTE, y_SMOTE = SMOTE(sampling_strategy='auto').fit_resample(X_train, y_train)\n",
    "Counter(y_SMOTE)"
   ]
  },
  {
   "cell_type": "code",
   "execution_count": 10,
   "id": "fcfea40b",
   "metadata": {},
   "outputs": [
    {
     "name": "stderr",
     "output_type": "stream",
     "text": [
      "C:\\Users\\rachm\\anaconda3\\envs\\mlenv\\lib\\site-packages\\sklearn\\linear_model\\_logistic.py:818: ConvergenceWarning: lbfgs failed to converge (status=1):\n",
      "STOP: TOTAL NO. of ITERATIONS REACHED LIMIT.\n",
      "\n",
      "Increase the number of iterations (max_iter) or scale the data as shown in:\n",
      "    https://scikit-learn.org/stable/modules/preprocessing.html\n",
      "Please also refer to the documentation for alternative solver options:\n",
      "    https://scikit-learn.org/stable/modules/linear_model.html#logistic-regression\n",
      "  extra_warning_msg=_LOGISTIC_SOLVER_CONVERGENCE_MSG,\n"
     ]
    },
    {
     "data": {
      "text/plain": [
       "LogisticRegression()"
      ]
     },
     "execution_count": 10,
     "metadata": {},
     "output_type": "execute_result"
    }
   ],
   "source": [
    "# initiate new model & fit to the randomly oversampled train data\n",
    "model= LogisticRegression()\n",
    "model.fit(X_SMOTE, y_SMOTE)"
   ]
  },
  {
   "cell_type": "code",
   "execution_count": 11,
   "id": "ace273b5",
   "metadata": {},
   "outputs": [
    {
     "data": {
      "text/plain": [
       "array([[9748, 2517],\n",
       "       [ 448,  110]], dtype=int64)"
      ]
     },
     "execution_count": 11,
     "metadata": {},
     "output_type": "execute_result"
    }
   ],
   "source": [
    "# create predictions and confusion matrix\n",
    "y_pred = model.predict(X_test)\n",
    "confusion_matrix(y_test, y_pred)"
   ]
  },
  {
   "cell_type": "code",
   "execution_count": 12,
   "id": "b50010f8",
   "metadata": {},
   "outputs": [
    {
     "name": "stdout",
     "output_type": "stream",
     "text": [
      "The accuracy score for the SMOTE logistic regression is 0.7687748576776106\n"
     ]
    }
   ],
   "source": [
    "#  accuracy score\n",
    "SMOTE_acc_score = accuracy_score(y_test, y_pred)\n",
    "print(f'The accuracy score for the SMOTE logistic regression is {SMOTE_acc_score}')"
   ]
  },
  {
   "cell_type": "markdown",
   "id": "7a0ba4f7",
   "metadata": {},
   "source": [
    "## Random Undersampling"
   ]
  },
  {
   "cell_type": "code",
   "execution_count": 13,
   "id": "1e0d5f6e",
   "metadata": {},
   "outputs": [
    {
     "data": {
      "text/plain": [
       "Counter({0.0: 1662, 1.0: 1662})"
      ]
     },
     "execution_count": 13,
     "metadata": {},
     "output_type": "execute_result"
    }
   ],
   "source": [
    "# random under sample the train data sets\n",
    "rus = RandomUnderSampler()\n",
    "X_rus, y_rus = rus.fit_resample(X_train, y_train)\n",
    "Counter(y_rus)"
   ]
  },
  {
   "cell_type": "code",
   "execution_count": 14,
   "id": "4119f0b2",
   "metadata": {},
   "outputs": [
    {
     "name": "stderr",
     "output_type": "stream",
     "text": [
      "C:\\Users\\rachm\\anaconda3\\envs\\mlenv\\lib\\site-packages\\sklearn\\linear_model\\_logistic.py:818: ConvergenceWarning: lbfgs failed to converge (status=1):\n",
      "STOP: TOTAL NO. of ITERATIONS REACHED LIMIT.\n",
      "\n",
      "Increase the number of iterations (max_iter) or scale the data as shown in:\n",
      "    https://scikit-learn.org/stable/modules/preprocessing.html\n",
      "Please also refer to the documentation for alternative solver options:\n",
      "    https://scikit-learn.org/stable/modules/linear_model.html#logistic-regression\n",
      "  extra_warning_msg=_LOGISTIC_SOLVER_CONVERGENCE_MSG,\n"
     ]
    },
    {
     "data": {
      "text/plain": [
       "LogisticRegression()"
      ]
     },
     "execution_count": 14,
     "metadata": {},
     "output_type": "execute_result"
    }
   ],
   "source": [
    "# initiate new model & fit to the randomly oversampled train data\n",
    "model= LogisticRegression()\n",
    "model.fit(X_rus, y_rus)"
   ]
  },
  {
   "cell_type": "code",
   "execution_count": 15,
   "id": "8e146aeb",
   "metadata": {},
   "outputs": [
    {
     "data": {
      "text/plain": [
       "array([[5811, 6454],\n",
       "       [ 242,  316]], dtype=int64)"
      ]
     },
     "execution_count": 15,
     "metadata": {},
     "output_type": "execute_result"
    }
   ],
   "source": [
    "# create predictions and confusion matrix\n",
    "y_pred = model.predict(X_test)\n",
    "confusion_matrix(y_test, y_pred)"
   ]
  },
  {
   "cell_type": "code",
   "execution_count": 16,
   "id": "3b857689",
   "metadata": {},
   "outputs": [
    {
     "name": "stdout",
     "output_type": "stream",
     "text": [
      "The accuracy score for the randomly under sampled logistic regression is 0.4778133042189815\n"
     ]
    }
   ],
   "source": [
    "#  accuracy score\n",
    "rus_acc_score = accuracy_score(y_test, y_pred)\n",
    "print(f'The accuracy score for the randomly under sampled logistic regression is {rus_acc_score}')"
   ]
  },
  {
   "cell_type": "markdown",
   "id": "105949d5",
   "metadata": {},
   "source": [
    "## Cluster Centroid Undersampling"
   ]
  },
  {
   "cell_type": "code",
   "execution_count": 17,
   "id": "a887577e",
   "metadata": {},
   "outputs": [],
   "source": [
    "# initiate resampling module & use to resample data\n",
    "cc = ClusterCentroids()\n",
    "X_cc, y_cc = cc.fit_resample(X_train, y_train)\n",
    "#Counter(y_cc)"
   ]
  },
  {
   "cell_type": "code",
   "execution_count": 18,
   "id": "2232c926",
   "metadata": {},
   "outputs": [
    {
     "name": "stderr",
     "output_type": "stream",
     "text": [
      "C:\\Users\\rachm\\anaconda3\\envs\\mlenv\\lib\\site-packages\\sklearn\\linear_model\\_logistic.py:818: ConvergenceWarning: lbfgs failed to converge (status=1):\n",
      "STOP: TOTAL NO. of ITERATIONS REACHED LIMIT.\n",
      "\n",
      "Increase the number of iterations (max_iter) or scale the data as shown in:\n",
      "    https://scikit-learn.org/stable/modules/preprocessing.html\n",
      "Please also refer to the documentation for alternative solver options:\n",
      "    https://scikit-learn.org/stable/modules/linear_model.html#logistic-regression\n",
      "  extra_warning_msg=_LOGISTIC_SOLVER_CONVERGENCE_MSG,\n"
     ]
    },
    {
     "data": {
      "text/plain": [
       "LogisticRegression()"
      ]
     },
     "execution_count": 18,
     "metadata": {},
     "output_type": "execute_result"
    }
   ],
   "source": [
    "# initiate new model & fit to the undersampled train data\n",
    "model= LogisticRegression()\n",
    "model.fit(X_cc, y_cc)"
   ]
  },
  {
   "cell_type": "code",
   "execution_count": 19,
   "id": "3329f400",
   "metadata": {},
   "outputs": [
    {
     "data": {
      "text/plain": [
       "array([[  650, 11615],\n",
       "       [   31,   527]], dtype=int64)"
      ]
     },
     "execution_count": 19,
     "metadata": {},
     "output_type": "execute_result"
    }
   ],
   "source": [
    "# create predictions and confusion matrix\n",
    "y_pred = model.predict(X_test)\n",
    "confusion_matrix(y_test, y_pred)"
   ]
  },
  {
   "cell_type": "code",
   "execution_count": 20,
   "id": "10b6b8b5",
   "metadata": {},
   "outputs": [
    {
     "name": "stdout",
     "output_type": "stream",
     "text": [
      "The accuracy score for the ClusterCentroid logistic regression is 0.09178819309054044\n"
     ]
    }
   ],
   "source": [
    "#  accuracy score\n",
    "cc_acc_score = accuracy_score(y_test, y_pred)\n",
    "print(f'The accuracy score for the ClusterCentroid logistic regression is {cc_acc_score}')"
   ]
  },
  {
   "cell_type": "markdown",
   "id": "3d3cf991",
   "metadata": {},
   "source": [
    "# SMOTE + Edited Nearest Neighbors (SMOTEENN)"
   ]
  },
  {
   "cell_type": "code",
   "execution_count": 21,
   "id": "21cdb80c",
   "metadata": {},
   "outputs": [],
   "source": [
    "# create instance of SMOTEENN and resample train data \n",
    "smote_enn = SMOTEENN()\n",
    "X_SMOTEENN, y_SMOTEENN = smote_enn.fit_resample(X_train, y_train)"
   ]
  },
  {
   "cell_type": "code",
   "execution_count": 22,
   "id": "2133b54b",
   "metadata": {},
   "outputs": [
    {
     "name": "stderr",
     "output_type": "stream",
     "text": [
      "C:\\Users\\rachm\\anaconda3\\envs\\mlenv\\lib\\site-packages\\sklearn\\linear_model\\_logistic.py:818: ConvergenceWarning: lbfgs failed to converge (status=1):\n",
      "STOP: TOTAL NO. of ITERATIONS REACHED LIMIT.\n",
      "\n",
      "Increase the number of iterations (max_iter) or scale the data as shown in:\n",
      "    https://scikit-learn.org/stable/modules/preprocessing.html\n",
      "Please also refer to the documentation for alternative solver options:\n",
      "    https://scikit-learn.org/stable/modules/linear_model.html#logistic-regression\n",
      "  extra_warning_msg=_LOGISTIC_SOLVER_CONVERGENCE_MSG,\n"
     ]
    },
    {
     "data": {
      "text/plain": [
       "LogisticRegression()"
      ]
     },
     "execution_count": 22,
     "metadata": {},
     "output_type": "execute_result"
    }
   ],
   "source": [
    "# initiate new model & fit to the resampled train data\n",
    "model= LogisticRegression()\n",
    "model.fit(X_SMOTEENN, y_SMOTEENN)"
   ]
  },
  {
   "cell_type": "code",
   "execution_count": 23,
   "id": "f4d01a04",
   "metadata": {},
   "outputs": [
    {
     "data": {
      "text/plain": [
       "array([[11094,  1171],\n",
       "       [  510,    48]], dtype=int64)"
      ]
     },
     "execution_count": 23,
     "metadata": {},
     "output_type": "execute_result"
    }
   ],
   "source": [
    "# create predictions and confusion matrix\n",
    "y_pred = model.predict(X_test)\n",
    "confusion_matrix(y_test, y_pred)"
   ]
  },
  {
   "cell_type": "code",
   "execution_count": 24,
   "id": "0d839119",
   "metadata": {},
   "outputs": [
    {
     "name": "stdout",
     "output_type": "stream",
     "text": [
      "The accuracy score for the SMOTEENN sampled logistic regression is 0.8689074319582001\n"
     ]
    }
   ],
   "source": [
    "#  accuracy score\n",
    "SMOTEENN_acc_score = accuracy_score(y_test, y_pred)\n",
    "print(f'The accuracy score for the SMOTEENN sampled logistic regression is {SMOTEENN_acc_score}')"
   ]
  },
  {
   "cell_type": "markdown",
   "id": "3b99e106",
   "metadata": {},
   "source": [
    "# Comparative Results"
   ]
  },
  {
   "cell_type": "code",
   "execution_count": 25,
   "id": "593dbda3",
   "metadata": {},
   "outputs": [
    {
     "name": "stdout",
     "output_type": "stream",
     "text": [
      "The accuracy score for the randomly oversampled logistic regression is 0.5298292131326523\n",
      "The accuracy score for the SMOTE logistic regression is 0.7687748576776106\n",
      "The accuracy score for the randomly under sampled logistic regression is 0.4778133042189815\n",
      "The accuracy score for the ClusterCentroid logistic regression is 0.09178819309054044\n",
      "The accuracy score for the SMOTEENN sampled logistic regression is 0.8689074319582001\n"
     ]
    }
   ],
   "source": [
    "print(f'The accuracy score for the randomly oversampled logistic regression is {ros_acc_score}')\n",
    "print(f'The accuracy score for the SMOTE logistic regression is {SMOTE_acc_score}')\n",
    "print(f'The accuracy score for the randomly under sampled logistic regression is {rus_acc_score}')\n",
    "print(f'The accuracy score for the ClusterCentroid logistic regression is {cc_acc_score}')\n",
    "print(f'The accuracy score for the SMOTEENN sampled logistic regression is {SMOTEENN_acc_score}')"
   ]
  }
 ],
 "metadata": {
  "kernelspec": {
   "display_name": "mlenv",
   "language": "python",
   "name": "mlenv"
  },
  "language_info": {
   "codemirror_mode": {
    "name": "ipython",
    "version": 3
   },
   "file_extension": ".py",
   "mimetype": "text/x-python",
   "name": "python",
   "nbconvert_exporter": "python",
   "pygments_lexer": "ipython3",
   "version": "3.7.11"
  }
 },
 "nbformat": 4,
 "nbformat_minor": 5
}
